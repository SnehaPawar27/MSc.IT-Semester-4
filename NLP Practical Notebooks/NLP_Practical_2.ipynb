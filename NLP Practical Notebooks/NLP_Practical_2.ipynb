{
  "nbformat": 4,
  "nbformat_minor": 0,
  "metadata": {
    "colab": {
      "name": "NLP_Practical 2.ipynb",
      "provenance": [],
      "collapsed_sections": []
    },
    "kernelspec": {
      "name": "python3",
      "display_name": "Python 3"
    },
    "language_info": {
      "name": "python"
    }
  },
  "cells": [
    {
      "cell_type": "markdown",
      "source": [
        "**A. Study of various corpus- brown, inaugural, reuters, udhr with various methods like fields, raw words, sents, categories**"
      ],
      "metadata": {
        "id": "qbdob_2Rtk3g"
      }
    },
    {
      "cell_type": "code",
      "source": [
        "import nltk\n",
        "nltk.download('brown')\n",
        "from nltk.corpus import brown\n",
        "print('File ids of brown corpus\\n',brown.fileids())"
      ],
      "metadata": {
        "colab": {
          "base_uri": "https://localhost:8080/"
        },
        "id": "DY8CSvL4tnoF",
        "outputId": "038e7ff4-b2da-42ec-f800-2c6931c19dc9"
      },
      "execution_count": null,
      "outputs": [
        {
          "output_type": "stream",
          "name": "stdout",
          "text": [
            "[nltk_data] Downloading package brown to /root/nltk_data...\n",
            "[nltk_data]   Unzipping corpora/brown.zip.\n",
            "File ids of brown corpus\n",
            " ['ca01', 'ca02', 'ca03', 'ca04', 'ca05', 'ca06', 'ca07', 'ca08', 'ca09', 'ca10', 'ca11', 'ca12', 'ca13', 'ca14', 'ca15', 'ca16', 'ca17', 'ca18', 'ca19', 'ca20', 'ca21', 'ca22', 'ca23', 'ca24', 'ca25', 'ca26', 'ca27', 'ca28', 'ca29', 'ca30', 'ca31', 'ca32', 'ca33', 'ca34', 'ca35', 'ca36', 'ca37', 'ca38', 'ca39', 'ca40', 'ca41', 'ca42', 'ca43', 'ca44', 'cb01', 'cb02', 'cb03', 'cb04', 'cb05', 'cb06', 'cb07', 'cb08', 'cb09', 'cb10', 'cb11', 'cb12', 'cb13', 'cb14', 'cb15', 'cb16', 'cb17', 'cb18', 'cb19', 'cb20', 'cb21', 'cb22', 'cb23', 'cb24', 'cb25', 'cb26', 'cb27', 'cc01', 'cc02', 'cc03', 'cc04', 'cc05', 'cc06', 'cc07', 'cc08', 'cc09', 'cc10', 'cc11', 'cc12', 'cc13', 'cc14', 'cc15', 'cc16', 'cc17', 'cd01', 'cd02', 'cd03', 'cd04', 'cd05', 'cd06', 'cd07', 'cd08', 'cd09', 'cd10', 'cd11', 'cd12', 'cd13', 'cd14', 'cd15', 'cd16', 'cd17', 'ce01', 'ce02', 'ce03', 'ce04', 'ce05', 'ce06', 'ce07', 'ce08', 'ce09', 'ce10', 'ce11', 'ce12', 'ce13', 'ce14', 'ce15', 'ce16', 'ce17', 'ce18', 'ce19', 'ce20', 'ce21', 'ce22', 'ce23', 'ce24', 'ce25', 'ce26', 'ce27', 'ce28', 'ce29', 'ce30', 'ce31', 'ce32', 'ce33', 'ce34', 'ce35', 'ce36', 'cf01', 'cf02', 'cf03', 'cf04', 'cf05', 'cf06', 'cf07', 'cf08', 'cf09', 'cf10', 'cf11', 'cf12', 'cf13', 'cf14', 'cf15', 'cf16', 'cf17', 'cf18', 'cf19', 'cf20', 'cf21', 'cf22', 'cf23', 'cf24', 'cf25', 'cf26', 'cf27', 'cf28', 'cf29', 'cf30', 'cf31', 'cf32', 'cf33', 'cf34', 'cf35', 'cf36', 'cf37', 'cf38', 'cf39', 'cf40', 'cf41', 'cf42', 'cf43', 'cf44', 'cf45', 'cf46', 'cf47', 'cf48', 'cg01', 'cg02', 'cg03', 'cg04', 'cg05', 'cg06', 'cg07', 'cg08', 'cg09', 'cg10', 'cg11', 'cg12', 'cg13', 'cg14', 'cg15', 'cg16', 'cg17', 'cg18', 'cg19', 'cg20', 'cg21', 'cg22', 'cg23', 'cg24', 'cg25', 'cg26', 'cg27', 'cg28', 'cg29', 'cg30', 'cg31', 'cg32', 'cg33', 'cg34', 'cg35', 'cg36', 'cg37', 'cg38', 'cg39', 'cg40', 'cg41', 'cg42', 'cg43', 'cg44', 'cg45', 'cg46', 'cg47', 'cg48', 'cg49', 'cg50', 'cg51', 'cg52', 'cg53', 'cg54', 'cg55', 'cg56', 'cg57', 'cg58', 'cg59', 'cg60', 'cg61', 'cg62', 'cg63', 'cg64', 'cg65', 'cg66', 'cg67', 'cg68', 'cg69', 'cg70', 'cg71', 'cg72', 'cg73', 'cg74', 'cg75', 'ch01', 'ch02', 'ch03', 'ch04', 'ch05', 'ch06', 'ch07', 'ch08', 'ch09', 'ch10', 'ch11', 'ch12', 'ch13', 'ch14', 'ch15', 'ch16', 'ch17', 'ch18', 'ch19', 'ch20', 'ch21', 'ch22', 'ch23', 'ch24', 'ch25', 'ch26', 'ch27', 'ch28', 'ch29', 'ch30', 'cj01', 'cj02', 'cj03', 'cj04', 'cj05', 'cj06', 'cj07', 'cj08', 'cj09', 'cj10', 'cj11', 'cj12', 'cj13', 'cj14', 'cj15', 'cj16', 'cj17', 'cj18', 'cj19', 'cj20', 'cj21', 'cj22', 'cj23', 'cj24', 'cj25', 'cj26', 'cj27', 'cj28', 'cj29', 'cj30', 'cj31', 'cj32', 'cj33', 'cj34', 'cj35', 'cj36', 'cj37', 'cj38', 'cj39', 'cj40', 'cj41', 'cj42', 'cj43', 'cj44', 'cj45', 'cj46', 'cj47', 'cj48', 'cj49', 'cj50', 'cj51', 'cj52', 'cj53', 'cj54', 'cj55', 'cj56', 'cj57', 'cj58', 'cj59', 'cj60', 'cj61', 'cj62', 'cj63', 'cj64', 'cj65', 'cj66', 'cj67', 'cj68', 'cj69', 'cj70', 'cj71', 'cj72', 'cj73', 'cj74', 'cj75', 'cj76', 'cj77', 'cj78', 'cj79', 'cj80', 'ck01', 'ck02', 'ck03', 'ck04', 'ck05', 'ck06', 'ck07', 'ck08', 'ck09', 'ck10', 'ck11', 'ck12', 'ck13', 'ck14', 'ck15', 'ck16', 'ck17', 'ck18', 'ck19', 'ck20', 'ck21', 'ck22', 'ck23', 'ck24', 'ck25', 'ck26', 'ck27', 'ck28', 'ck29', 'cl01', 'cl02', 'cl03', 'cl04', 'cl05', 'cl06', 'cl07', 'cl08', 'cl09', 'cl10', 'cl11', 'cl12', 'cl13', 'cl14', 'cl15', 'cl16', 'cl17', 'cl18', 'cl19', 'cl20', 'cl21', 'cl22', 'cl23', 'cl24', 'cm01', 'cm02', 'cm03', 'cm04', 'cm05', 'cm06', 'cn01', 'cn02', 'cn03', 'cn04', 'cn05', 'cn06', 'cn07', 'cn08', 'cn09', 'cn10', 'cn11', 'cn12', 'cn13', 'cn14', 'cn15', 'cn16', 'cn17', 'cn18', 'cn19', 'cn20', 'cn21', 'cn22', 'cn23', 'cn24', 'cn25', 'cn26', 'cn27', 'cn28', 'cn29', 'cp01', 'cp02', 'cp03', 'cp04', 'cp05', 'cp06', 'cp07', 'cp08', 'cp09', 'cp10', 'cp11', 'cp12', 'cp13', 'cp14', 'cp15', 'cp16', 'cp17', 'cp18', 'cp19', 'cp20', 'cp21', 'cp22', 'cp23', 'cp24', 'cp25', 'cp26', 'cp27', 'cp28', 'cp29', 'cr01', 'cr02', 'cr03', 'cr04', 'cr05', 'cr06', 'cr07', 'cr08', 'cr09']\n"
          ]
        }
      ]
    },
    {
      "cell_type": "code",
      "source": [
        "ca01 = brown.words('ca01')\n",
        "#display the first few words\n",
        "print('\\nca01 has following words:\\n',ca01)"
      ],
      "metadata": {
        "colab": {
          "base_uri": "https://localhost:8080/"
        },
        "id": "TTadzHK7tyQ8",
        "outputId": "91930ce3-be2f-44a4-f14d-ea4d24cfdbfe"
      },
      "execution_count": null,
      "outputs": [
        {
          "output_type": "stream",
          "name": "stdout",
          "text": [
            "\n",
            "ca01 has following words:\n",
            " ['The', 'Fulton', 'County', 'Grand', 'Jury', 'said', ...]\n"
          ]
        }
      ]
    },
    {
      "cell_type": "code",
      "execution_count": null,
      "metadata": {
        "colab": {
          "base_uri": "https://localhost:8080/"
        },
        "id": "q8a4-fW1sf9m",
        "outputId": "3b1469f8-fcf9-46d0-f1d4-e4fb87159785"
      },
      "outputs": [
        {
          "output_type": "stream",
          "name": "stdout",
          "text": [
            "\n",
            "ca01 has 2242 words\n"
          ]
        }
      ],
      "source": [
        "#total number of words in ca01\n",
        "print('\\nca01 has',len(ca01),'words')"
      ]
    },
    {
      "cell_type": "code",
      "source": [
        "#categories or files \n",
        "print ('\\n\\nCategories or file in brown corpus:\\n')\n",
        "print (brown.categories())"
      ],
      "metadata": {
        "colab": {
          "base_uri": "https://localhost:8080/"
        },
        "id": "P_ttt3ukt5EV",
        "outputId": "bd599a58-a1cc-49ad-a6b0-392374f62bf7"
      },
      "execution_count": null,
      "outputs": [
        {
          "output_type": "stream",
          "name": "stdout",
          "text": [
            "\n",
            "\n",
            "Categories or file in brown corpus:\n",
            "\n",
            "['adventure', 'belles_lettres', 'editorial', 'fiction', 'government', 'hobbies', 'humor', 'learned', 'lore', 'mystery', 'news', 'religion', 'reviews', 'romance', 'science_fiction']\n"
          ]
        }
      ]
    },
    {
      "cell_type": "code",
      "source": [
        "print ('\\n\\nStatistics for each text:\\n')\n",
        "print('AvgWordLen\\tAvgSentenceLen\\tno.ofTimesEachWordAppearsOnAvg\\t\\tFileName')\n",
        "for fileid in brown.fileids():\n",
        "  num_chars = len(brown.raw(fileid))\n",
        "  num_words = len(brown.words(fileid))\n",
        "  num_sents = len(brown.sents(fileid))\n",
        "  num_vocab = len(set([w.lower() for w in brown.words(fileid)]))\n",
        "print (int(num_chars/num_words),'\\t\\t\\t', int(num_words/num_sents),'\\t\\t\\t', int(num_words/num_vocab),'\\t\\t\\t', fileid)"
      ],
      "metadata": {
        "colab": {
          "base_uri": "https://localhost:8080/"
        },
        "id": "oMGt2MHNt-HQ",
        "outputId": "ff535e27-c266-45b5-fb0e-e66c92daaa47"
      },
      "execution_count": null,
      "outputs": [
        {
          "output_type": "stream",
          "name": "stdout",
          "text": [
            "\n",
            "\n",
            "Statistics for each text:\n",
            "\n",
            "AvgWordLen\tAvgSentenceLen\tno.ofTimesEachWordAppearsOnAvg\t\tFileName\n",
            "8 \t\t\t 23 \t\t\t 2 \t\t\t cr09\n"
          ]
        }
      ]
    },
    {
      "cell_type": "code",
      "source": [
        ""
      ],
      "metadata": {
        "id": "P4oAzWaovb70"
      },
      "execution_count": null,
      "outputs": []
    },
    {
      "cell_type": "code",
      "source": [
        "print ('\\n\\nStatistics for each text:\\n')\n",
        "print('AvgWordLen\\tAvgSentenceLen\\tno.ofTimesEachWordAppearsOnAvg\\t\\tFileName')\n",
        "for fileid in brown.fileids():\n",
        "  num_chars = len(brown.raw(fileid))\n",
        "  num_words = len(brown.words(fileid))\n",
        "  num_sents = len(brown.sents(fileid))\n",
        "  num_vocab = len(set([w.lower() for w in brown.words(fileid)]))\n",
        "  print (int(num_chars/num_words),'\\t\\t\\t', int(num_words/num_sents),'\\t\\t\\t', int(num_words/num_vocab),'\\t\\t\\t', fileid)\n"
      ],
      "metadata": {
        "colab": {
          "base_uri": "https://localhost:8080/"
        },
        "id": "22lwOg63i3PP",
        "outputId": "7283fb77-622f-47e6-b1a7-833d94c4c739"
      },
      "execution_count": null,
      "outputs": [
        {
          "output_type": "stream",
          "name": "stdout",
          "text": [
            "\n",
            "\n",
            "Statistics for each text:\n",
            "\n",
            "AvgWordLen\tAvgSentenceLen\tno.ofTimesEachWordAppearsOnAvg\t\tFileName\n",
            "9 \t\t\t 22 \t\t\t 2 \t\t\t ca01\n",
            "8 \t\t\t 23 \t\t\t 2 \t\t\t ca02\n",
            "8 \t\t\t 20 \t\t\t 2 \t\t\t ca03\n",
            "9 \t\t\t 25 \t\t\t 2 \t\t\t ca04\n",
            "8 \t\t\t 26 \t\t\t 3 \t\t\t ca05\n",
            "8 \t\t\t 22 \t\t\t 2 \t\t\t ca06\n",
            "9 \t\t\t 18 \t\t\t 2 \t\t\t ca07\n",
            "8 \t\t\t 21 \t\t\t 2 \t\t\t ca08\n",
            "9 \t\t\t 19 \t\t\t 2 \t\t\t ca09\n",
            "8 \t\t\t 21 \t\t\t 2 \t\t\t ca10\n",
            "8 \t\t\t 22 \t\t\t 2 \t\t\t ca11\n",
            "8 \t\t\t 22 \t\t\t 2 \t\t\t ca12\n",
            "8 \t\t\t 20 \t\t\t 2 \t\t\t ca13\n",
            "8 \t\t\t 17 \t\t\t 2 \t\t\t ca14\n",
            "8 \t\t\t 21 \t\t\t 2 \t\t\t ca15\n",
            "8 \t\t\t 20 \t\t\t 2 \t\t\t ca16\n",
            "8 \t\t\t 22 \t\t\t 2 \t\t\t ca17\n",
            "8 \t\t\t 22 \t\t\t 2 \t\t\t ca18\n",
            "8 \t\t\t 20 \t\t\t 2 \t\t\t ca19\n",
            "8 \t\t\t 23 \t\t\t 2 \t\t\t ca20\n",
            "9 \t\t\t 20 \t\t\t 2 \t\t\t ca21\n",
            "8 \t\t\t 21 \t\t\t 2 \t\t\t ca22\n",
            "8 \t\t\t 20 \t\t\t 2 \t\t\t ca23\n",
            "8 \t\t\t 22 \t\t\t 2 \t\t\t ca24\n",
            "8 \t\t\t 21 \t\t\t 2 \t\t\t ca25\n",
            "8 \t\t\t 21 \t\t\t 2 \t\t\t ca26\n",
            "8 \t\t\t 19 \t\t\t 2 \t\t\t ca27\n",
            "8 \t\t\t 23 \t\t\t 2 \t\t\t ca28\n",
            "8 \t\t\t 19 \t\t\t 2 \t\t\t ca29\n",
            "8 \t\t\t 19 \t\t\t 2 \t\t\t ca30\n",
            "8 \t\t\t 20 \t\t\t 2 \t\t\t ca31\n",
            "8 \t\t\t 18 \t\t\t 2 \t\t\t ca32\n",
            "8 \t\t\t 24 \t\t\t 2 \t\t\t ca33\n",
            "8 \t\t\t 23 \t\t\t 3 \t\t\t ca34\n",
            "8 \t\t\t 29 \t\t\t 3 \t\t\t ca35\n",
            "9 \t\t\t 25 \t\t\t 2 \t\t\t ca36\n",
            "8 \t\t\t 24 \t\t\t 2 \t\t\t ca37\n",
            "8 \t\t\t 23 \t\t\t 3 \t\t\t ca38\n",
            "8 \t\t\t 19 \t\t\t 2 \t\t\t ca39\n",
            "8 \t\t\t 24 \t\t\t 2 \t\t\t ca40\n",
            "8 \t\t\t 22 \t\t\t 2 \t\t\t ca41\n",
            "8 \t\t\t 22 \t\t\t 2 \t\t\t ca42\n",
            "8 \t\t\t 17 \t\t\t 3 \t\t\t ca43\n",
            "8 \t\t\t 24 \t\t\t 2 \t\t\t ca44\n",
            "9 \t\t\t 21 \t\t\t 2 \t\t\t cb01\n",
            "9 \t\t\t 23 \t\t\t 2 \t\t\t cb02\n",
            "8 \t\t\t 23 \t\t\t 2 \t\t\t cb03\n",
            "8 \t\t\t 19 \t\t\t 2 \t\t\t cb04\n",
            "8 \t\t\t 21 \t\t\t 2 \t\t\t cb05\n",
            "9 \t\t\t 22 \t\t\t 2 \t\t\t cb06\n",
            "9 \t\t\t 24 \t\t\t 2 \t\t\t cb07\n",
            "8 \t\t\t 18 \t\t\t 3 \t\t\t cb08\n",
            "8 \t\t\t 18 \t\t\t 2 \t\t\t cb09\n",
            "8 \t\t\t 16 \t\t\t 3 \t\t\t cb10\n",
            "9 \t\t\t 20 \t\t\t 2 \t\t\t cb11\n",
            "8 \t\t\t 21 \t\t\t 2 \t\t\t cb12\n",
            "8 \t\t\t 15 \t\t\t 2 \t\t\t cb13\n",
            "8 \t\t\t 19 \t\t\t 2 \t\t\t cb14\n",
            "8 \t\t\t 22 \t\t\t 2 \t\t\t cb15\n",
            "8 \t\t\t 18 \t\t\t 2 \t\t\t cb16\n",
            "8 \t\t\t 18 \t\t\t 2 \t\t\t cb17\n",
            "9 \t\t\t 19 \t\t\t 2 \t\t\t cb18\n",
            "8 \t\t\t 16 \t\t\t 2 \t\t\t cb19\n",
            "8 \t\t\t 20 \t\t\t 2 \t\t\t cb20\n",
            "8 \t\t\t 29 \t\t\t 2 \t\t\t cb21\n",
            "8 \t\t\t 24 \t\t\t 2 \t\t\t cb22\n",
            "8 \t\t\t 17 \t\t\t 2 \t\t\t cb23\n",
            "8 \t\t\t 21 \t\t\t 2 \t\t\t cb24\n",
            "8 \t\t\t 29 \t\t\t 2 \t\t\t cb25\n",
            "8 \t\t\t 20 \t\t\t 2 \t\t\t cb26\n",
            "8 \t\t\t 20 \t\t\t 2 \t\t\t cb27\n",
            "8 \t\t\t 20 \t\t\t 2 \t\t\t cc01\n",
            "8 \t\t\t 23 \t\t\t 2 \t\t\t cc02\n",
            "8 \t\t\t 20 \t\t\t 2 \t\t\t cc03\n",
            "8 \t\t\t 22 \t\t\t 2 \t\t\t cc04\n",
            "8 \t\t\t 22 \t\t\t 2 \t\t\t cc05\n",
            "8 \t\t\t 29 \t\t\t 2 \t\t\t cc06\n",
            "8 \t\t\t 20 \t\t\t 2 \t\t\t cc07\n",
            "8 \t\t\t 25 \t\t\t 2 \t\t\t cc08\n",
            "8 \t\t\t 26 \t\t\t 2 \t\t\t cc09\n",
            "8 \t\t\t 22 \t\t\t 2 \t\t\t cc10\n",
            "8 \t\t\t 22 \t\t\t 2 \t\t\t cc11\n",
            "8 \t\t\t 25 \t\t\t 2 \t\t\t cc12\n",
            "8 \t\t\t 24 \t\t\t 2 \t\t\t cc13\n",
            "8 \t\t\t 25 \t\t\t 2 \t\t\t cc14\n",
            "8 \t\t\t 19 \t\t\t 2 \t\t\t cc15\n",
            "8 \t\t\t 24 \t\t\t 2 \t\t\t cc16\n",
            "8 \t\t\t 23 \t\t\t 2 \t\t\t cc17\n",
            "8 \t\t\t 26 \t\t\t 3 \t\t\t cd01\n",
            "8 \t\t\t 34 \t\t\t 3 \t\t\t cd02\n",
            "8 \t\t\t 27 \t\t\t 2 \t\t\t cd03\n",
            "8 \t\t\t 24 \t\t\t 3 \t\t\t cd04\n",
            "8 \t\t\t 33 \t\t\t 2 \t\t\t cd05\n",
            "8 \t\t\t 26 \t\t\t 3 \t\t\t cd06\n",
            "8 \t\t\t 19 \t\t\t 3 \t\t\t cd07\n",
            "8 \t\t\t 32 \t\t\t 3 \t\t\t cd08\n",
            "8 \t\t\t 13 \t\t\t 3 \t\t\t cd09\n",
            "9 \t\t\t 23 \t\t\t 2 \t\t\t cd10\n",
            "8 \t\t\t 34 \t\t\t 3 \t\t\t cd11\n",
            "9 \t\t\t 28 \t\t\t 2 \t\t\t cd12\n",
            "8 \t\t\t 21 \t\t\t 3 \t\t\t cd13\n",
            "9 \t\t\t 24 \t\t\t 2 \t\t\t cd14\n",
            "8 \t\t\t 23 \t\t\t 2 \t\t\t cd15\n",
            "8 \t\t\t 14 \t\t\t 4 \t\t\t cd16\n",
            "8 \t\t\t 15 \t\t\t 2 \t\t\t cd17\n",
            "8 \t\t\t 21 \t\t\t 2 \t\t\t ce01\n",
            "8 \t\t\t 18 \t\t\t 2 \t\t\t ce02\n",
            "8 \t\t\t 22 \t\t\t 3 \t\t\t ce03\n",
            "8 \t\t\t 23 \t\t\t 2 \t\t\t ce04\n",
            "8 \t\t\t 20 \t\t\t 3 \t\t\t ce05\n",
            "8 \t\t\t 23 \t\t\t 2 \t\t\t ce06\n",
            "8 \t\t\t 17 \t\t\t 3 \t\t\t ce07\n",
            "8 \t\t\t 17 \t\t\t 4 \t\t\t ce08\n",
            "8 \t\t\t 17 \t\t\t 3 \t\t\t ce09\n",
            "8 \t\t\t 18 \t\t\t 2 \t\t\t ce10\n",
            "8 \t\t\t 20 \t\t\t 2 \t\t\t ce11\n",
            "9 \t\t\t 18 \t\t\t 2 \t\t\t ce12\n",
            "8 \t\t\t 30 \t\t\t 3 \t\t\t ce13\n",
            "8 \t\t\t 13 \t\t\t 2 \t\t\t ce14\n",
            "8 \t\t\t 11 \t\t\t 3 \t\t\t ce15\n",
            "8 \t\t\t 17 \t\t\t 3 \t\t\t ce16\n",
            "8 \t\t\t 20 \t\t\t 3 \t\t\t ce17\n",
            "8 \t\t\t 27 \t\t\t 2 \t\t\t ce18\n",
            "8 \t\t\t 20 \t\t\t 2 \t\t\t ce19\n",
            "8 \t\t\t 18 \t\t\t 3 \t\t\t ce20\n",
            "8 \t\t\t 19 \t\t\t 3 \t\t\t ce21\n",
            "8 \t\t\t 22 \t\t\t 2 \t\t\t ce22\n",
            "8 \t\t\t 25 \t\t\t 2 \t\t\t ce23\n",
            "8 \t\t\t 18 \t\t\t 3 \t\t\t ce24\n",
            "9 \t\t\t 23 \t\t\t 2 \t\t\t ce25\n",
            "8 \t\t\t 24 \t\t\t 2 \t\t\t ce26\n",
            "8 \t\t\t 12 \t\t\t 4 \t\t\t ce27\n",
            "9 \t\t\t 18 \t\t\t 3 \t\t\t ce28\n",
            "8 \t\t\t 25 \t\t\t 3 \t\t\t ce29\n",
            "9 \t\t\t 15 \t\t\t 2 \t\t\t ce30\n",
            "9 \t\t\t 21 \t\t\t 2 \t\t\t ce31\n",
            "9 \t\t\t 19 \t\t\t 3 \t\t\t ce32\n",
            "8 \t\t\t 19 \t\t\t 2 \t\t\t ce33\n",
            "8 \t\t\t 21 \t\t\t 2 \t\t\t ce34\n",
            "8 \t\t\t 20 \t\t\t 3 \t\t\t ce35\n",
            "8 \t\t\t 29 \t\t\t 3 \t\t\t ce36\n",
            "8 \t\t\t 32 \t\t\t 2 \t\t\t cf01\n",
            "8 \t\t\t 18 \t\t\t 2 \t\t\t cf02\n",
            "8 \t\t\t 30 \t\t\t 2 \t\t\t cf03\n",
            "8 \t\t\t 18 \t\t\t 2 \t\t\t cf04\n",
            "8 \t\t\t 25 \t\t\t 2 \t\t\t cf05\n",
            "8 \t\t\t 14 \t\t\t 3 \t\t\t cf06\n",
            "8 \t\t\t 24 \t\t\t 2 \t\t\t cf07\n",
            "8 \t\t\t 20 \t\t\t 2 \t\t\t cf08\n",
            "8 \t\t\t 17 \t\t\t 2 \t\t\t cf09\n",
            "8 \t\t\t 22 \t\t\t 2 \t\t\t cf10\n",
            "8 \t\t\t 19 \t\t\t 3 \t\t\t cf11\n",
            "8 \t\t\t 24 \t\t\t 3 \t\t\t cf12\n",
            "8 \t\t\t 16 \t\t\t 3 \t\t\t cf13\n",
            "8 \t\t\t 32 \t\t\t 2 \t\t\t cf14\n",
            "9 \t\t\t 27 \t\t\t 2 \t\t\t cf15\n",
            "8 \t\t\t 18 \t\t\t 2 \t\t\t cf16\n",
            "8 \t\t\t 30 \t\t\t 2 \t\t\t cf17\n",
            "8 \t\t\t 23 \t\t\t 2 \t\t\t cf18\n",
            "8 \t\t\t 26 \t\t\t 2 \t\t\t cf19\n",
            "8 \t\t\t 25 \t\t\t 2 \t\t\t cf20\n",
            "8 \t\t\t 20 \t\t\t 2 \t\t\t cf21\n",
            "8 \t\t\t 20 \t\t\t 3 \t\t\t cf22\n",
            "8 \t\t\t 22 \t\t\t 2 \t\t\t cf23\n",
            "8 \t\t\t 16 \t\t\t 2 \t\t\t cf24\n",
            "8 \t\t\t 21 \t\t\t 2 \t\t\t cf25\n",
            "8 \t\t\t 18 \t\t\t 3 \t\t\t cf26\n",
            "8 \t\t\t 26 \t\t\t 3 \t\t\t cf27\n",
            "8 \t\t\t 23 \t\t\t 2 \t\t\t cf28\n",
            "8 \t\t\t 23 \t\t\t 2 \t\t\t cf29\n",
            "8 \t\t\t 23 \t\t\t 2 \t\t\t cf30\n",
            "8 \t\t\t 21 \t\t\t 3 \t\t\t cf31\n",
            "8 \t\t\t 20 \t\t\t 2 \t\t\t cf32\n",
            "8 \t\t\t 24 \t\t\t 3 \t\t\t cf33\n",
            "8 \t\t\t 20 \t\t\t 3 \t\t\t cf34\n",
            "8 \t\t\t 24 \t\t\t 3 \t\t\t cf35\n",
            "8 \t\t\t 18 \t\t\t 3 \t\t\t cf36\n",
            "8 \t\t\t 23 \t\t\t 3 \t\t\t cf37\n",
            "8 \t\t\t 40 \t\t\t 2 \t\t\t cf38\n",
            "9 \t\t\t 30 \t\t\t 3 \t\t\t cf39\n",
            "9 \t\t\t 26 \t\t\t 2 \t\t\t cf40\n",
            "8 \t\t\t 22 \t\t\t 3 \t\t\t cf41\n",
            "8 \t\t\t 22 \t\t\t 3 \t\t\t cf42\n",
            "8 \t\t\t 23 \t\t\t 3 \t\t\t cf43\n",
            "9 \t\t\t 23 \t\t\t 3 \t\t\t cf44\n",
            "8 \t\t\t 22 \t\t\t 3 \t\t\t cf45\n",
            "9 \t\t\t 20 \t\t\t 2 \t\t\t cf46\n",
            "8 \t\t\t 21 \t\t\t 3 \t\t\t cf47\n",
            "8 \t\t\t 38 \t\t\t 3 \t\t\t cf48\n",
            "8 \t\t\t 22 \t\t\t 2 \t\t\t cg01\n",
            "9 \t\t\t 25 \t\t\t 2 \t\t\t cg02\n",
            "8 \t\t\t 19 \t\t\t 2 \t\t\t cg03\n",
            "8 \t\t\t 16 \t\t\t 3 \t\t\t cg04\n",
            "8 \t\t\t 24 \t\t\t 2 \t\t\t cg05\n",
            "8 \t\t\t 22 \t\t\t 2 \t\t\t cg06\n",
            "9 \t\t\t 26 \t\t\t 2 \t\t\t cg07\n",
            "8 \t\t\t 26 \t\t\t 2 \t\t\t cg08\n",
            "8 \t\t\t 21 \t\t\t 2 \t\t\t cg09\n",
            "8 \t\t\t 32 \t\t\t 3 \t\t\t cg10\n",
            "8 \t\t\t 24 \t\t\t 2 \t\t\t cg11\n",
            "8 \t\t\t 16 \t\t\t 3 \t\t\t cg12\n",
            "8 \t\t\t 22 \t\t\t 2 \t\t\t cg13\n",
            "8 \t\t\t 23 \t\t\t 2 \t\t\t cg14\n",
            "8 \t\t\t 27 \t\t\t 3 \t\t\t cg15\n",
            "8 \t\t\t 30 \t\t\t 3 \t\t\t cg16\n",
            "8 \t\t\t 22 \t\t\t 2 \t\t\t cg17\n",
            "8 \t\t\t 21 \t\t\t 2 \t\t\t cg18\n",
            "8 \t\t\t 19 \t\t\t 2 \t\t\t cg19\n",
            "8 \t\t\t 25 \t\t\t 3 \t\t\t cg20\n",
            "8 \t\t\t 25 \t\t\t 2 \t\t\t cg21\n",
            "8 \t\t\t 24 \t\t\t 2 \t\t\t cg22\n",
            "8 \t\t\t 18 \t\t\t 2 \t\t\t cg23\n",
            "8 \t\t\t 30 \t\t\t 2 \t\t\t cg24\n",
            "8 \t\t\t 21 \t\t\t 3 \t\t\t cg25\n",
            "8 \t\t\t 25 \t\t\t 3 \t\t\t cg26\n",
            "8 \t\t\t 23 \t\t\t 2 \t\t\t cg27\n",
            "8 \t\t\t 34 \t\t\t 2 \t\t\t cg28\n",
            "8 \t\t\t 28 \t\t\t 2 \t\t\t cg29\n",
            "8 \t\t\t 19 \t\t\t 2 \t\t\t cg30\n",
            "8 \t\t\t 32 \t\t\t 2 \t\t\t cg31\n",
            "8 \t\t\t 22 \t\t\t 2 \t\t\t cg32\n",
            "8 \t\t\t 31 \t\t\t 2 \t\t\t cg33\n",
            "8 \t\t\t 19 \t\t\t 2 \t\t\t cg34\n",
            "8 \t\t\t 22 \t\t\t 2 \t\t\t cg35\n",
            "8 \t\t\t 16 \t\t\t 3 \t\t\t cg36\n",
            "8 \t\t\t 20 \t\t\t 2 \t\t\t cg37\n",
            "8 \t\t\t 30 \t\t\t 3 \t\t\t cg38\n",
            "8 \t\t\t 24 \t\t\t 2 \t\t\t cg39\n",
            "8 \t\t\t 19 \t\t\t 2 \t\t\t cg40\n",
            "8 \t\t\t 20 \t\t\t 3 \t\t\t cg41\n",
            "9 \t\t\t 22 \t\t\t 2 \t\t\t cg42\n",
            "8 \t\t\t 29 \t\t\t 3 \t\t\t cg43\n",
            "8 \t\t\t 31 \t\t\t 3 \t\t\t cg44\n",
            "8 \t\t\t 23 \t\t\t 2 \t\t\t cg45\n",
            "9 \t\t\t 26 \t\t\t 2 \t\t\t cg46\n",
            "8 \t\t\t 18 \t\t\t 3 \t\t\t cg47\n",
            "8 \t\t\t 21 \t\t\t 2 \t\t\t cg48\n",
            "8 \t\t\t 28 \t\t\t 3 \t\t\t cg49\n",
            "8 \t\t\t 22 \t\t\t 2 \t\t\t cg50\n",
            "8 \t\t\t 21 \t\t\t 2 \t\t\t cg51\n",
            "8 \t\t\t 26 \t\t\t 2 \t\t\t cg52\n",
            "8 \t\t\t 22 \t\t\t 2 \t\t\t cg53\n",
            "8 \t\t\t 19 \t\t\t 3 \t\t\t cg54\n",
            "8 \t\t\t 20 \t\t\t 3 \t\t\t cg55\n",
            "8 \t\t\t 26 \t\t\t 3 \t\t\t cg56\n",
            "8 \t\t\t 27 \t\t\t 2 \t\t\t cg57\n",
            "8 \t\t\t 30 \t\t\t 2 \t\t\t cg58\n",
            "8 \t\t\t 46 \t\t\t 2 \t\t\t cg59\n",
            "8 \t\t\t 18 \t\t\t 3 \t\t\t cg60\n",
            "9 \t\t\t 27 \t\t\t 2 \t\t\t cg61\n",
            "8 \t\t\t 27 \t\t\t 2 \t\t\t cg62\n",
            "8 \t\t\t 20 \t\t\t 2 \t\t\t cg63\n",
            "8 \t\t\t 33 \t\t\t 2 \t\t\t cg64\n",
            "8 \t\t\t 24 \t\t\t 2 \t\t\t cg65\n",
            "8 \t\t\t 32 \t\t\t 2 \t\t\t cg66\n",
            "8 \t\t\t 28 \t\t\t 3 \t\t\t cg67\n",
            "8 \t\t\t 29 \t\t\t 2 \t\t\t cg68\n",
            "8 \t\t\t 42 \t\t\t 2 \t\t\t cg69\n",
            "8 \t\t\t 25 \t\t\t 3 \t\t\t cg70\n",
            "8 \t\t\t 31 \t\t\t 2 \t\t\t cg71\n",
            "8 \t\t\t 27 \t\t\t 3 \t\t\t cg72\n",
            "8 \t\t\t 23 \t\t\t 3 \t\t\t cg73\n",
            "8 \t\t\t 24 \t\t\t 2 \t\t\t cg74\n",
            "8 \t\t\t 17 \t\t\t 3 \t\t\t cg75\n",
            "9 \t\t\t 16 \t\t\t 3 \t\t\t ch01\n",
            "9 \t\t\t 20 \t\t\t 3 \t\t\t ch02\n",
            "8 \t\t\t 26 \t\t\t 3 \t\t\t ch03\n",
            "9 \t\t\t 18 \t\t\t 3 \t\t\t ch04\n",
            "8 \t\t\t 26 \t\t\t 3 \t\t\t ch05\n",
            "9 \t\t\t 22 \t\t\t 2 \t\t\t ch06\n",
            "8 \t\t\t 18 \t\t\t 3 \t\t\t ch07\n",
            "9 \t\t\t 28 \t\t\t 3 \t\t\t ch08\n",
            "8 \t\t\t 23 \t\t\t 3 \t\t\t ch09\n",
            "9 \t\t\t 21 \t\t\t 3 \t\t\t ch10\n",
            "9 \t\t\t 22 \t\t\t 2 \t\t\t ch11\n",
            "8 \t\t\t 30 \t\t\t 5 \t\t\t ch12\n",
            "8 \t\t\t 22 \t\t\t 2 \t\t\t ch13\n",
            "8 \t\t\t 21 \t\t\t 5 \t\t\t ch14\n",
            "8 \t\t\t 14 \t\t\t 3 \t\t\t ch15\n",
            "8 \t\t\t 29 \t\t\t 3 \t\t\t ch16\n",
            "8 \t\t\t 23 \t\t\t 3 \t\t\t ch17\n",
            "8 \t\t\t 26 \t\t\t 3 \t\t\t ch18\n",
            "9 \t\t\t 23 \t\t\t 3 \t\t\t ch19\n",
            "9 \t\t\t 22 \t\t\t 3 \t\t\t ch20\n",
            "9 \t\t\t 25 \t\t\t 3 \t\t\t ch21\n",
            "9 \t\t\t 30 \t\t\t 4 \t\t\t ch22\n",
            "9 \t\t\t 32 \t\t\t 4 \t\t\t ch23\n",
            "8 \t\t\t 19 \t\t\t 4 \t\t\t ch24\n",
            "8 \t\t\t 28 \t\t\t 3 \t\t\t ch25\n",
            "9 \t\t\t 31 \t\t\t 3 \t\t\t ch26\n",
            "9 \t\t\t 20 \t\t\t 2 \t\t\t ch27\n",
            "9 \t\t\t 19 \t\t\t 3 \t\t\t ch28\n",
            "9 \t\t\t 30 \t\t\t 3 \t\t\t ch29\n",
            "9 \t\t\t 22 \t\t\t 2 \t\t\t ch30\n",
            "8 \t\t\t 30 \t\t\t 3 \t\t\t cj01\n",
            "8 \t\t\t 19 \t\t\t 3 \t\t\t cj02\n",
            "8 \t\t\t 26 \t\t\t 3 \t\t\t cj03\n",
            "8 \t\t\t 20 \t\t\t 3 \t\t\t cj04\n",
            "9 \t\t\t 23 \t\t\t 3 \t\t\t cj05\n",
            "9 \t\t\t 26 \t\t\t 3 \t\t\t cj06\n",
            "8 \t\t\t 23 \t\t\t 3 \t\t\t cj07\n",
            "9 \t\t\t 19 \t\t\t 2 \t\t\t cj08\n",
            "8 \t\t\t 23 \t\t\t 3 \t\t\t cj09\n",
            "8 \t\t\t 23 \t\t\t 3 \t\t\t cj10\n",
            "8 \t\t\t 22 \t\t\t 3 \t\t\t cj11\n",
            "8 \t\t\t 22 \t\t\t 3 \t\t\t cj12\n",
            "8 \t\t\t 30 \t\t\t 4 \t\t\t cj13\n",
            "9 \t\t\t 21 \t\t\t 3 \t\t\t cj14\n",
            "9 \t\t\t 20 \t\t\t 2 \t\t\t cj15\n",
            "8 \t\t\t 24 \t\t\t 4 \t\t\t cj16\n",
            "9 \t\t\t 26 \t\t\t 3 \t\t\t cj17\n",
            "7 \t\t\t 18 \t\t\t 6 \t\t\t cj18\n",
            "8 \t\t\t 18 \t\t\t 4 \t\t\t cj19\n",
            "8 \t\t\t 20 \t\t\t 5 \t\t\t cj20\n",
            "8 \t\t\t 28 \t\t\t 7 \t\t\t cj21\n",
            "9 \t\t\t 25 \t\t\t 2 \t\t\t cj22\n",
            "8 \t\t\t 21 \t\t\t 3 \t\t\t cj23\n",
            "9 \t\t\t 34 \t\t\t 2 \t\t\t cj24\n",
            "9 \t\t\t 19 \t\t\t 3 \t\t\t cj25\n",
            "9 \t\t\t 22 \t\t\t 3 \t\t\t cj26\n",
            "8 \t\t\t 23 \t\t\t 3 \t\t\t cj27\n",
            "9 \t\t\t 25 \t\t\t 3 \t\t\t cj28\n",
            "9 \t\t\t 23 \t\t\t 3 \t\t\t cj29\n",
            "8 \t\t\t 21 \t\t\t 3 \t\t\t cj30\n",
            "8 \t\t\t 38 \t\t\t 3 \t\t\t cj31\n",
            "8 \t\t\t 21 \t\t\t 4 \t\t\t cj32\n",
            "9 \t\t\t 23 \t\t\t 4 \t\t\t cj33\n",
            "9 \t\t\t 21 \t\t\t 3 \t\t\t cj34\n",
            "8 \t\t\t 23 \t\t\t 3 \t\t\t cj35\n",
            "8 \t\t\t 27 \t\t\t 2 \t\t\t cj36\n",
            "9 \t\t\t 26 \t\t\t 2 \t\t\t cj37\n",
            "9 \t\t\t 22 \t\t\t 3 \t\t\t cj38\n",
            "8 \t\t\t 24 \t\t\t 2 \t\t\t cj39\n",
            "8 \t\t\t 31 \t\t\t 3 \t\t\t cj40\n",
            "8 \t\t\t 26 \t\t\t 3 \t\t\t cj41\n",
            "8 \t\t\t 25 \t\t\t 3 \t\t\t cj42\n",
            "8 \t\t\t 23 \t\t\t 3 \t\t\t cj43\n",
            "9 \t\t\t 28 \t\t\t 3 \t\t\t cj44\n",
            "9 \t\t\t 20 \t\t\t 3 \t\t\t cj45\n",
            "8 \t\t\t 25 \t\t\t 3 \t\t\t cj46\n",
            "8 \t\t\t 19 \t\t\t 3 \t\t\t cj47\n",
            "8 \t\t\t 20 \t\t\t 3 \t\t\t cj48\n",
            "9 \t\t\t 27 \t\t\t 3 \t\t\t cj49\n",
            "8 \t\t\t 33 \t\t\t 3 \t\t\t cj50\n",
            "8 \t\t\t 22 \t\t\t 2 \t\t\t cj51\n",
            "8 \t\t\t 23 \t\t\t 4 \t\t\t cj52\n",
            "8 \t\t\t 32 \t\t\t 3 \t\t\t cj53\n",
            "8 \t\t\t 23 \t\t\t 2 \t\t\t cj54\n",
            "8 \t\t\t 25 \t\t\t 2 \t\t\t cj55\n",
            "8 \t\t\t 22 \t\t\t 2 \t\t\t cj56\n",
            "8 \t\t\t 25 \t\t\t 3 \t\t\t cj57\n",
            "8 \t\t\t 27 \t\t\t 3 \t\t\t cj58\n",
            "8 \t\t\t 31 \t\t\t 3 \t\t\t cj59\n",
            "8 \t\t\t 28 \t\t\t 2 \t\t\t cj60\n",
            "8 \t\t\t 26 \t\t\t 2 \t\t\t cj61\n",
            "8 \t\t\t 25 \t\t\t 2 \t\t\t cj62\n",
            "8 \t\t\t 26 \t\t\t 2 \t\t\t cj63\n",
            "8 \t\t\t 20 \t\t\t 2 \t\t\t cj64\n",
            "8 \t\t\t 29 \t\t\t 3 \t\t\t cj65\n",
            "8 \t\t\t 20 \t\t\t 2 \t\t\t cj66\n",
            "8 \t\t\t 28 \t\t\t 2 \t\t\t cj67\n",
            "8 \t\t\t 40 \t\t\t 2 \t\t\t cj68\n",
            "8 \t\t\t 22 \t\t\t 4 \t\t\t cj69\n",
            "8 \t\t\t 18 \t\t\t 3 \t\t\t cj70\n",
            "9 \t\t\t 18 \t\t\t 3 \t\t\t cj71\n",
            "9 \t\t\t 21 \t\t\t 2 \t\t\t cj72\n",
            "9 \t\t\t 13 \t\t\t 3 \t\t\t cj73\n",
            "9 \t\t\t 21 \t\t\t 3 \t\t\t cj74\n",
            "8 \t\t\t 24 \t\t\t 4 \t\t\t cj75\n",
            "8 \t\t\t 23 \t\t\t 2 \t\t\t cj76\n",
            "9 \t\t\t 20 \t\t\t 3 \t\t\t cj77\n",
            "8 \t\t\t 19 \t\t\t 3 \t\t\t cj78\n",
            "8 \t\t\t 23 \t\t\t 4 \t\t\t cj79\n",
            "8 \t\t\t 19 \t\t\t 4 \t\t\t cj80\n",
            "8 \t\t\t 14 \t\t\t 3 \t\t\t ck01\n",
            "8 \t\t\t 16 \t\t\t 2 \t\t\t ck02\n",
            "8 \t\t\t 16 \t\t\t 2 \t\t\t ck03\n",
            "8 \t\t\t 17 \t\t\t 3 \t\t\t ck04\n",
            "8 \t\t\t 13 \t\t\t 3 \t\t\t ck05\n",
            "8 \t\t\t 12 \t\t\t 2 \t\t\t ck06\n",
            "7 \t\t\t 10 \t\t\t 3 \t\t\t ck07\n",
            "8 \t\t\t 16 \t\t\t 3 \t\t\t ck08\n",
            "8 \t\t\t 24 \t\t\t 3 \t\t\t ck09\n",
            "8 \t\t\t 15 \t\t\t 2 \t\t\t ck10\n",
            "7 \t\t\t 15 \t\t\t 3 \t\t\t ck11\n",
            "8 \t\t\t 17 \t\t\t 2 \t\t\t ck12\n",
            "8 \t\t\t 17 \t\t\t 3 \t\t\t ck13\n",
            "8 \t\t\t 16 \t\t\t 2 \t\t\t ck14\n",
            "8 \t\t\t 18 \t\t\t 2 \t\t\t ck15\n",
            "8 \t\t\t 18 \t\t\t 2 \t\t\t ck16\n",
            "8 \t\t\t 12 \t\t\t 3 \t\t\t ck17\n",
            "8 \t\t\t 14 \t\t\t 3 \t\t\t ck18\n",
            "8 \t\t\t 19 \t\t\t 3 \t\t\t ck19\n",
            "8 \t\t\t 17 \t\t\t 2 \t\t\t ck20\n",
            "8 \t\t\t 11 \t\t\t 2 \t\t\t ck21\n",
            "8 \t\t\t 17 \t\t\t 3 \t\t\t ck22\n",
            "8 \t\t\t 21 \t\t\t 2 \t\t\t ck23\n",
            "7 \t\t\t 10 \t\t\t 4 \t\t\t ck24\n",
            "8 \t\t\t 33 \t\t\t 2 \t\t\t ck25\n",
            "7 \t\t\t 17 \t\t\t 3 \t\t\t ck26\n",
            "8 \t\t\t 24 \t\t\t 2 \t\t\t ck27\n",
            "7 \t\t\t 13 \t\t\t 3 \t\t\t ck28\n",
            "8 \t\t\t 26 \t\t\t 2 \t\t\t ck29\n",
            "8 \t\t\t 15 \t\t\t 3 \t\t\t cl01\n",
            "8 \t\t\t 16 \t\t\t 3 \t\t\t cl02\n",
            "7 \t\t\t 12 \t\t\t 3 \t\t\t cl03\n",
            "8 \t\t\t 13 \t\t\t 3 \t\t\t cl04\n",
            "8 \t\t\t 15 \t\t\t 3 \t\t\t cl05\n",
            "8 \t\t\t 15 \t\t\t 3 \t\t\t cl06\n",
            "8 \t\t\t 16 \t\t\t 3 \t\t\t cl07\n",
            "7 \t\t\t 17 \t\t\t 3 \t\t\t cl08\n",
            "8 \t\t\t 14 \t\t\t 3 \t\t\t cl09\n",
            "8 \t\t\t 13 \t\t\t 3 \t\t\t cl10\n",
            "8 \t\t\t 15 \t\t\t 3 \t\t\t cl11\n",
            "8 \t\t\t 12 \t\t\t 2 \t\t\t cl12\n",
            "8 \t\t\t 13 \t\t\t 3 \t\t\t cl13\n",
            "7 \t\t\t 12 \t\t\t 3 \t\t\t cl14\n",
            "8 \t\t\t 15 \t\t\t 2 \t\t\t cl15\n",
            "8 \t\t\t 13 \t\t\t 3 \t\t\t cl16\n",
            "8 \t\t\t 19 \t\t\t 2 \t\t\t cl17\n",
            "8 \t\t\t 17 \t\t\t 3 \t\t\t cl18\n",
            "8 \t\t\t 15 \t\t\t 3 \t\t\t cl19\n",
            "7 \t\t\t 14 \t\t\t 3 \t\t\t cl20\n",
            "8 \t\t\t 11 \t\t\t 3 \t\t\t cl21\n",
            "8 \t\t\t 16 \t\t\t 3 \t\t\t cl22\n",
            "8 \t\t\t 14 \t\t\t 3 \t\t\t cl23\n",
            "7 \t\t\t 14 \t\t\t 3 \t\t\t cl24\n",
            "8 \t\t\t 14 \t\t\t 3 \t\t\t cm01\n",
            "8 \t\t\t 15 \t\t\t 3 \t\t\t cm02\n",
            "8 \t\t\t 16 \t\t\t 3 \t\t\t cm03\n",
            "8 \t\t\t 12 \t\t\t 3 \t\t\t cm04\n",
            "8 \t\t\t 19 \t\t\t 2 \t\t\t cm05\n",
            "8 \t\t\t 14 \t\t\t 3 \t\t\t cm06\n",
            "7 \t\t\t 14 \t\t\t 3 \t\t\t cn01\n",
            "7 \t\t\t 13 \t\t\t 3 \t\t\t cn02\n",
            "8 \t\t\t 11 \t\t\t 3 \t\t\t cn03\n",
            "8 \t\t\t 13 \t\t\t 3 \t\t\t cn04\n",
            "7 \t\t\t 12 \t\t\t 3 \t\t\t cn05\n",
            "8 \t\t\t 17 \t\t\t 3 \t\t\t cn06\n",
            "8 \t\t\t 11 \t\t\t 2 \t\t\t cn07\n",
            "8 \t\t\t 20 \t\t\t 2 \t\t\t cn08\n",
            "8 \t\t\t 13 \t\t\t 3 \t\t\t cn09\n",
            "8 \t\t\t 12 \t\t\t 3 \t\t\t cn10\n",
            "8 \t\t\t 18 \t\t\t 2 \t\t\t cn11\n",
            "8 \t\t\t 13 \t\t\t 3 \t\t\t cn12\n",
            "8 \t\t\t 19 \t\t\t 2 \t\t\t cn13\n",
            "8 \t\t\t 14 \t\t\t 2 \t\t\t cn14\n",
            "8 \t\t\t 13 \t\t\t 3 \t\t\t cn15\n",
            "8 \t\t\t 18 \t\t\t 2 \t\t\t cn16\n",
            "7 \t\t\t 13 \t\t\t 3 \t\t\t cn17\n",
            "8 \t\t\t 18 \t\t\t 3 \t\t\t cn18\n",
            "8 \t\t\t 16 \t\t\t 3 \t\t\t cn19\n",
            "8 \t\t\t 14 \t\t\t 2 \t\t\t cn20\n",
            "8 \t\t\t 16 \t\t\t 2 \t\t\t cn21\n",
            "8 \t\t\t 16 \t\t\t 3 \t\t\t cn22\n",
            "8 \t\t\t 18 \t\t\t 3 \t\t\t cn23\n",
            "7 \t\t\t 14 \t\t\t 3 \t\t\t cn24\n",
            "8 \t\t\t 12 \t\t\t 3 \t\t\t cn25\n",
            "8 \t\t\t 18 \t\t\t 2 \t\t\t cn26\n",
            "8 \t\t\t 19 \t\t\t 3 \t\t\t cn27\n",
            "8 \t\t\t 18 \t\t\t 2 \t\t\t cn28\n",
            "7 \t\t\t 13 \t\t\t 3 \t\t\t cn29\n",
            "8 \t\t\t 17 \t\t\t 3 \t\t\t cp01\n",
            "8 \t\t\t 23 \t\t\t 3 \t\t\t cp02\n",
            "8 \t\t\t 16 \t\t\t 3 \t\t\t cp03\n",
            "8 \t\t\t 19 \t\t\t 3 \t\t\t cp04\n",
            "8 \t\t\t 17 \t\t\t 2 \t\t\t cp05\n",
            "8 \t\t\t 13 \t\t\t 3 \t\t\t cp06\n",
            "8 \t\t\t 16 \t\t\t 3 \t\t\t cp07\n",
            "8 \t\t\t 13 \t\t\t 3 \t\t\t cp08\n",
            "8 \t\t\t 31 \t\t\t 3 \t\t\t cp09\n",
            "8 \t\t\t 19 \t\t\t 3 \t\t\t cp10\n",
            "8 \t\t\t 19 \t\t\t 3 \t\t\t cp11\n",
            "7 \t\t\t 14 \t\t\t 3 \t\t\t cp12\n",
            "8 \t\t\t 20 \t\t\t 3 \t\t\t cp13\n",
            "7 \t\t\t 10 \t\t\t 3 \t\t\t cp14\n",
            "7 \t\t\t 14 \t\t\t 3 \t\t\t cp15\n",
            "8 \t\t\t 12 \t\t\t 3 \t\t\t cp16\n",
            "8 \t\t\t 19 \t\t\t 3 \t\t\t cp17\n",
            "7 \t\t\t 13 \t\t\t 3 \t\t\t cp18\n",
            "7 \t\t\t 14 \t\t\t 3 \t\t\t cp19\n",
            "7 \t\t\t 13 \t\t\t 3 \t\t\t cp20\n",
            "8 \t\t\t 21 \t\t\t 3 \t\t\t cp21\n",
            "8 \t\t\t 13 \t\t\t 3 \t\t\t cp22\n",
            "8 \t\t\t 14 \t\t\t 3 \t\t\t cp23\n",
            "7 \t\t\t 10 \t\t\t 4 \t\t\t cp24\n",
            "8 \t\t\t 23 \t\t\t 3 \t\t\t cp25\n",
            "7 \t\t\t 21 \t\t\t 4 \t\t\t cp26\n",
            "8 \t\t\t 11 \t\t\t 3 \t\t\t cp27\n",
            "8 \t\t\t 14 \t\t\t 3 \t\t\t cp28\n",
            "8 \t\t\t 16 \t\t\t 2 \t\t\t cp29\n",
            "8 \t\t\t 20 \t\t\t 2 \t\t\t cr01\n",
            "8 \t\t\t 21 \t\t\t 2 \t\t\t cr02\n",
            "8 \t\t\t 28 \t\t\t 2 \t\t\t cr03\n",
            "8 \t\t\t 19 \t\t\t 3 \t\t\t cr04\n",
            "8 \t\t\t 17 \t\t\t 2 \t\t\t cr05\n",
            "8 \t\t\t 20 \t\t\t 3 \t\t\t cr06\n",
            "8 \t\t\t 13 \t\t\t 3 \t\t\t cr07\n",
            "8 \t\t\t 33 \t\t\t 2 \t\t\t cr08\n",
            "8 \t\t\t 23 \t\t\t 2 \t\t\t cr09\n"
          ]
        }
      ]
    },
    {
      "cell_type": "markdown",
      "source": [
        "**B. Create and use your own corpora (plaintext, categorical)**"
      ],
      "metadata": {
        "id": "dOj1nEb-uD0j"
      }
    },
    {
      "cell_type": "code",
      "source": [
        "import nltk\n",
        "nltk.download('punkt')\n",
        "from nltk.corpus import PlaintextCorpusReader\n",
        "corpus_root = '/root/nltk_data/corpora/corpus_root'\n",
        "filelist = PlaintextCorpusReader(corpus_root,'.*')\n",
        "print ('\\n File list: \\n')\n",
        "print (filelist.fileids())\n",
        "print (filelist.root)\n",
        "print ('\\n\\nStatistics for each text:\\n')\n",
        "print('AvgWordLen\\tAvgSentenceLen\\tno.ofTimesEachWordAppearsOnAvg\\tFileName')\n",
        "for fileid in filelist.fileids():\n",
        "  num_chars = len(filelist.raw(fileid))\n",
        "  num_words= len(filelist.words(fileid))\n",
        "  num_sents = len(filelist.sents(fileid))\n",
        "  num_vocab = len(set([w.lower() for w in filelist.words(fileid)]))\n",
        "  print (int(num_chars/num_words),'\\t\\t\\t', int(num_words/num_sents),'\\t\\t\\t', int(num_words/num_vocab),'\\t\\t', fileid)\n"
      ],
      "metadata": {
        "colab": {
          "base_uri": "https://localhost:8080/"
        },
        "id": "3nGj3wcRwOk5",
        "outputId": "a7e3fdc6-263c-4fdf-af0f-b17182b1780d"
      },
      "execution_count": null,
      "outputs": [
        {
          "output_type": "stream",
          "name": "stdout",
          "text": [
            "[nltk_data] Downloading package punkt to /root/nltk_data...\n",
            "[nltk_data]   Unzipping tokenizers/punkt.zip.\n",
            "\n",
            " File list: \n",
            "\n",
            "['mytext.txt', 'mytext1.txt']\n",
            "/root/nltk_data/corpora/corpus_root\n",
            "\n",
            "\n",
            "Statistics for each text:\n",
            "\n",
            "AvgWordLen\tAvgSentenceLen\tno.ofTimesEachWordAppearsOnAvg\tFileName\n",
            "5 \t\t\t 31 \t\t\t 2 \t\t mytext.txt\n",
            "5 \t\t\t 24 \t\t\t 2 \t\t mytext1.txt\n"
          ]
        }
      ]
    },
    {
      "cell_type": "markdown",
      "source": [
        "**C.\tStudy Conditional Frequency Distribution**"
      ],
      "metadata": {
        "id": "is0G1xXZ8B9n"
      }
    },
    {
      "cell_type": "code",
      "source": [
        "#processing a sequence of pairs\n",
        "text = ['The', 'Fulton', 'County', 'Grand', 'Jury', 'said', ...]\n",
        "pairs = [('news', 'The'), ('news', 'Fulton'), ('news', 'County'), ...]\n",
        "import nltk\n",
        "nltk.download('brown')\n",
        "from nltk.corpus import brown\n",
        "fd = nltk.ConditionalFreqDist(\n",
        " (genre, word)\n",
        " for genre in brown.categories()\n",
        " for word in brown.words(categories=genre))\n",
        "genre_word = [(genre, word)\n",
        " for genre in ['news', 'romance']\n",
        " for word in brown.words(categories=genre)]\n",
        "print(len(genre_word))"
      ],
      "metadata": {
        "colab": {
          "base_uri": "https://localhost:8080/"
        },
        "id": "LRjgAB0h8LCo",
        "outputId": "353bc72f-ded2-4be5-9779-ebad3b62ebf8"
      },
      "execution_count": null,
      "outputs": [
        {
          "output_type": "stream",
          "name": "stdout",
          "text": [
            "[nltk_data] Downloading package brown to /root/nltk_data...\n",
            "[nltk_data]   Package brown is already up-to-date!\n",
            "170576\n"
          ]
        }
      ]
    },
    {
      "cell_type": "code",
      "source": [
        "print(genre_word[:4])"
      ],
      "metadata": {
        "colab": {
          "base_uri": "https://localhost:8080/"
        },
        "id": "_lan0HDL8azG",
        "outputId": "f819e691-018d-4b33-e0d3-3fff1281b283"
      },
      "execution_count": null,
      "outputs": [
        {
          "output_type": "stream",
          "name": "stdout",
          "text": [
            "[('news', 'The'), ('news', 'Fulton'), ('news', 'County'), ('news', 'Grand')]\n"
          ]
        }
      ]
    },
    {
      "cell_type": "code",
      "source": [
        "print(genre_word[-4:])"
      ],
      "metadata": {
        "colab": {
          "base_uri": "https://localhost:8080/"
        },
        "id": "V3rbWXJD8ggW",
        "outputId": "290d2054-d429-4eb5-de83-20204c40944c"
      },
      "execution_count": null,
      "outputs": [
        {
          "output_type": "stream",
          "name": "stdout",
          "text": [
            "[('romance', 'afraid'), ('romance', 'not'), ('romance', \"''\"), ('romance', '.')]\n"
          ]
        }
      ]
    },
    {
      "cell_type": "code",
      "source": [
        "cfd = nltk.ConditionalFreqDist(genre_word)\n",
        "print(cfd)\n",
        "print(cfd.conditions())\n",
        "print(cfd['news'])\n",
        "print(cfd['romance'])\n",
        "print(list(cfd['romance']))"
      ],
      "metadata": {
        "colab": {
          "base_uri": "https://localhost:8080/"
        },
        "id": "2i4wjDiO8k9m",
        "outputId": "3754d6db-b323-4d9a-c9ba-3ff640b0a51e"
      },
      "execution_count": null,
      "outputs": [
        {
          "output_type": "stream",
          "name": "stdout",
          "text": [
            "<ConditionalFreqDist with 2 conditions>\n",
            "['news', 'romance']\n",
            "<FreqDist with 14394 samples and 100554 outcomes>\n",
            "<FreqDist with 8452 samples and 70022 outcomes>\n",
            "['They', 'neither', 'liked', 'nor', 'disliked', 'the', 'Old', 'Man', '.', 'To', 'them', 'he', 'could', 'have', 'been', 'broken', 'bell', 'in', 'church', 'tower', 'which', 'rang', 'before', 'and', 'after', 'Mass', ',', 'at', 'noon', 'six', 'each', 'evening', '--', 'its', 'tone', 'repetitive', 'monotonous', 'never', 'breaking', 'boredom', 'of', 'streets', 'The', 'was', 'unimportant', 'Yet', 'if', 'were', 'not', 'there', 'they', 'would', 'missed', 'him', 'as', 'sounds', 'bees', 'buzzing', 'against', 'screen', 'door', 'early', 'June', ';', 'or', 'smell', 'thick', 'tomato', 'paste', 'ripe', 'that', 'both', 'sweet', 'sour', 'rising', 'up', 'from', 'aluminum', 'trays', 'wrapped', 'fly-dotted', 'cheesecloth', 'Or', 'surging', 'whirling', 'bats', 'night', 'when', 'their', 'black', 'bodies', 'dived', 'into', 'blackness', 'above', 'below', 'amber', 'street', 'lights', 'bay', 'female', 'dogs', 'heat', 'called', 'by', 'name', 'although', 'had', 'one', 'Filippo', 'Rossi', \"that's\", 'what', 'old', 'country', 'but', 'here', 'just', 'Signore', 'But', 'this', 'unusual', 'because', 'youth', 'these', 'quarters', 'always', 'pushed', 'a', 'distance', 'elders', 'Youth', 'obeyed', 'commanded', 'It', 'went', 'to', 'on', 'Sunday', 'Saturday', 'month', 'confession', 'asked', 'nothing', 'parents', 'touch', 'hand', 'kiss', 'given', 'passing', 'only', 'thing', 'about', 'long', 'since', 'happened', 'past', 'dead', 'present', 'Once', 'wife', 'And', 'once', 'she', 'too', 'ignored', 'With', 'tiny', 'fur-piece', 'around', 'her', 'shoulders', 'wiggled', 'satin-covered', 'buttocks', 'down', \"didn't\", 'stop', 'In', 'clutched', 'hundred', 'dollar', 'bill', 'other', 'straw', 'suitcase', 'way', 'strutted', 'blind', 'noticed', 'Without', 'looking', 'without', 'anything', 'except', 'Drexel', 'Street', 'directly', 'front', 'climbed', 'those', 'orange', 'streetcars', 'rode', 'away', 'it', 'came', 'back', '``', \"shouldn't\", 'come', 'first', 'place', \"''\", 'women', 'said', 'No', 'no', 'Not', 'She', 'thought', 'bigger', 'than', 'we', 'are', 'Torino', 'Eh', '!', 'gave', 'herself', 'fancy', 'airs', 'Just', 'part', 'stage', 'carry', 'head', 'higher', 'ours', 'slapped', 'thighs', \"It's\", 'for', 'making', 'pretty', 'speeches', 'Dante', 'actresses', 'get', 'paid', 'so', 'good', 'Henh', 'Calloused', 'fingers', 'caressed', 'smoothness', 'polished', 'rosaries', 'swayed', 'excitedly', 'beneath', 'puckered', 'chins', 'where', 'hairs', 'sprouted', 'be', 'tweezed', 'Mauve-colored', 'mouths', 'known', 'sweeter', 'taste', 'new', 'wine', 'passion', \"man's\", 'tongue', 'smiled', 'condemned', 'again', 'Puttana', 'even', 'his', 'now', 'nobody', 'cared', 'fig', 'enough', 'people', 'know', 'time', 'looked', 'fleshy', 'suppleness', 'woman', 'consumed', 'watching', 'become', 'thinner', 'thin', 'seams', 'stockings', 'still', 'His', 'voice', 'questioned', 'why', 'seen', 'wave', 'an', 'exhausted', 'farewell', 'might', 'shooing', 'fleas', 'hopped', 'yellow', 'dog', 'onto', '(', 'He', ')', 'eyes', 'miniature', 'sundials', 'variegated', 'altered', 'expression', 'direction', \"Man's\", 'very', 'soul', 'left', 'flown', \"wouldn't\", 'anyone', 'Perhaps', 'then', 'taking', 'withered', 'wrinkled', 'sister', 'Rose', 'care', 'children', 'guessed', 'all', 'remember', 'memory', 'climbing', 'streetcar', '?', 'There', 'seemed', 'contemptuous', 'purpose', 'sat', 'with', 'glued', 'opposition', 'behind', 'For', 'saw', 'see', 'town', 'Italy', 'outskirts', 'Philadelphia', 'Bari', 'Chieti', 'smelled', 'What', 'did', 'matter', 'park', 'foot', 'Ash', 'Road', 'stretched', 'elevated', 'trains', 'roared', 'stucco', 'station', \"city's\", 'center', 'half-hour', 'intervals', 'creek', 'spun', 'silent', 'course', 'toward', 'Schuylkill', 'This', 'hatred', 'companion', 'aloneness', 'same', 'Sameness', 'framed', 'wall', 'ginkgo', 'trees', 'divided', 'city', 'lined', 'two-story', 'houses', 'color', 'ash', 'slashed', 'sloping', 'manure-scented', 'lawns', 'concrete', 'steps', 'upward', 'white', 'wooden', 'porches', 'wicker', 'swings', 'screeched', 'rusted', 'hinges', 'doors', 'Even', 'stable-garage', 'housed', 'scent', 'rot', 'lawn', 'coffee', 'shop', 'men', 'spent', 'evenings', 'Sundays', 'playing', 'cards', 'rose', 'hedge', 'window', 'reeked', 'dregs', 'thrown', 'Only', 'house', 'squatted', 'low', 'square', 'upon', 'sidewalk', 'heavy', 'iron', 'grating', 'supporting', 'glass', 'facade', 'That', \"Bartoli's\", 'Above', 'second-story', 'showroom', 'angels', 'surveyed', 'neighborhood', 'Did', 'everywhere', 'else', 'sameness', 'wood', 'blocks', 'like', 'fortresses', 'perched', 'slant', 'hill', 'top', 'beyond', 'cemetery', 'paved', 'alleyways', 'tunneled', 'through', 'walls', 'mysterious', 'core', 'intimacy', 'backyards', 'owned', 'fences', 'property', 'blended', 'next', 'form', 'courtyards', 'knew', 'privacy', 'Love', 'fear', 'shaded', 'grape', 'vines', 'forked', 'gossip', 'licked', 'sinister', 'porch', 'silently', 'fed', 'kept', 'alive', 'waiting', 'Waiting', 'whom', 'tell', 'though', 'made', 'pact', 'devil', 'himself', 'yet', 'pay', 'price', 'holding', 'out', 'something', 'determined', 'hold', 'son', 'threw', 'belly', 'step', 'coolness', 'dreaming', 'day', 'rich', 'At', 'fifteen', 'mother', \"couldn't\", 'face', 'Aunt', 'provided', 'named', 'Pompeii', 'tribute', 'heritage', 'less', 'either', 'life', 'restless', 'began', 'sun', 'ended', 'sleep', 'When', 'man', 'Americans', 'who', 'lived', 'white-columned', 'side', 'ride', 'eight-thirty', 'local', 'morning', 'brief', 'case', 'Nor', 'work', 'cane', 'sit', 'inside', 'pound', 'gloved', 'fist', 'table', 'girl', 'hear', 'running', 'bowing', 'calling', 'your', 'service', 'order', 'bring', 'take', 'vest', 'pocket', 'pipe', 'stuff', 'remove', 'gloves', 'light', 'smoke', 'do', 'Hey', 'Laura', 'ten', 'months', 'older', 'you', 'say', 'I', 'smoked', 'answer', 'leaned', 'unconcerned', 'fence', 'brushing', 'drying', 'wet', 'gilded', 'hair', 'One', 'lithe', 'leg', 'straddled', 'railing', 'swung', 'loosely', 'creaking', 'torn', 'pales', 'Her', 'tanned', 'whose', 'arch', 'swept', 'high', 'pointed', 'artfully', 'tapering', 'toes', 'tips', 'glowed', 'All', 'while', 'sinewy', 'arms', 'swirled', 'chest', 'showed', 'sign', 'having', 'heard', 'lost', 'childlike', 'softness', 'beginning', 'fold', 'within', 'fragile', 'features', 'harshness', 'belied', 'lyric', 'lines', 'contours', 'blue', 'somewhat', 'downcast', 'possessed', 'sullen', 'quality', 'boy', 'clouded', 'sure', 'fully', 'took', 'reached', 'screeching', 'rail', 'moving', \"She's\", 'mood', \"There's\", \"doesn't\", 'Well', 'shining', 'dreams', 'dream', 'wanted', 'Suddenly', 'interrupted', 'daydreaming', 'warm', 'wetness', 'lapping', 'chin', 'opened', 'wide', 'sight', \"goat's\", 'claret', 'feasting', 'salt', 'aged', 'eye', 'sallow', 'time-cast', 'encrusted', 'sphere', 'marbleized', 'pink', 'skin', 'stared', 'unfalteringly', 'Christ', 'sake', 'goat', 'git', \"You're\", 'boiling', 'milk', \"ain't\", 'Soothing', 'knowing', 'whiskered', 'jowls', 'swollen', 'teats', 'expectantly', 'rolled', 'over', 'undulated', 'gradually', 'covering', 'space', 'straining', 'taut', 'warmth', 'mouth', 'squirted', 'roof', 'savored', 'earthy', \"boy's\", 'operated', 'skilled', 'unity', 'bagpipe', 'player', 'pressing', 'pulling', 'delighting', 'slid', 'evasive', 'shadow', 'storm', 'cloud', 'Its', 'figure', 'fluttering', 'soutane', 'near', 'corner', 'let', 'pass', 'sensing', 'portentous', 'also', 'raise', 'finger', 'smooth', \"dog's\", 'perhaps', 'reassured', 'due', 'Time', 'give', 'meantime', 'sandals', 'stained', 'ocher', \"Pompeii's\", 'shaved', 'edged', 'close', 'clapping', 'ecstatic', 'pleasure', 'quickly', 'released', 'pretended', 'examining', 'haunches', 'ticks', 'glance', 'biggest', 'belonged', 'Niobe', 'neatest', 'ones', 'Concetta', 'laced', 'Romeo', \"Concetta's\", 'idiot', 'brother', 'expected', \"Romeo's\", 'small', 'body', 'sink', 'closer', 'ground', 'reach', 'grasp', 'shrill', 'impetuous', 'sound', 'rotundity', 'disfigured', 'flesh', 'hearing', 'People', 'baby', 'room', 'filled', \"Maggie's\", 'throbbed', 'excitement', 'fatigue', 'Stuart', 'such', 'happy', 'earnest', 'look', 'proud', 'possession', 'Maggie', 'bear', 'quench', 'Little', 'Anne', 'rapidly', 'outdistanced', 'recovery', 'two', 'became', 'fat', 'highly', 'social', 'fuzz', 'flaxen', 'stopped', 'flying', 'rages', 'started', 'digesting', 'food', 'developed', 'peaches', 'cream', 'complexion', 'sunny', 'disposition', 'more', 'dry', 'comfortable', 'huge', 'amounts', 'stated', 'carried', 'watch', 'activity', 'going', 'shook', 'lifting', 'seem', 'strength', 'catch', ':', 'big', 'basket', 'clothes', 'coaxed', 'rackety', 'washer', 'lugged', 'daily', 'round', 'household', 'chores', 'insisted', 'participating', 'Worry', 'great', 'deal', 'laid', 'off', 'produce', 'company', 'go', 'sitting', \"father's\", 'office', 'salary', 'father', 'Mr.', 'Clifton', 'preferred', 'death', 'bankruptcy', 'stay', \"wife's\", 'contributing', \"family's\", 'upkeep', 'besides', 'things', 'bought', 'juice', 'vitamins', 'soap', 'plain', 'pored', 'figures', 'every', 'trying', 'find', 'how', 'squeeze', 'few', 'pennies', 'desperation', 'consulted', 'Eugenia', 'afternoon', 'Do', 'think', 'me', 'home', 'make', 'some', 'money', 'rest', 'seems', 'is', 'washing', 'machine', 'stove', 'plenty', 'odd', 'moments', 'doing', 'feel', 'lot', 'better', \"Woman's\", 'Exchange', \"isn't\", 'baked', 'goods', 'any', \"can't\", 'leave', 'Grandma', 'strong', \"baby's\", 'young', 'put', 'nursery', 'should', 'can', 'keeping', 'child', 'starched', 'dresses', 'changed', 'nineteen', 'times', 'beautiful', 'keep', 'nice', 'picked', 'nuzzled', 'little', 'neck', \"She'll\", 'ironed', 'Evadna', 'Mae', 'Evans', 'flannel', 'wrapper', 'until', 'nine', 'got', \"Best's\", 'Liliputian', 'Bazaar', 'New', 'York', \"I'm\", 'sick', 'tired', \"don't\", 'snap', 'thinking', 'sensible', 'sorry', 'everybody', 'days', 'extra', \"let's\", \"Let's\", 'list', 'assets', 'laughing', 'laughed', 'hard', 'yard', 'hang', 'kitchen', 'pencil', 'envelope', 'jotting', 'words', 'run', 'own', 'working', 'mothers', 'We', 'cribs', 'second', 'floor', 'sleeping', 'turn', 'bedroom', 'playroom', \"it's\", 'entail', 'quite', 'bit', 'stairs', 'Chris', 'careful', 'You', 'set', 'dress', 'living', 'Every', 'block', 'has', 'tried', 'tea', 'tables', 'serve', 'salads', 'beans', 'brown', 'bread', 'gypsy', 'fortunes', 'elaborate', 'truth', 'am', 'sighed', 'really', 'interesting', 'my', 'typing', 'jobs', 'type', 'well', 'Oh', 'fair', \"Don't\", 'worry', 'wondering', 'world', 'much', 'happier', 'already', 'clearing', 'chattering', 'typewriter', 'right', 'ashamed', 'whenever', 'minute', 'contests', 'feet', 'waste', 'wish', 'three', 'wishes', 'grew', 'bitterly', 'cold', 'end', 'November', 'miseries', 'countless', 'numbers', 'temperature', 'dropped', 'twenty', 'stood', 'zero', 'during', 'settled', 'tangible', 'pall', 'Mile', 'High', 'City', 'locking', 'icy', 'grip', 'harshened', 'outlines', 'physical', 'appearance', 'grim', 'stark', 'realism', 'resembling', 'cities', 'habitual', 'climate', 'instead', 'sprawling', 'bumptious', 'open-handed', 'greedy', 'Western', 'basking', 'eternal', 'sunshine', 'mountains', 'stored', 'endless', 'riches', 'resources', 'jobless', 'huddled', 'outside', 'employment', 'offices', 'newspaper', 'buildings', 'parks', 'relief', 'government', 'agencies', \"weren't\", 'facilities', 'need', 'felt', 'kind', 'poverty', 'regarded', 'exclusive', 'East', 'created', 'depressions', 'stock', 'markets', 'congested', 'populations', 'centralization', 'industries', 'protected', 'discriminatory', 'freight', 'rates', 'popularly', 'supposed', 'war', 'depression', 'dragging', 'west', 'along', 'creating', 'West', 'doubtless', 'being', 'fast', 'meanwhile', 'penetrated', 'everything', 'Shivering', 'talked', 'argued', 'spending', 'somehow', 'desperate', 'circumstances', 'remedies', 'done', 'Something', 'theme', 'song', 'millions', 'American', 'personal', 'problems', 'urgent', 'Abernathys', 'dozen', 'furnace', 'fuel', 'bills', 'doctor', 'dentist', 'stretch', 'mortgage', 'taxes', 'shoes', 'half', 'soles', 'overshoes', 'leaks', 'gas', 'meeting', 'minor', 'emergencies', 'twice', 'fifty', 'dropping', 'bottle', 'catastrophe', 'wore', 'termed', 'major', 'disaster', 'Abernathy', 'giant', 'ravenous', 'maw', 'appeased', 'hurling', 'tons', 'coal', 'evil', 'red', 'depths', 'remained', 'Cold', 'innumerable', 'cracks', 'sprung', 'under', 'loosened', 'frames', 'attic', 'widened', 'between', 'shingles', 'Presently', 'full', 'capacity', 'depend', 'range', 'removed', 'installed', 'fireplaces', 'electric', 'heater', \"Grandma's\", 'wretched', 'sort', 'gaiety', 'infected', 'stormbound', 'shipwrecked', 'caught', 'freak', 'circumstance', 'anxieties', 'fell', 'important', 'cling', 'together', 'survive', 'pipes', 'burst', 'ice', 'water', 'ankles', 'swabbed', 'bathrooms', 'mainly', 'moved', 'bed', 'undressed', 'ran', 'groaning', 'shivering', 'upper', 'polar', 'regions', 'plunged', 'beds', 'mining', 'camp', 'ought', 'live', 'getting', 'used', 'mouthful', 'grimly', 'hated', 'worse', 'joys', 'wearing', 'meet', 'emergency', 'another', 'wallow', 'last', 'forever', 'Plenty', 'poor', 'lives', \"haven't\", 'our', 'brains', 'talent', 'start', 'talking', \"you'll\", 'ruin', 'whole', 'prove', 'family', 'superior', 'worries', 'begged', 'strange', 'teeth', 'hoped', 'die', 'Christian', 'Lord', 'willed', 'pneumonia', 'want', 'especially', 'span', 'nearly', 'anyway', 'Hope', \"Hope's\", 'dragged', 'forth', 'tipped', 'almost', 'bedspread', 'fire', 'proved', \"wasn't\", 'trusted', 'burned', 'crisp', 'anybody', 'suspected', 'deliberately', 'overturning', 'Thrifty', 'use', 'Unusual', 'joke', \"Didn't\", 'read', 'married', 'tenant', 'yes', 'simplify', \"Tolley's\", 'Laban', 'Tolley', 'gone', 'California', \"He'd\", 'mentioned', 'idea', 'Jenny', 'jilted', 'Roy', 'Robards', 'nose', \"they're\", 'Mamma', 'Zion', 'stayed', 'pin', \"it'll\", 'will', 'Kizzie', 'turned', 'Let', 'pictures', \"sun's\", 'Pictures', \"Brace's\", 'told', 'camera', 'Indeed', 'Why', 'empty', 'marrying', 'sneaky', 'trip', 'consorting', 'tenants', 'Mt.', 'Pleasant', 'understands', 'simple', 'fact', 'Wait', \"I'll\", 'dressed', 'Frank', 'followed', 'hooked', 'Hurry', \"They're\", 'laugh', 'Fairbrothers', 'Labans', 'fault', 'drove', 'exactly', 'valiant', 'pitiable', 'kissed', 'Make', 'God', 'dear', 'congregation', 'decide', 'cruel', 'unfair', 'coming', 'Yes', 'oh', 'Returning', 'log-house', 'found', 'favorite', 'Jonathan', 'Swift', 'lips', 'Under', 'stormy', 'weather', 'marry', 'none', 'Him', 'rules', 'thunder', 'Put', 'asunder', 'Absolution', 'lie', \"God's\", 'telegraph', 'message', 'sealed', 'pigeonhole', 'preserved', 'If', 'died', 'unable', 'resist', 'opening', 'thrusting', 'burden', 'remaining', 'sons', 'parties', 'deception', 'peculiarly', 'simply', 'necessity', 'confess', 'write', \"You've\", 'lacerate', 'Reaching', 'clay', 'pot', 'relic', 'pioneer', 'tore', 'pieces', 'touching', 'pyre', 'flame', 'curl', 'sealing', 'wax', 'melting', 'bubbling', 'feathery', 'Surely', 'beloved', 'peace', \"'\", 'gathers', 'shall', 'gather', 'fruit', 'A', 'haunting', 'line', 'subtle', 'genius', 'Swinburne', 'difficult', 'envy', 'gifted', 'satisfactions', 'Beyond', 'greening', 'spring', 'hope', 'lay', 'Grand', \"Fair's\", 'Quinzaine', \"parents'\", 'graves', 'promise', 'grandsons', 'poured', 'thimble', 'toast', \"he'd\", 'often', 'absent', 'loved', 'drank', 'Brace', 'person', 'easygoing', 'bother', 'blacksmith', 'preacher', 'Howdy', 'Miss', 'adding', 'careless', 'Simply', 'call', 'Whipsnade', 'Oscar', 'Dr.', 'Dunne', 'P.GA', \"C'un\", 'Major', 'damn', 'fool', 'plain-out', 'please', 'try', 'ever', 'Mist', 'scream', \"hadn't\", 'meant', 'assured', 'importance', 'How', 'handsome', 'carte', 'blanche', 'furnishings', 'fail', 'spiritual', 'ways', 'Another', 'weakness', 'far', 'irritating', 'manner', 'speaking', 'token', 'effort', 'change', 'devotion', 'horse', 'rather', \"Robards'\", 'indeed', 'Mare', 'Mrs.', 'spoke', 'Queen', 'bless', 'horses', 'mares', 'geldings', 'what-nots', 'barn', 'reverent', \"Racin'\", 'revolting', 'Gunny', 'marriage', 'pearl', 'stamp', 'imperiously', 'stall', 'invariably', 'bite', 'Nerves', 'nip', 'Stand', 'Jen', \"she's\", 'oneasy', 'scarf', 'Never', 'Quit', \"sor'l\", 'concern', 'nerves', 'danger', 'curled', 'lip', 'mark', 'January', \"musn't\", 'annoy', 'foal', 'Listening', 'hours', 'laments', 'afterwards', 'robbed', 'mare', 'many', 'racing', 'triumph', 'predictions', 'greatness', 'procession', 'foals', 'forward', 'years', 'conflict', 'animal', 'intensely', 'symbolized', 'unpleasant', 'indifference', 'treated', 'acknowledge', 'husband', 'lack', 'understanding', 'sympathy', 'condition', 'disgusting', 'stomach', 'Human', 'birth', 'novelty', 'Tillie', 'fine', 'midwife', 'quick', 'suggested', \"Jenny's\", 'aversion', 'former', 'admirer', 'silly', 'humor', 'best', 'chances', 'riding', 'veterinarian', 'Night', 'winter', 'rubbing', 'quarts', 'expensive', 'liniment', 'fussing', 'bran', 'mash', 'cook', 'charlotte', 'russe', 'tracking', 'manure', 'carpet', 'jiffy', 'attentive', 'worried', 'wished', 'feeling', 'allowed', 'triplets', 'pleased', 'showing', 'disappointment', 'saying', \"trippin'\", 'pike', \"ever'\", 'hon', 'Rhyme', \"'em\", 'cute', 'Arcilla', 'Flotilla', 'Edmonia', 'firmly', 'Jennifer', 'Kezziah', 'mighty', \"an'\", \"this'll\", 'fetch', 'Now', 'must', 'boy-name', 'special', 'wait', 'till', \"Mare's\", 'Handsomest', 'colt', 'Kentucky', 'Strong', 'legs', 'hour', 'Royal', 'Jesus', 'tears', 'deeply', 'distressed', 'unhappy', 'peach', 'Of', 'spirits', 'rise', 'Those', 'elegant', 'Home', 'sent', 'wear', 'trimmed', 'brought', 'callers', 'Doc', 'Sis', 'So', 'Shawnee', 'Rakestraw', 'criticisms', 'changes', 'giving', 'thanks', 'Heavenly', 'Rest', 'year', 'enjoyed', 'boarding', 'inclement', 'Spa', 'summer', 'snippy', \"you'd\", 'namesake', \"she'd\", 'silver', 'teething', 'rings', 'trips', 'return', 'Kiz', 'cordial', 'hardly', 'More', 'driving', \"Tillie's\", \"Nick's\", 'frame', 'box', 'posts', 'chickens', 'cats', 'pups', 'friendly', 'to-do', 'babies', 'dollies', 'Though', 'glad', 'folks', 'welcome', 'finest', 'land', 'hot', 'collar', 'holy', 'spa', 'reserved', 'regretted', 'entertain', 'word', 'nurse', 'nigs', 'fit', 'shame', 'Have', 'party', 'swell', 'send', 'invite', \"ever'body\", 'met', 'Galt', 'House', \"I've\", 'Jockey', 'Club', 'affair', 'dang', \"We'll\", 'oystchers', 'couple', \"bar'l\", \"oystchers'll\", 'crowd', 'gets', 'dare', 'funny', 'ideas', 'perk', 'downright', 'surprised', \"Roy's\", 'buggy', 'beside', 'walking', 'school', 'teaching', 'Eph', 'Showers', 'preach', 'mountain', 'smile', 'hat', 'most', 'politely', 'hop', 'lift', 'hesitation', 'momentary', 'notice', 'See', 'yourself', \"won't\", 'gateway', \"Them's\", 'purtiest', 'babes', 'lonesome', 'relish', \"comin'\", 'uncomfortably', 'forgiven', 'Henrietta', 'murmured', 'absolution', \"Doaty's\", 'testament', 'proof', 'Doaty', 'godless', 'wishing', 'loving', 'note', 'garnet', 'counsel', 'extraordinary', 'us', 'Hetty', 'inevitably', 'unfavorable', 'Adelia', 'frequently', 'tempted', 'Their', 'childhood', 'circumspect', \"Hetty's\", 'flair', 'drama', 'summers', 'Maneret', 'School', 'taught', 'excellently', 'austere', 'knowledge', 'lessons', 'French', 'Polish', 'nobleman', 'profound', 'distaste', 'pupils', 'dancing', 'class', 'Craddock', 'tireless', 'supervising', 'wand', 'everlasting', 'one-two-three', 'supper', 'teas', 'fetes', 'balls', 'Mama', 'gay', 'Papa', 'enormously', 'jocular', 'possessive', 'Blackwell', 'planets', 'revolved', 'corruption', 'circle', 'interruption', 'Charles', 'safe', 'assume', 'sighing', 'heavily', 'daughter', 'Thank', 'spared', 'true', 'easier', \"Charles'\", 'vulnerable', 'able', 'ignore', 'moral', 'question', 'choice', 'moment', 'dawn', 'lying', 'others', 'regard', 'argue', 'morality', 'consisted', 'ability', 'finding', 'oppressive', 'someone', 'Impossible', 'imagine', 'temptation', 'sin', 'virtue', 'curious', 'birds', 'awake', 'colloquy', 'music', 'creep', 'across', 'sill', 'chair', 'flowers', 'artificial', 'blossom', 'leaf', 'Before', 'grave', 'forgotten', 'garden', 'Everything', 'mission', 'sentimental', 'duty', 'pilgrim', 'nature', 'avoided', 'graveyards', 'closed', 'remembering', 'enclosed', 'stone', 'rain', 'grass', 'gray', 'After', 'sad', 'impatient', 'comfort', 'slipped', 'open', 'lacy', 'dew', 'enchanting', 'wildness', 'Leaning', 'tangle', 'rosebush', 'honeysuckle', 'bloom', 'On', 'spray', 'thorns', 'dewdrops', 'swelling', 'buds', 'Valentine', 'bird', 'balanced', 'sang', 'nondescriptly', 'engine', 'artless', 'barefoot', 'play', 'growing', 'permitted', 'bare', 'decidedly', 'une', 'femme', \"d'un\", 'certain', 'age', 'Feeling', 'suddenly', 'neat', 'subdued', 'soberly', 'downstairs', 'Rosa', 'unbelievably', 'reassurance', 'human', 'protective', 'yesterday', 'bun', 'jug', 'breakfast', 'equivalent', 'Outside', 'tame', 'wilderness', 'yielded', 'patchwork', 'bouquet', 'daisies', 'william', 'scented', \"lady's\", 'bedstraw', 'tied', 'grasses', 'show', 'stirring', 'haranguing', 'Folly', 'poodle', 'gleefully', 'supplicating', 'air', 'prayerful', 'forepaws', 'held', 'Rummaging', 'coldly', 'Go', 'sounded', 'clear', 'impression', 'comply', 'danced', 'eager', 'whatever', 'slumbered', 'village', 'sea', 'thirty', 'walked', 'narrow', 'shuttered', 'shops', 'inhabitants', 'eying', 'frankest', 'curiosity', 'bowed', 'recalling', 'princess-in-a-carriage', 'acknowledgments', 'cautious', 'interested', 'An', 'cottage', 'reflective', 'passed', 'sap', 'plainly', 'branches', 'impulse', 'cupped', 'ear', 'repetition', 'announcing', 'nettled', 'offered', 'estimate', 'unenthusiastic', \"Summer's\", 'slow', \"dryin'\", 'scowled', 'vague', 'hospitality', \"They'll\", \"takin'\", 'pleasantly', \"soon's\", 'plan', 'choose', 'coffin', 'myself', 'does', \"You'd\", 'doubtfully', \"Y're\", 'straightened', 'soldierly', 'pulled', 'sprawled', 'boots', 'stick', 'ceased', 'pointer', 'emphasizing', 'finer', 'aspects', 'text', \"f'r\", 'happily', 'system', 'whatsoever', 'rests', 'tissues', 'nodded', 'approval', 'womanly', 'sense', 'Rests', 'pacifies', 'My', 'dad', 'sharply', 'link', 'Titus', 'nineties', 'Next', 'Blackwells', 'island', 'silenced', 'terrible', 'scanty', 'beard', 'deep-set', 'mariner', 'possible', 'spoken', 'awed', 'sisters', 'fellow', 'fishing-boat', 'captain', 'powerful', 'shriveled', 'size', 'senses', 'gently', \"well's\", 'Ran', 'lawful', 'wedded', 'impressed', \"Can't\", 'blame', \"leavin'\", 'cheerfully', 'Left', 'mine', 'boat', \"there's\", 'places', 'reasons', 'Any', 'harm', 'Probably', 'dryly', 'short', 'knowingly', 'observed', 'liking', 'defend', 'actions', 'different', 'laws', 'connivance', 'Selma', \"Cotter's\", 'censure', 'Great', 'Island', 'understood', 'praised', 'ancient', 'earth', 'move', 'big-boned', 'drab-haired', 'clean', 'apron', 'limp', 'print', 'vaguely', \"gran'dad\", \"Y'r\", \"dam'\", 'porridge', 'Milk', 'sops', 'beat', 'claws', 'clattered', 'stones', \"He's\", 'lowly', 'today', 'grand-daughter', 'wearily', 'bent', 'pick', 'comes', 'drink', 'beer', 'piously', 'heaven', 'Beer', 'affect', 'ingenious', 'hypocrisy', 'defense', 'forgave', 'stint', 'malevolence', 'Come', 'eating', \"Blackwell's\", 'somewheres', 'graveyard', 'Who', \"day's\", \"You'll\", 'visiting', \"Ma'am\", 'Delia', 'arm', 'grow', 'answered', 'nod', 'lifted', 'patiently', 'gentle', 'cruelty', 'necessary', 'tyranny', 'mumbled', 'led', 'shuffling', 'mightily', 'weak', 'buffeted', 'wicked', 'gabble', 'voices', 'indoors', 'hungry', 'fish', 'swearing', 'lively', \"journey's\", 'leaving', 'crossing', 'field', 'ahead', 'edge', 'wild', 'rolling', 'dotted', 'bushes', 'sheep', 'covered', 'blossoms', 'scant', 'roots', 'clawing', 'stony', 'darted', 'rustle', 'cry', 'placid', 'terrestrial', 'humming', 'sky', 'mindless', 'easy', 'spire', 'Both', 'smaller', 'remembered', 'lessened', 'headstones', 'grown', 'Dorothy', 'Tredding', 'impossible', 'nearest', 'fallen', 'sea-damp', 'tracing', 'indecipherable', 'carved', 'letters', 'padded', 'green', 'moss', 'gathering', 'gold', 'parasol', 'shade', 'rock-carved', 'angel', 'watched', 'nearby', 'tomb', 'savage', 'moonlight', 'scudding', 'clouds', 'dared', 'stolen', 'hoping', 'fearing', 'ghosts', 'Momoyama', 'Miyagi', 'Prefecture', 'northeast', 'main', 'Japanese', 'Honshu', 'traces', 'Ainu', 'strain', 'Ainus', 'primitive', 'principal', 'ancestors', 'Southern', 'Asia', 'Apparently', 'Caucasian', 'blood', 'skins', 'bearded', 'pitiful', 'subsist', 'tourist', 'trade', 'sing', 'tribal', 'chants', 'sadness', 'Indians', 'Most', 'assimilated', 'sometimes', 'Akita', 'prefectures', 'hairy', 'average', 'occasionally', 'strikingly', 'lovely', 'coloring', 'warmed', 'improved', 'tawny', 'honey-in-the-sun', 'tint', 'invaders', 'South', 'Tommy', 'fortunate', 'occasions', 'taller', 'girls', 'exquisitely', 'willowy', 'lucky', 'tall', 'bridge', 'pale', 'susceptible', 'sunburn', 'vegetable', 'diet', 'forebears', 'regular', 'soft', 'intriguingly', 'tilted', 'melody', 'Japan', 'week', 'alien', 'considering', 'putting', 'rebellious', 'requests', 'San', 'Diego', 'Bremerton', 'Lakes', 'Pensacola', 'Navy', 'hospital', 'threat', 'resign', 'commission', 'request', 'granted', 'Anywhere', 'wrong', 'job', 'assigned', 'psychopathic', 'ward', 'depressingly', 'serious', 'cases', 'teamed', 'chaplain', 'counselor', 'States', 'preserve', 'mental', 'health', 'rule', \"doctor's\", 'seeing', 'salvage', 'firms', 'operate', 'hulks', 'warships', 'sunk', 'inshore', 'involved', 'setting', 'nerve-shattering', 'blasts', 'psychiatry', 'help', 'patients', 'suffered', 'off-duty', 'Such', \"Officers'\", 'hamburger', 'sustain', 'dinnertime', 'cocktail', 'tight', \"Navy's\", 'crossroads', 'Ships', 'Coast', 'rotated', 'six-month', 'tours', 'Seventh', 'Fleet', 'Yokosuka', \"Fleet's\", 'port', 'maintenance', 'shore', 'liberty', 'Sooner', 'later', 'ships', 'officers', 'Long', 'Beach', 'desperately', 'approach', 'good-looking', 'Bar', 'stag', 'cubes', 'tinkling', 'alone', 'trifle', 'tipsy', 'drinking', 'consequently', 'practice', 'tweed', 'sports', 'jacket', 'obviously', 'tailored', 'Hong', 'Kong', 'marked', 'lieutenant', 'carriers', 'aviator', 'fifty-fifty', 'chance', 'unmarried', 'slender', 'applied', 'anywhere', 'overseas', 'foreign', 'implied', 'excused', 'license', 'intimated', 'therefore', 'Then', 'Harro', 'girl-san', 'turning', 'charm', 'catchee', 'boy-furiendo', 'Maybe', 'likee', 'date', 'beg', 'pardon', 'rage', 'believe', 'understand', 'quaint', 'brand', 'English', 'nice-looking', 'officer', 'heels', 'open-mouthed', 'blushing', 'least', 'decency', 'blush', 'mean', 'furiously', 'jerked', 'thumb', 'gesture', 'slang', 'Take', 'fly-boy', 'Uh', 'muttered', 'trouble', 'lasting', 'satisfaction', 'college', \"nurses'\", 'training', 'Everybody', 'accepted', 'charming', 'Nobody', 'addressed', 'Spanish', 'brunettes', 'Moorish', 'hint', 'Orient', 'faces', 'beauties', 'Balkan', 'states', 'similarly', 'endowed', 'blessed', 'United', 'halfway', 'humiliated', 'self-consciously', 'Four', 'waitresses', 'murdering', 'language', 'counter', 'Yuki', 'Kobayashi', 'Bifutek-san', 'steak', 'sandwich', 'Kohi', 'Futotsu', 'cup', 'Two', 'groomed', 'whitehaired', 'doting', 'commander', 'exceptionally', 'appealing', 'Seeing', \"Tommy's\", 'rebelliously', 'pride', 'remain', 'learning', 'civilian', 'transient', 'experienced', 'perfectly', 'America', 'becoming', 'increasingly', 'Nurse', 'Corps', 'friends', 'congenial', 'after-duty', 'raucous', 'male', 'singing', 'terribly', 'key', 'poorly', 'admit', 'companionship', 'natural', 'put-upon', 'finished', 'check', 'incident', 'repeated', 'Eating', 'angry', 'slight', 'indigestion', 'Back', 'bicarbonate', 'soda', 'sulked', 'mirror', 'certainly', 'crude', 'letter', 'cheerful', 'promised', 'soon', 'visit', 'uncle', 'Oyajima', 'tomorrow', 'kimono', 'faculty', 'member', 'hostess', 'gown', 'kotowaza', 'proverb', 'says', 'Tanin', 'yori', 'miuchi', 'literally', 'translated', 'Relatives', 'strangers', 'Actually', 'thicker', \"Doolittle's\", 'scheduled', \"captain's\", 'mast', 'discipline', 'dispensed', 'ordinarily', 'immature', 'chief', 'naturally', 'report', 'hall', 'riot', 'Subic', 'Walt', 'Perry', 'convinced', 'expert', 'tactics', 'rabble', 'rousing', 'executive', 'opinion', 'entirely', 'belief', 'reason', 'Doolittle', 'image', 'fun-loving', 'Guns', 'Appleby', 'perils', 'awful', 'horseplay', 'practical', 'jokes', 'stabilizing', 'sobering', 'influence', 'heart', 'overdeveloped', 'wisecracked', 'indoctrination', 'delight', 'slaughtering', 'cockroaches', 'ethyl', 'chloride', 'security', 'members', 'Armed', 'Forces', 'wonderful', 'uniform', 'may', 'heights', 'eventually', 'retired', 'restriction', 'ship', 'Bustard', 'deprived', 'Boats', 'McCafferty', 'book', 'restricted', 'confines', 'Base', 'thoughtful', 'draw', 'medical', 'supplies', 'Supply', 'naval', 'establishment', 'suited', 'inspect', 'caves', 'dug', 'hills', 'Naval', 'shipmate', 'telephone', 'connect', 'exchange', 'Whitey', 'Gresham', 'sonofabitch', 'exclaimed', 'affection', 'commissary', 'Grab', 'taxi', 'walk', 'errand', 'smart', 'salute', 'gangway', 'dock', 'Petty', 'wondered', 'enjoy', \"one's\", 'spare', 'considered', 'excursion', 'road', 'dusk', 'exercise', 'boating', 'hiking', 'virile', 'strenuous', 'golf', 'fashionable', 'clubs', 'played', 'swimming', 'Riverside', 'Hotel', 'bottom', 'frog', 'packing', 'Sierras', \"Buzz's\", 'Pagan', 'Room', 'Wow', 'Strippers', 'scrumptious', 'Toodle', 'Williams', 'all-lesbian', 'band', 'Hi', 'Buzz', 'Owen', 'Willows', 'notes', 'Tough', 'Listen', \"we're\", 'dinner', 'Friday', 'Imagine', 'pleasant', 'worked', 'territory', 'Reno', 'dinners', 'Thanks', 'happen', 'instigator', 'victims', 'finally', 'rid', 'timid', 'rap', 'Gertrude', 'Parker', 'explained', \"I'd\", 'talk', 'minutes', 'Ahah', 'lush', 'divorcee', 'lobby', 'disappointed', 'nervous', 'scrawny', 'standing', 'frowned', 'pajamas', 'moons', 'semi-professionally', 'Our', 'sponsoring', 'group', 'courageous', 'Alaska', 'lay-sisters', 'among', 'Eskimos', 'bringing', 'freezing', 'highball', 'glasses', 'sparkled', 'dully', 'bright', 'hardships', 'undergo', 'apparently', 'satisfied', 'reaction', 'Smug', 'smug', 'sappy', 'twitch', 'region', 'lewd', 'winking', 'effect', 'Eskimo', 'wildly', 'admitted', 'suppose', 'religion', 'probably', 'resent', 'outsiders', 'telling', 'sickly-tolerant', 'fashion', 'themselves', 'remarks', 'canvassing', 'Forebearing', 'pitch', 'Several', 'slowly', 'retreated', 'raised', 'desk', 'curiously', 'hotel', \"you're\", 'wandering', 'corridors', 'knocking', \"strangers'\", 'difficulties', 'proper', 'travel', 'pairs', 'hundred-and-fifty', 'miles', 'Pacific', 'Northwest', 'aware', 'overexcited', 'drew', \"That's\", 'remonstrated', 'secular', 'active', 'salesmen', 'business', 'bibles', 'prayer', 'books', 'publishing', 'personnel', 'appliances', 'cosmetics', 'plays', 'waspishly', 'appliance', 'heatedly', 'conversation', 'whiskey', 'smiling', 'blinking', 'forget', 'seller', 'excuse', 'appointment', 'bar', 'Leave', 'card', 'listening', 'helped', 'bucking-up', 'crestfallen', 'race', 'indecisively', 'calm', 'realized', 'showered', 'dining', 'receive', 'mail', 'usual', 'enthusiastic', 'bulletins', 'issued', 'lawyer', 'statement', 'overdue', 'alimony', 'Collector', 'Internal', 'Revenue', 'asking', 'explain', \"year's\", 'exemptions', 'ate', 'Virginia', 'braced', 'crest', 'white-topped', 'glisten', 'Truckee', 'River', 'spangle', 'elated', 'adventurous', 'luck', 'easily', 'flowerpot', 'Although', \"o'clock\", 'Golden', 'Calf', 'spinning', 'dice', 'rattling', 'crowded', 'test', 'roulette', 'combination', 'five', 'seventeen', 'won', 'surprisingly', 'dollars', 'management', 'champagne', 'dimly', 'lit', 'neon', 'gamblers', 'automatically', 'caring', 'mural', 'depicted', 'settlers', 'wagons', 'appeared', 'animated', 'expectancy', 'gazed', 'splendidly', 'stern', 'hopeful', 'Donner', 'starving', 'wonder', 'eat', 'mused', 'heavily-upholstered', 'blonde', 'cleaned', 'dirty', 'one-arm', 'bandits', 'cunningly', 'arranged', 'entrance', 'slots', 'bested', 'mechanical', 'devices', 'depending', 'support', 'dried-up', 'cowboy', \"blonde's\", 'authentic', 'slightly', 'stables', 'steady', 'martingale', 'announced', 'build', 'hit-and-miss', 'five-seventeen', 'logging', 'twelve-hour', 'period', 'repeating', \"roulette's\", 'game', 'blackjack', 'Incidentally', 'famous', 'parts', 'Wrangler', 'Nice', 'spend', 'ranch', 'Bar-H', 'pushing', 'Sparky', 'collect', 'rack', 'single-foot', \"he's\", 'fastest', 'Washoe', 'County', 'publicity', 'campaign', 'TV', 'hero', 'trained', 'Hoot', 'Gibson', 'pinto', 'photographs', 'wonderfully', 'Five', 'neglected', 'loss', 'conclusively', 'jinx', 'Hurrays', 'glorified', 'gambling', 'den', 'marking', 'keno', 'spirit', 'waned', 'studied', 'pistol', 'exhibition', 'featured', 'added', 'attraction', 'ogled', 'redhead', 'shill', 'prejudice', 'shills', 'cash', 'everyone', 'flipping', 'discreetly', 'withdrew', 'customers', 'chips', 'checks', 'premium', 'points', 'announcement', 'whereby', 'feature', 'floorshow', 'A.M.', 'starring', 'Adele', 'Body', 'Brenner', 'fourteen', 'glamorous', 'schoolgirls', 'bag', 'frightened', 'brides', 'orchids', 'chuck-a-luck', 'Hawaiian', 'shirt', 'carrying', 'sun-tan', 'oil', 'dark', 'shorter', 'fatter', \"We're\", 'Lake', 'Tahoe', 'Cal-Neva', 'instigating', 'guy', 'guarantees', 'wheel', 'stickman', 'pit', 'boss', 'crossroading', 'faro', 'allergic', 'pollen', 'okay', 'crap', 'pyramid', 'consecutive', 'success', \"How's\", 'honey', 'platinum', 'bursting', 'sun-suit', 'well-fed', 'prosperous', 'propositioned', 'Stake', 'dance', 'tango', 'hurry', 'discuss', 'merger', 'broke', 'Sounds', 'real', 'love', 'brings', 'lump', 'throat', \"name's\", 'Gisele', 'ordered', 'Scotch', 'Named', 'ballet', 'Sylphide', 'affected', 'Spencer', 'Is', 'offer', 'Alexander', 'Answer', 'properly', 'quiet', 'longer', 'Captain', 'Very', 'procedure', 'Philip', 'cold-bloodedly', 'planned', 'murder', 'chide', 'lapse', 'address', 'During', 'arrest', 'Somers', 'Greek', 'paper', 'manufacturing', 'steal', 'aft', 'pretence', 'opportunity', 'communicate', 'Hostile', 'glances', 'flashed', 'Gansevoort', \"Captain's\", 'cabin', 'arrests', 'E.', 'Andrews', 'Cromwell', 'oldest', 'dangers', 'glories', 'identified', 'mutineer', 'Somehow', 'letting', 'tap', 'Oliver', 'entered', 'Heiser', 'breathless', 'wild-eyed', 'chilling', 'news', 'handspikes', 'heavers', 'holystones', 'mysteriously', 'customary', 'sir', 'articles', 'souvenirs', 'African', 'knife', 'battle-ax', 'sharpened', 'McKinley', 'Green', 'overheard', \"Spencer's\", 'Where', 'information', 'reported', 'disappearance', 'crash', 'deck', 'sprang', 'ladder', 'revealed', 'topgallant', 'aimless', 'milling', 'well-trained', 'well-organized', 'crew', 'struck', 'horror', 'bellowed', 'orders', 'alert', 'response', 'heads', 'questioningly', 'shackled', 'further', 'instruction', 'Adrien', 'Deslonde', 'hastened', \"Alexander's\", 'Small', 'violently', 'weather-royal', 'brace', 'intention', 'consultation', 'swear', 'mistaken', 'aiding', 'sending', 'signal', 'obey', 'evident', 'confusion', 'turmoil', 'ideal', 'begin', 'battle', 'bloodshed', 'strategy', 'reasoned', 'defeated', 'unwillingness', 'sanction', 'originated', 'placed', 'irons', 'terror', 'stalked', 'potential', 'followers', 'openly', 'morose', 'missing', 'muster', 'expressing', 'ominous', 'tones', 'displeasure', 'prisoners', 'communicating', 'hiding', 'Midshipman', 'Tillotson', 'insolently', 'disobeyed', 'Seaman', 'Wilson', 'attacked', 'brandishing', 'weapon', 'snarling', 'joined', 'McKee', 'brig', 'loyal', 'villainous', 'unaffected', 'seven', 'crime', 'mutiny', 'Wales', 'speak', 'listen', 'Three', 'fears', 'requires', 'omniscient', 'select', 'rely', 'flush', 'From', 'aboard', 'guess', 'boast', 'staunch', 'modest', 'ventured', 'investigation', 'questioning', 'useless', 'force', 'guard', 'increased', 'number', 'Besides', 'court', 'inquiry', 'informed', 'large', 'punished', 'loose', 'perform', 'truly', 'workable', 'flag', 'needed', 'self-confident', 'lead', 'As', 'appointed', 'rushed', 'murdered', 'extravagant', 'harbor', 'agree', 'thoughtfully', 'conspiracy', 'ferocious', 'instinct', 'Anything', 'anarchy', 'paused', 'Implements', 'available', 'hasty', 'combat', 'stands', 'positive', 'suspicious', 'ourselves', 'stand', 'sentinel', 'brothers', 'midshipmen', 'responsibility', 'labor', 'uncertain', 'trust', 'lowered', 'wept', 'act', 'accordance', 'implacable', 'protection', 'honor', 'lose', 'dedicated', 'failed', 'yearned', 'passionately', 'foolish', 'strive', 'seek', 'gates', 'fortune', 'reward', 'eighteen-year-old', 'sailed', 'sobbed', 'shed', 'desired', \"egotist's\", 'fame', 'precious', 'career', 'satisfy', 'egotist', 'served', 'someday', 'returned', 'safely', 'Dear', 'dried', 'assurance', 'dignity', 'Stern-faced', 'inspected', 'satisfying', 'averted', 'glimpsed', 'anger', 'boatswain', 'mild-mannered', 'respectful', 'innocent', 'plot', 'Are', 'doubt', 'cannot', 'squinting', 'seeming', 'shake', 'lethargy', 'shifted', 'gaze', 'calmness', 'detachment', 'unawareness', 'implicit', 'guilt', 'naive', 'thick-skulled', 'sudden', 'painful', 'clarity', 'recognized', 'kinship', 'Here', 'stupidity', 'quarreling', 'inevitable', 'bad', 'handcuffs', 'ankle', 'follows', 'misfortune', 'red-haired', 'towering', 'prisoner', 'symbol', 'authority', 'shocked', 'tragic', 'lad', 'forged', 'shackles', 'favored', \"other's\", 'undoing', 'deny', 'constant', 'hazel', 'accept', 'gain', 'defending', 'Nothing', 'agreed', 'contemplation', 'logical', 'mass', 'hesitate', 'untruth', 'guilty', 'action', 'interpreted', 'favor', 'four', 'prior', 'significance', \"Cromwell's\", 'hands', 'whispered', 'explanations', 'Rogers', 'geometry', 'fantastic', 'wardroom', 'apprentices', 'awaited', 'continue', 'element', 'frightful', 'absurdity', 'Some', 'percentage', 'Rachel', 'steered', 'boys', 'study', 'Torah', 'Bits', 'trash', 'roadway', 'warmish', 'foul', 'alley', 'strides', 'double-breasted', 'coat', 'material', 'trousers', 'buckles', 'brim', 'crown', 'fur', 'trim', 'erect', 'approached', 'glancing', 'fixed', 'straight', 'pinkish-white', 'tightly', 'paot', 'conscious', 'market', 'long-sleeved', 'cloth', 'stride', 'swinging', 'sides', 'dingy', 'pivoting', 'heel', 'building', 'Like', 'swallowed', 'plodding', 'twisting', 'discolored', 'boarded', 'windows', 'schools', 'synagogues', 'occupied', 'ajar', 'flight', 'steep', 'shabby', 'baggy', 'skullcap', 'greeted', 'clasping', 'unclasping', 'paunch', 'flicked', 'ask', 'bare-armed', 'preceded', 'corridor', 'peering', 'classroom', 'stepped', 'benches', 'teacher', 'dripped', 'poised', 'surly', 'half-closed', 'shouted', 'Yiddish', 'Rapping', 'shrilled', 'translation', 'interpretation', 'Books', 'Moses', 'previously', 'chanted', 'Hebrew', 'tune', 'Each', 'rocked', 'bench', 'grandfather', 'great-grandfather', 'prayed', 'ghettos', 'Europe', 'upturned', 'noses', 'cropped', 'ringlets', 'framing', 'yellowed', 'prayerbooks', 'Since', 'penalty', 'distraction', 'guttural', 'ghetto', 'portion', 'rapping', 'incessantly', 'worn', 'freckles', 'hung', 'brilliant', 'curls', 'barely', 'interest', 'traveled', 'partially', 'texts', 'memorized', 'ago', 'singsonged', 'accompanied', 'off-key', 'baritone', 'spurred', 'tapping', 'defined', 'rhythm', 'pitched', 'shuddered', 'backed', 'clucked', 'cool', 'high-pitched', 'devote', 'rigid', 'Except', 'Shabbat', 'praying', 'rubbed', 'numb', 'prickly', 'waited', 'glanced', 'asks', 'skirt', 'fingered', 'pruta', 'coin', 'handed', 'thanked', 'grinned', 'Does', 'Sabras', 'horrible', 'fighting', 'orthodox', 'roads', 'fight', 'Messiah', 'amazed', 'convictions', 'appear', 'stupid', 'crazy', 'immortal', 'heroic', 'resented', 'faced', 'twinkling', 'Sometimes', 'Your', 'quietly', 'respectfully', 'section', 'clicked', 'visited', 'kibbutzim', 'Aliah', 'immigrants', 'Israel', 'freedom', 'dangerous', 'slyly', 'wherever', 'chose', 'sought', 'helping', 'Ready', 'follow', \"Me'a\", \"She'arim\", 'countries', 'farms', 'Jewish', 'anyplace', 'gaining', 'nerve', 'ready', 'intimate', 'rebuffed', 'clasped', 'slowed', 'pace', 'cobblestones', 'pursed', 'clamped', 'relaxed', 'Trouble', 'hurt', 'refugee', 'relatives', 'middle-aged', 'strut', 'numerals', 'branded', 'concentration', 'Often', 'despondent', 'retrieve', 'wandered', 'official', 'Mandate', 'imprisoned', 'arrested', 'hanged', 'continued', 'energy', 'Reuveni', 'direct', 'bright-eyed', 'deep', 'complained', 'shrugged', 'intend', 'Anyway', 'weeks', 'skinny', 'proposal', 'upset', 'straighten', 'beaten', 'imagined', 'plans', 'begun', 'waking', 'swing', 'chariot', 'maybe', 'poling', 'south', 'fork', 'Forked', 'Deer', 'braving', 'wastes', 'dumped', 'barge', 'gang', 'Ethiopians', 'taken', 'Wednesday', 'nights', 'fellowship', 'Out', 'car', 'tooling', 'headlights', 'sweeping', 'hit', 'expansiveness', 'pine', 'board', 'courts', 'cabins', 'naked', 'bulb', 'ceiling', 'unfrosted', 'streetlight', 'kid', 'swooping', 'bugs', 'bouts', 'hopscotch', 'complete', 'moths', 'pinging', 'casual', 'cruising', 'insect', 'Highway', 'Patrol', 'feelers', 'waving', 'sagged', 'weight', 'overhearing', 'Gratt', 'curtain', 'listened', 'Shafer', 'Memphis', 'wedding', 'rehearsal', 'Mattie', 'mayor', 'gripping', 'microphone', 'Toonker', 'Burkette', 'yanking', 'balloon', 'leak', 'blow', 'hell', 'burn', 'parachute', 'Starkey', 'Poe', 'suit', 'underwear', 'maid', 'thinks', 'pregnant', 'dizzy', 'somebody', 'normal', 'daddy', 'kill', 'draining', 'punctured', 'tire', 'muddy', 'raining', 'mud', 'spectator', 'pumps', 'squat', 'crying', 'afraid', 'damned', 'son-of-a-bitch', 'drive', 'changing', 'hating', 'raped', 'tool', 'ham', 'eggs', 'rape', 'nestled', 'breast', 'gives', 'whether', 'tramp', 'skull', 'drives', 'truck', 'delivers', 'berry', 'crates', 'sheds', 'owns', 'wells', 'diamond', 'mines', 'makes', 'difference', 'mild-voiced', 'little-town', 'big-town', 'level', 'Houdini', 'unlocked', 'discover', 'hate', 'means', 'Because', 'share', 'believed', 'resting', 'gift', 'works', 'wants', 'mile', 'sees', 'asleep', 'particularly', 'chump', 'plastered', 'afford', 'too-shiny', 'radio', 'dawns', 'fill', 'seat', 'miserable', \"Shafer's\", 'substitute', 'drunk', 'St.', 'Louis', 'looks', 'Christmas', 'Damn', 'corn', 'acres', 'whitewashed', 'bordering', 'grounds', 'envisioned', 'factories', 'Homes', 'federal', 'highway', 'peaceful', 'bandstand', 'uniforms', 'flash', 'instruments', 'bands', 'spellbound', 'symphony', 'sophisticated', 'concert', 'piano', 'virtuoso', 'rehearsing', 'governor', 'courage', 'swelled', 'chill', 'goose', 'bumps', 'rippled', 'dying', 'While', 'Tennessee', 'farmer', 'rained', \"rat's\", 'ass', 'nodding', 'furrowed', 'lean', 'cheeks', 'powdery', 'reflecting', 'droughts', 'drought', 'August', 'predicting', 'festival', 'thoughts', 'store', 'Factory-to-You', 'maids', 'youngest', 'clerk', 'thirty-four', 'conditions', 'unventilated', 'toilet', 'shut', 'lock', 'Herman', 'allow', 'encourage', 'malingering', 'primping', 'sincere', 'scrubbing', 'written', 'boxed-in', 'public', 'count', 'rapped', 'bangs', 'closet', 'break', 'connections', 'jerk', 'drag', 'opposite', 'handle', 'clutching', 'whichever-the-hell', 'six-thirty', 'eleven', 'Saturdays', 'sales', 'chairs', 'cooling', 'overhead', 'fans', 'porter', 'janitor', 'Among', 'handled', 'commissions', 'spot', 'drawings', 'advertising', 'uptown', 'magazine', 'lettering', 'specialty', 'George', 'complicated', 'pen-and-ink', 'medieval', 'hundreds', 'delicate', 'details', 'crammed', 'eight-by-ten', 'sheet', \"jeweler's\", 'precise', 'spots', 'sold', 'various', 'literary', 'artistic', 'journals', 'Yorker', 'instance', 'Esquire', 'jackets', 'covers', 'paperback', 'reprints', 'huddling', 'corners', 'furnished', 'rooms', 'doorway', 'daring', 'cops', 'sleeves', 'revolver', 'Brothers', 'Karamazov', 'illustration', 'Magpie', 'Press', 'historical', 'novel', 'Edward', '3', 'research', 'fifteenth-century', 'armor', 'ferreted', 'materials', 'shields', 'linden', 'leather', 'reflections', 'accurate', 'McKenzie', 'art', 'editor', 'sketch', 'Rufus', 'static', 'third', 'cost', 'reproduce', \"you've\", 'colors', 'including', 'readers', 'researches', 'television', 'movies', 'knights', 'middle', 'ages', 'flowing', 'haircuts', 'Fauntleroy', 'villains', 'beards', 'transparent', 'picture', 'Byron', 'sword', 'painted', 'furniture', 'stills', 'costume', 'movie', 'clam', 'authenticity', 'Donald', 'actually', 'paintings', 'easel', 'painters', 'scholarships', 'usually', 'Joyce', 'Monmouth', 'style', 'inner', 'vision', 'reminded', 'kids', 'adults', 'freshness', 'perception', 'self-consciousness', 'twist', 'forms', 'leap', 'page', 'smack', 'nearsighted', 'bottoms', 'bottles', 'prevent', 'exciting', 'uncanny', 'absent-minded', 'sleepwalker', \"Christ's\", 'Prussian', 'paint', 'pants', 'discovery', 'painting', 'gravy', 'shared', 'expenses', 'studio', 'cheap', 'lodgings', 'Attending', \"Askington's\", 'pressure', 'ambition', 'awoke', 'reputation', 'illustrator', 'Peter', 'Askington', 'goal', 'admired', 'artist', 'joy', 'profession', 'income', \"Monmouth's\", 'cashmere', 'buttons', 'Viyella', 'necktie', 'bolo', 'drawn', 'golden', 'ring', 'pure', 'jade', 'richness', 'texture', 'clothing', 'decorations', \"Brush-off's\", 'rent', 'forty-four', 'sparkle', 'erudite', 'speech', 'younger', 'prominent', 'illustrators', 'cover', 'slick', 'national', 'magazines', 'Life', 'included', 'Modern', 'Artists', 'series', 'photographed', 'Sixties', 'photograph', 'Velasquez', 'royalty', 'Spain', 'library', 'bookshelves', 'Modigliani', 'portrait', 'Jackson', 'Pollock', 'twelve', 'gorgeous', 'Miro', 'background', 'inscription', 'Martian', 'fireplace', 'tiles', 'Picasso', 'restaurants', 'illusion', 'wealthy', 'studying', 'By', 'classes', 'point', 'craft', 'painter', 'atmosphere', 'absorb', 'masters', 'Durer', 'Bellini', 'Mantegna', 'Painting', 'embrace', 'interdependent', 'varied', 'multitudinous', 'fragment', 'mosaic', 'performer', 'vast', 'philharmonic', 'organize', 'gigantic', 'extreme', 'abstract', 'expressionism', 'photorealism', 'artists', 'common', 'inward', 'outward', 'Ah', 'title', 'Eye', 'fascinated', 'intelligent', 'anatomy', 'Burns', 'replied', 'teaches', 'Manhattan', 'Art', 'scholarship', 'five-hundred-dollar', 'prize', 'bums', 'Hudson', 'enameling', 'Hajime', 'Iijima', 'Pendleton', 'Osric', 'million', 'retrospective', 'eighteen', 'contemporary', \"Cezanne's\", 'sixty', 'Still', 'modern', 'impressionist', 'canvases', \"Thoreau's\", 'hangouts', 'magical', 'Contact', 'stimulating', 'stimulation', 'succeed', 'isolating', 'farther', 'occupation', 'Middle', 'Ages', 'Renaissance', 'nineteenth', 'century', 'artisan', 'craftsmanship', 'goldsmith', 'carver', 'society', 'portraying', 'wars', 'leaders', 'ugliness', 'religious', 'impulses', 'propagandist', 'satirist', 'lover', 'philosopher', 'scientist', 'illustrating', 'tooth-paste', 'ads', 'salacious', 'incidents', 'trivial', 'novels', 'picking', 'fluff', 'navel', 'contemplated', 'greater', 'purity', 'bunch', 'amateur', 'dervishes', 'apprenticeship', 'cafe', 'upshot', \"Pendleton's\", 'Tuesday', 'Thursday', 'awkward', 'punch', 'clock', 'drawing', 'finish', 'lonely', 'Brush-off', 'reading', 'mostly', 'benefit', 'mailman', 'Stimulating', 'rewarding', 'Partly', 'anticipated', 'prepared', 'worship', 'classic', 'bitter', 'cigars', 'quitting', 'registration', 'Ida', 'glove', 'compartment', 'Via', 'readily', 'frowning', 'Had', 'signed', 'mutually', 'stir', 'courtesy', 'accusing', 'fraud', \"Walter's\", 'thank', \"Via's\", 'assail', 'Walter', 'mind', 'attention', 'temporary', 'tear', 'narrows', 'Salter', 'half-murmured', 'remark', 'statements', 'stress', 'indulge', 'killing', 'sequence', 'noble', 'enjoying', 'lemon', 'sponge', 'dessert', 'roasted', 'chicken', 'parboiled', 'frozen', 'vegetables', 'icebox', 'weekend', 'appointments', 'Dolly', 'Thaxters', 'recovering', 'movie-to-be', 'London', 'tranquil', 'wiser', 'tolerance', 'patch', 'foggy', 'path', 'grooved', 'accustomed', 'dense', 'mists', 'sun-warmed', 'palisades', 'river', 'fog', 'crept', 'twinkle', 'woods', 'assumed', 'shopping', \"women's\", 'lunch', 'parish', 'discussed', 'annual', 'bazaar', 'late', 'Prisoners', 'accused', 'accident', 'accounts', 'testimony', 'itself', 'unsee', 'Thaxter', 'driveway', \"car's\", 'length', 'turnaround', 'Engisch', 'nowhere', 'screamed', 'search', 'upstairs', 'closets', 'exclaiming', 'rushes', 'gasps', 'portfolio', 'lingerie', 'mink', 'telephoning', \"Salter's\", 'friend', 'equal', 'servant', 'sandwiches', 'Sitting', 'recalled', 'alarm', 'guests', 'Harvie', 'drop', 'Rome', 'habit', 'busy', 'hour-long', 'conversations', 'Constance', 'final', 'plea', 'Hanging', 'patience', 'stab', 'conclusion', 'cliff', 'disturbed', 'winds', 'romantic', 'broad', 'gleaming', 'moontrack', 'enormous', 'poetic', 'rock', 'misstep', 'fisherman', 'shudder', 'triumphant', 'account', 'Was', 'hysterical', 'release', 'vigilance', 'Sonny', 'shuddering', 'Everyone', 'pitied', 'underneath', 'unquenched', 'pity', 'enduring', 'ghastly', 'outcry', 'appalled', 'knows', 'absurd', 'exclamation', 'estranged', 'hangs', 'void', 'connection', 'self-pity', 'separation', 'prevented', 'justify', 'scapegoat', 'borne', 'avoidance', 'rankles', 'coolly', 'hurts', 'cried', 'triumphantly', 'Mathias', 'haunted', 'persisted', 'explaining', 'advised', \"nobody's\", 'overplayed', 'value', 'coarse', 'insulting', 'harsh', 'appraisal', \"Mathias'\", 'advice', 'thousands', 'towns', 'dispossessed', 'hanging', 'makeshifts', 'altogether', 'arid', 'decision', 'discarded', 'risen', 'fullest', 'height', 'transcending', 'murky', 'self', 'ignorant', 'self-examination', 'conclusions', 'realizing', 'praise', 'deliverance', 'pettiness', 'greed', 'free', 'darling', 'Ellen', 'funeral', 'Methodist', 'minister', 'glistening', 'eyeglasses', 'doll', 'stranger', 'sacred', 'drumming', 'accompaniment', 'relentless', 'burial', 'postponed', 'decided', 'cremate', 'leaped', 'trestles', 'parlor', 'surface', 'sheaf', 'roses', 'knelt', 'whispering', 'Father', 'Heaven', 'grief', 'parking', 'Together', 'hearse', 'traffic', 'Jersey', 'arrived', 'chapel-like', 'auditorium', 'discreet', 'symbols', 'faiths', 'Again', 'impelled', 'kneel', 'Bach', 'healing', 'bachelor', 'apartment', 'Lancaster', 'Arms', 'Uhhu', 'eyelid', 'downtown', 'Carla', 'wanting', 'convivial', 'needs', 'Pausing', 'Me', 'Umm', 'uhhu', 'Kleenex', 'purse', 'wiped', 'lipstick', 'solemnly', 'Alberto', 'flatter', 'vanity', 'history', 'Caneli', 'Would', 'stories', 'lies', 'cleansing', 'using', 'falling', 'orderly', 'hide', 'annoyance', 'sloppy', 'bathroom', 'knees', 'scrub', 'vent', 'exasperation', 'dwelt', 'indignities', 'respect', 'view', \"What's\", 'Sam', 'Look', 'shoe', 'wears', 'pair', 'thin-soled', 'Italian', 'outfit', 'dark-gray', 'slacks', 'fawn-colored', 'encountered', 'tweedy', 'Englishman', 'delighted', 'Changing', 'dark-blue', 'aside', 'remind', 'Parioli', 'loafed', 'ruins', 'Roman', 'lower', 'Veneto', 'Farnese', 'Gardens', 'amusing', 'scandal', 'Farneses', 'Trastevere', 'fountain', 'piazza', 'Santa', 'Maria', 'eloquent', 'midnight', 'woke', 'bells', 'ringing', 'scolding', 'obelisk', 'Steps', 'clung', \"Peter's\", 'wake', 'shaking', \"Aren't\", 'drowsily', 'snuggled', 'certainty', \"mother's\", 'stuck', 'Bible', 'temperament', 'achieved', 'tranquility', 'composure', 'accepting', 'Testament', 'Sistine', 'Chapel', 'folklore', 'Could', 'honestly', 'prophets', 'imagination', 'Being', 'Catholic', 'Protestant', 'dogmatic', 'atheists', 'strict', 'Communist', 'wearied', 'ideologies', 'enlargement', 'wearying', 'somewhere', 'pondering', 'Ferraros', 'hurrying', 'joking', 'stair', 'worrying', 'behave', 'Ferraro', 'lady', 'softly', 'Ciao', 'gleamed', 'gestures', 'courteous', 'Agnese', \"'ello\", 'biscuits', 'Acting', 'interpreter', 'folded', 'lap', 'utterly', 'impersonal', 'Watching', 'tennis', 'ball', 'bounced', 'Signora', 'bobbing', 'encouragingly', 'Canada', 'nephew', 'North', 'lumber', 'mill', 'seasonal', 'unemployment', 'migrated', 'railway', 'bush', 'boxcar', \"Sam's\", 'countrymen', 'boxcars', 'Regretfully', 'experience', 'adopted', 'Pope', 'sparkling', 'intellectual', 'mystical', 'Portugal', 'confirmation', 'serenity', 'unaware', 'homely', 'enchantment', 'Holy', 'translate', 'assistance', 'doctors', 'rulers', 'saint', 'Nodding', 'approvingly', 'confidentially', 'discontent', 'cardinals', 'splendor', 'intellect', 'Signor', 'Raymond', 'regime', 'Jobs', \"Carla's\", 'Italians', 'Devout', 'Brooklyn', 'Malta', 'Ireland', 'glowing', 'softening', 'happiness', 'dreamy', 'Dookiyoon', 'lodge', 'Shades', 'purify', 'caressing', 'flageolet', 'whisper', 'emerge', 'unhesitant', 'stiff', 'facing', 'contempt', 'encounter', 'disdain', 'outraged', 'scornful', 'proceeded', 'destination', 'bleeding', 'breath', 'bounce', 'press', 'feared', 'presences', 'metabolism', 'trembling', 'stumbled', 'Going', 'queer', 'hideous', 'weird', 'images', 'invested', 'eyeballs', 'pressed', 'thumbs', 'fled', 'minded', 'Elsewhere', 'lodges', 'clusters', 'Early', 'Spring', 'half-drunk', 'Walitzee', 'mild', 'commotion', 'hushed', 'Standing', 'imperious', 'denying', 'dread', 'suffer', 'insult', \"girl's\", 'scorn', 'overloud', 'Tell', 'Pile', 'Clouds', 'indignant', 'wolf', 'shriek', 'begging', 'Telling', 'unsheathing', 'curing', 'hides', 'wickedness', 'cunning', 'hunger', 'Speaking', 'loathing', 'upright', 'bearing', \"helsq'iyokom\", 'murmuring', 'knot', 'threats', 'mingling', 'nagging', 'indignation', 'sticks', 'hurled', 'shower', 'sting', 'pain', 'shouting', 'embodiment', 'defiance', 'howling', 'bullhide', 'whip', 'pack', 'noise', 'screaming', 'tripping', 'seized', 'flog', 'Drive', 'demons', 'teach', 'jerking', 'Get', 'hovel', 'spat', 'double-married', 'yours', 'parades', 'Keep', 'confront', 'leads', 'fury', 'sank', 'darkness', 'stirred', 'mumbling', 'stupor', 'worrisome', 'happens', 'dreamed', 'wolves', 'nakedness', 'smelling', 'stale', 'odor', 'whisky', 'TuHulHulZote', 'concerns', 'Lie', 'enter', 'brain', 'curses', 'bore', 'twisted', 'gnarled', 'talons', 'rudely', 'moon', 'thousand', 'shoving', 'spruce', 'whine', 'crack', 'damp', 'shortening', 'arc', 'narrowed', 'snarled', 'cracked', 'settling', 'unchanged', 'motionless', 'staring', 'delineaments', 'bark', 'begotten', 'forbidden', 'tracings', 'tree', 'refracted', 'rough', 'edges', 'lash', 'crazed', 'monosyllables', 'meaning', 'unnnt', 'Sssshoo', 'despair', 'quavering', 'Move', 'settle', \"whip's\", 'Turning', 'unbent', 'resigned', 'blows', 'fleeing', 'dodging', 'shadows', 'hollow', 'rocky', 'hid', 'madness', 'glorying', 'hoarse', 'mastiff', 'bristling', 'ranted', 'prophesied', 'doom', 'enemies', 'circles', 'gasping', 'draughts', 'incoherent', 'oblivion', 'amused', 'appeasement', 'violence', 'retribution', 'antics', 'disdaining', 'gloom', 'games', 'races', 'future', 'paraded', 'grandly', 'attis', 'cave', 'skeletons', 'paxam', 'dipped', 'arrowheads', 'venom', 'rattlesnakes', 'swift', 'maneuvers', 'firing', 'guns', 'unison', 'indeterminate', 'Sarpsis', 'blankets', 'flew', 'wings', 'Swan', 'Necklace', 'emulate', 'timidly', 'Yellow', 'Wolf', 'disordered', 'chemistries', 'bolt', 'inaction', 'boiled', 'fermenting', 'juices', 'Alokut', 'challenged', 'matched', 'raced', 'maneuvered', 'single', 'file', 'abreast', 'cavalry', 'frenziedly', 'regalia', 'preparations', 'combed', 'streaked', 'greased', 'foreheads', 'tails', 'sage', 'hens', 'whitened', 'leggings', 'reflection', 'speeding', 'arrow', 'bow', 'hurtling', 'mad', 'grace', 'maleness', 'meadow', 'rue', 'admiring', 'envenomed', 'hilltops', 'descend', 'eagle', 'caper', 'cliffs', 'parade', 'challenge', 'arrogance', 'streaming', 'amulets', 'ripening', 'bellicosity', 'nation', 'throes', \"men's\", 'shifting', 'hearts', 'mounted', 'vanished', 'disheveled', 'hoofs', 'Appaloosas', 'Dogs', 'Hell', 'fleet', 'ridge', 'multicolored', 'legion', 'banners', 'roll', 'drums', 'cacophony', 'accompanying', 'wind', 'thousand-legged', 'monster', 'plunging', 'saddles', 'terrifying', 'ejaculated', 'grotesque', 'hemlocks', 'birch', 'maples', 'quarry', 'pulse', 'ears', 'totally', 'unfamiliar', 'shape', 'clutch', 'stubs', 'committed', 'suicide', 'dive', 'expertly', 'downward', 'root', 'sneakers', 'sliding', 'leaves', 'jumped', 'flat', 'expanse', 'seating', 'short-cut', 'reedy', 'frogs', 'faded', 'presently', 'volume', 'vibrant', 'Julia', 'accomplished', 'miracle', 'confused', 'Paul', 'Easter', 'holidays', 'Evening', 'Dancing', 'Class', 'attend', 'Hello', 'Julie', 'casually', 'breasts', 'obvious', 'lower-cut', 'wire', 'inability', 'pretense', 'acute', 'embarrassment', 'Bentley', 'Rawlings', 'sometime', 'Millie', 'robe', 'ghost', 'threshold', 'slept', 'china', 'lamp', 'switch', 'Monday', 'prison', 'indebted', 'Below', 'remote', 'tunnel', 'vacuum', 'cleaner', 'fumbled', 'bandages', 'uncovered', 'gripped', 'fearful', 'coursing', 'vessels', 'expanding', 'fabric', 'stains', 'apparent', 'mess', 'shivered', 'blood-soaked', 'wound', 'tidiness', 'verge', 'Alex', 'Poldowski', 'owed', 'debt', 'effete', 'gentleman', 'peered', 'wristwatch', 'Strange', 'quarter', 'Too', 'kneeling', 'tie', 'shoelaces', 'absurdly', 'clumsy', 'strands', 'adhesive', 'tape', 'ugly', 'gauze', 'moist', 'cheekbones', 'however', 'Hall', 'imperative', 'detained', 'hallway', 'plane', 'freakish', 'wreck', 'cavern', 'reply', \"Who's\", 'thief', 'discovered', 'leading', 'gazing', 'Uncle', 'Gosh', 'blazer', 'overly', 'brow', 'knitted', \"Pietro's\", 'finishing', 'Mother', 'float', 'implausibly', 'shaft', 'sunlight', 'oddly', 'considerate', 'partly', 'clearly', \"moment's\", 'paneling', 'vivid', 'inserted', 'eyelids', 'good-bye', 'mention', \"It'll\", 'Please', 'disappeared', 'pounding', 'goes', 'footsteps', 'manage', 'Lincoln', 'parked', 'Pietro', 'insolent', 'disdainful', 'Ardmore', 'merest', 'servants', 'born', 'inflection', 'forced', 'rehearsed', 'analyze', 'Carrie', 'affectionate', 'respected', 'responded', 'ridiculous', 'theater', 'restaurant', 'Forget', 'general', 'slackened', 'badly', \"aren't\", 'disappointing', 'purposeless', 'relinquished', 'Abruptly', 'greatest', 'automatic', 'phrase', 'crossed', 'courtyard', 'tender', 'Someone', 'Will', 'bumped', 'steadily', 'entry', 'brass', 'screwed', 'kitchenette', 'raw', 'gasp', 'swallows', 'lessen', 'hauled', 'upsets', 'insist', 'Joan', 'sweetheart', 'Happened', 'intoxicated', 'Unfortunately', 'jury', 'struggle', 'win', 'Tony', 'Elliott', 'pinch-hit', \"He'll\", 'tactful', 'nudge', 'facts', 'postponement', 'routine', 'strip', 'bribe', 'double', 'martini', 'Okay', 'receiver', 'relationship', 'Fulbright', 'renovated', 'brick', 'settler', 'constructed', 'clever', 'efficient', 'secretary', 'train', 'conformists', 'peculiar', 'obnoxious', 'ruffled', 'feathers', \"Jim's\", 'Myra', 'unreliable', 'irresponsible', 'flyaway', 'Lucy', 'Jim', 'jollying', 'Susan', 'Obviously', 'Upstairs', 'showering', 'raindrops', 'pattered', 'grandmother', 'prudent', 'packed', 'lifetime', \"She'd\", 'Websterville', 'expressive', 'registered', 'anxiety', 'Cathy', 'finds', 'Paris', 'awfully', 'grateful', 'appreciated', \"sister's\", 'Darling', 'mingled', 'blend', 'Remember', 'Leaving', 'supposedly', 'Gregg', \"Myra's\", 'otherwise', 'keys', 'jingled', 'nervously', 'scare', \"she'll\", 'defensive', 'Greg', 'widow', 'depends', 'rescue', 'crises', 'Remembering', 'succession', 'disasters', 'child-cloud', 'horizon', 'youngster', 'troubled', 'fuss', 'hers', 'unhappily', 'accuse', 'looming', 'specter', 'forever-Cathy', 'fiercely', 'startled', 'piping', 'yell', 'moon-washed', 'steeped', 'rung', 'stairway', 'brows', 'smoothed', 'muddling', 'worthless', 'selfish', 'clattering', 'overwhelmed', 'dolls', 'bundle', 'sharp', 'junk', 'gushed', 'instant', 'approaching', 'handkerchief', 'mopping', 'skillfully', 'shape-up', 'warning', 'groaned', \"Susan's\", 'gentler', 'Sure', 'entire', 'grappling', 'outsized', 'armload', 'Scrooge-like', 'lecture', \"cousins'\", 'sharing', 'sympathize', 'limit', \"Cathy's\", 'Lilliputian', 'competing', 'silence', 'rear', 'dust', 'flower-scented', 'breeze', 'darkened', 'chilly', 'good-by', 'chillier', 'feeding', 'raffish', 'cowbirds', 'bobbed', 'gobbled', 'cardinal', 'radiant', 'feathered', 'vestments', 'solitary', 'mate', 'guarding', 'nest', 'sly', 'advantage', 'nests', 'sentinels', 'abandoning', 'prepare', 'guest', 'baffled', 'helplessness', 'unscrupulous', 'dump', \"people's\", 'curtains', \"child's\", 'hopping', 'rabbits', 'airy', 'Goose', 'Mobile', 'row', 'hangers', 'neatly', \"Greg's\", 'faintly', 'fragrant', 'lavender', 'buried', 'panicky', 'Many', 'phone', 'Junction', 'phoned', 'sooner', 'character', 'napping', 'surrounded', 'multitude', 'tension', 'Methuselah', 'maternal', 'comforting', 'magic', 'Subdued', 'merriest', 'airport', 'bet', 'fixing', 'pause', 'hummed', 'voiceless', 'Puzzled', 'flowered', 'wallpaper', 'forthright', 'silences', 'moth', 'seekingly', 'realize', 'hesitated', 'hunting', 'Christmastime', 'Shocked', 'speechless', 'elastic', 'cord', 'uncoiling', 'snake', 'bogey', 'thickened', 'fetching', 'tightened', 'to-and-fro', 'abrupt', \"hall's\", 'purple-black', \"cowbirds'\", 'Cowbird', 'trudged', 'teddy', 'package', 'delivered', \"aunt's\", \"uncle's\", 'Unlike', 'traveling', 'shortest', 'stays', 'buy', 'Unimpressed', 'plopped', 'sand', 'Quint', 'disbelieving', \"they'd\", 'Esperanza', 'jammed', 'tourists', 'beach', 'show-offy', 'lifeguards', 'swirling', \"Quint's\", 'pronounced', 'sherbet-colored', 'cottages', 'mint', 'curve', 'deserted', 'Eats', 'jiggling', 'rocks', 'jaggedly', \"water's\", 'V-shaped', 'inlet', 'lumpy', 'trailing', 'seaweed', 'whiskers', 'dragon', 'Swiss', 'belt', 'blades', 'corkscrew', 'perfect', 'Canute', 'controlling', 'waves', 'knight', 'Round', 'Table', 'Sir', 'Quintus', 'Brave', 'slaying', 'banshees', 'vampires', 'witches', 'warty', 'astronaut', 'chosen', 'intrepid', 'persecuted', 'Fearless', 'fearless', 'scary', 'Tomorrow', 'Dad', 'intended', 'piece', 'nightmare', 'Stop', 'thump', 'signals', 'radar', 'Son', 'pig', 'cords', 'Fortman', 'limping', 'Big', 'dumb', 'nut', 'polio', 'bedside', 'spilled', 'probly', 'Victoria', 'lick', 'Fatso', 'Stuck-up', 'Mister', 'loud', 'bedtime', 'Gord', 'Strength', 'zip', 'unlaced', 'metal', 'wadded', 'sweat', 'stripped', 'trunks', 'Goolick', 'goooolick', 'creaked', 'gull', 'Aw', 'dignified', 'ocean', 'bored', 'hole', 'shoulder', 'choppy', 'wedged', 'scared', 'crawled', 'Watch', 'shot', 'yelled', 'peppermints', 'bathing', 'straps', 'shouders', 'duck', 'snapped', \"Isn't\", 'sore', 'boil', 'Ever', \"squatter's\", 'rights', 'Kansas-Nebraska', 'Bill', 'Britches', 'Mark', 'Gordon', 'Peters', 'Fifth', 'Latin', 'kinds', 'aleck', 'cough', 'ripping', 'unconsciously', 'imitating', \"Victoria's\", 'holier-than-thou', 'horrified', 'momentum', 'mama', 'wop', 'tail', 'wops', 'unimpressed', 'obliged', 'jeans', 'Dingy-looking', 'barber', 'pole', 'spouted', \"cane's\", 'handy', \"Someone's\", 'zoooop', 'snag', 'crook', 'waiter', 'bowl', 'soup', 'fly', 'bannnnnng', 'stooooomp', 'shaken', 'licking', 'stubby', 'plume', 'Part', 'collie', 'wire-haired', 'terrier', 'glared', 'mackerel', 'unique', 'DiMaggio', 'tranquilizers', 'braver', 'lately', 'Last', 'jag', 'yodeling', 'gotta', 'Squint', 'mornings', 'thereafter', 'Same', 'blister', 'Sabella', 'emerald', 'necklace', 'King', 'undying', 'picks', 'nuts', 'Naturally', 'curly', 'runs', 'Personally', 'prefer', 'Continent', 'Which', 'continent', 'Name', 'pugh', 'beaches', 'scraped', 'mold', 'Pugh', 'Camels', 'Tripoli', 'harelips', 'Near', 'Galway', 'tinkers', 'caravans', 'fought', 'gypsies', 'Jerez', 'Really', 'smothered', 'yawn', 'Artfully', 'occasion', 'Cross', 'Korean', 'War', 'spit', 'personally', 'IQ', '141', 'currently', 'Mushr', 'Ozon', 'encyclopedia', 'schnooks', 'skipped', 'tonsil', 'tonight', 'Chinaman', 'Tooth-hurty', 'Encouraged', 'giggles', 'imitated', 'described', 'decorated', 'pineapple', 'cherries', 'snuck', 'gumming', 'stumpy', 'panting', 'thirst', 'lagoon', 'staggering', 'Say', 'comic', 'admiringly', 'Either', 'Better', 'cod', 'salmon', 'sharks', 'bones', 'shrimp', 'swam', 'backward', 'encylopedia', 'string', 'Boy', 'Willie', 'Mays', 'outfield', 'je', 'ne', 'quok', 'daydreamed', 'splashed', 'buckets', 'beseech', 'thee', 'sprayed', 'raisin', 'plastic', 'bib', \"Daddy's\", 'Francisco', \"he'll\", \"one-o'clock\", 'Fifteen', 'Yeah', 'keen', 'Children', \"we'll\", 'organized', 'nap', 'noticing', 'rope', 'sheets', 'Kool-Aid', 'lung', 'caused', 'gagging', 'Sweating', 'unbearable', 'drowning', 'Bobbie', 'smashed', 'Jaguar', 'Linda', 'birthday', 'thoroughly', \"afternoon's\", 'Oakmont', 'miswritten', 'chapter', 'community', 'heartless', 'prematurely', 'John', 'Cooper', \"Hadn't\", \"Wasn't\", 'attractive', 'forty-seven', 'twenty-five', 'earlier', \"John's\", 'Edythe', 'appalling', 'deserve', 'adult', 'realistic', 'rebound', 'ruined', 'Mousie', 'Chandler', 'Poor', 'reproach', 'rarely', '1936', 'odds', 'prettiest', 'brightest', 'Allegheny', 'Mountains', 'surely', 'handsomer', 'brighter', 'Pittsburgh', 'seasons', 'Golf', 'goggle-eyed', 'admiration', 'debs', 'claimed', 'Dartmouth', 'skiing', 'crinkles', 'John-and-Linda', 'entity', 'Longue', 'Vue', 'Conneaut', \"lovers'\", 'spats', 'heal', 'Dillinger', 'First', \"Cooper's\", \"Linda's\", 'engagement', 'events', 'aggressive', 'steel', 'jolt', 'Cleveland', 'bride', 'wishful', 'thinkers', 'specifically', 'absolutely', 'someplace', 'Baltimore', \"Horne's\", 'underestimate', 'shallow', 'frivolous', 'scatterbrained', 'magnificent', 'giggled', 'ceremony', 'bridesmaids', 'choking', 'myth', 'example', 'skirts', 'correct', 'pool', 'suits', 'drifted', 'Others', 'command', 'less-dramatic', 'Sewickley', 'Fox', 'reduced', 'method', 'grindstone', 'Ben', '1938', 'cutest', 'blessing', 'fontanel', 'nary', 'trace', 'continuing', 'Sally', '1940', 'Jack', '1944', \"Edythe's\", 'dizziness', 'uselessness', 'glaring', 'shuffled', 'graham', 'crackers', 'managed', 'missionary', 'Webber', 'eldest', 'elder', \"who'd\", 'donated', 'avoid', 'bosoms', 'afterward', 'oversubscribed', 'missionaries', 'brave', 'keeps', 'bargain', 'whimpering', 'bends', 'generous', 'overgenerous', 'problem', 'Washington', 'assignment', 'heir', 'apparency', 'Coopers', 'socially', 'successful', 'match', 'hairpin', 'mourning', 'bites', 'luncheon', 'Le', 'Mont', \"could've\", \"Bobbie's\", 'bone-deep', 'sorrow', 'ambitious', 'save', 'undo', 'trembled', 'brink', 'stream', 'settlement', 'soothe', 'capable', 'capturing', 'anxious', 'decent', 'Years', 'struggled', 'wonders', 'Alloy', 'steels', 'departments', 'Smith', '&', 'MacIsaacs', 'alloy', 'division', 'salesman', 'branch', 'Lovejoy', 'president', 'manager', 'Carnegie-Illinois', 'Stuart-family', 'contacts', 'Reuben', 'Pittsburghers', 'sticking', 'dragooned', 'Murkland', 'director', 'S.', 'M.', 'jolly', 'factors', 'insiders', 'weighed', 'terms', 'incentive', \"John'll\", 'harder', 'feels', 'opportunities', 'independent', 'directors', 'agreement', 'surprise', 'Funk', 'Furnaces', 'subordinate', 'advancement', 'degree', 'meteoric', 'vice', 'biography', 'baby-sitter', 'Shirley', 'sweetly', 'worth', 'obligated', 'Nadine', 'shakily', 'Janice', 'answers', 'frantic', 'Francie', 'Ken', \"Thom's\", 'falls', 'Thom', 'Wally', 'possibly', \"everything's\", 'Wondering', \"Nadine's\", 'seconds', 'flushed', 'Roberts', 'faltered', 'thirteen', 'sitters', 'reliable', 'beautifully', 'staying', 'ragged', \"Wally's\", 'spreads', 'refuse', 'law', 'scooted', 'dozed', 'strike', 'Pack', 'hissed', 'thickly', 'lurched', 'davenport', 'instantly', 'strode', 'nails', 'raked', 'grabbed', 'insulted', 'takes', 'throw', 'simmer', 'state', 'Tea', 'forgive', 'dime', \"Francie's\", 'televison-record', 'owe', 'grubby', 'filth', 'traipsing', 'curtly', 'collapsed', 'figured', 'bubble', 'snoring', 'Whether', 'thankful', 'Thankful', 'fired', 'attending', 'grease', 'confessed', 'cars', 'pits', 'repaired', 'Seems', 'hired', 'repair', 'gotten', 'miserably', 'coy', 'promises', 'blew', 'stack', 'Things', 'honest', 'deserved', 'tough', 'breaks', 'unbelievable', 'cent', 'necks', 'owing', 'received', 'evicted', 'Worst', 'stranded', 'fretted', 'position', 'tide', 'brightened', 'candle', 'incredible', 'embarrassed', 'pleading', \"we'd\", 'Straightened', \"They'd\", 'flatly', 'uncomfortable', 'darn', 'spoiled', 'snobs', 'finance', 'crawl', 'dishes', 'groceries', 'Virus', 'infection', 'lazy', 'no-good', 'bum', 'practically', 'alibis', 'excuses', 'Wendell', 'black-balled', 'application', 'grocery', 'sewed', 'punks', 'fall', \"they'll\", 'encouraging', 'July', 'stifling', 'fresh', 'intuition', 'based', 'logic', 'thousandth', 'nine-to-five', 'five-days-a-week', 'medicine', 'complain', 'shaving', 'sneezed', 'Gladdy', 'Alice', 'orphanage', 'boarding-home', 'Hodges', 'fonder', 'lots', 'Especially', 'Growing', \"mustn't\", 'bureau', 'story', 'anyhow', \"Gladdy's\", 'credit', 'Pete', 'Michelson', 'promising', 'intern', 'Fairview', 'chatter', 'lightened', 'heaviness', 'Should', 'secret', 'interns', 'Dick', 'Ishii', 'resident', 'Chief', 'Medicine', 'rounds', 'Seven', 'sicker', 'elevator', 'post-operative', 'shock', 'Got', 'lulu', 'alcoholics', 'sights', 'segregated', 'charity', 'focus', 'forming', \"woman's\", 'Bancroft', 'chart', 'diagnosis', 'alcoholism', 'scar', 'familiar', 'puffy', 'marred', 'tell-tale', 'network', 'veins', 'drinkers', 'two-colored', 'bleached', 'unfortunate', 'resemblance', 'forcing', 'disquiet', 'violent', 'knocked', \"We'd\", 'AA', 'patient', 'describe', 'ounce', 'control', 'examination', 'relaxes', 'chat', 'gladly', 'dull', 'penetrating', 'drawn-back', 'bloodspots', 'spotting', 'emotion', 'negative', 'Groggins', 'Papanicolaou', 'vaginal', 'gross', 'slide', 'smear', 'lab', 'Late', 'private', 'results', 'Doctor', 'D.', 'C.', 'permission', 'hysterectomy', 'intraepithelial', 'situ', 'wryly', 'tells', 'badgering', 'Wants', 'booze', 'grimaced', \"Bancroft's\", 'knob', 'dozing', 'shiver', 'guys', 'disregarded', 'dilatation', 'curettage', 'proves', 'definite', 'Suppose', 'difficulty', 'liquor', 'amazement', 'refused', 'surgery', 'Mostly', 'tremble', 'coverlet', 'secrets', \"patient's\", 'cancer', 'disregarding', 'protests', 'guinea', 'pigs', 'learn', 'cultivated', 'strongly', 'assure', 'Joe', 'gaped', 'echo', 'intently', 'half-smile', 'Surprised', 'Guess', 'heart-stopping', 'stammered', 'goodness', 'echoed', 'mockingly', 'Think', 'introduce', 'outta', 'acceptance', 'alcoholic', 'blackout', 'favors', 'alike', 'cut', \"what's\", 'pathetic', 'solution', 'disappear', 'caresses', 'tricks', 'ultimate', 'pressures', 'deeper', 'squeezed', 'breathed', 'nitrogen', 'anesthetic', 'yielding-Mediterranian-woman-', 'soothed', '230', 'drunker', 'contented', 'metal-tasting', 'mouthpiece', 'suck', 'aqua-lung', 'swim', 'chuckled', 'aloud', 'hazy', 'concentrated', 'sorted', 'recent', 'duds', 'vacation', 'bellyfull', 'Wild', 'kicks', 'dig', 'Valery', 'twenty-one', 'army', 'Orly', 'Rhine-Main', 'April', 'mist-like', 'pocketful', 'grounded', 'Champs', 'Elysees', 'Hun', 'dazzled', 'machines', 'Bugatti', 'Farina', 'coachwork', 'chassis', 'Swallow', 'A40-AjK', 'Mercedes', 'Arc', 'de', 'Triomphe', 'Tour', \"d'Eiffel\", 'yokel', \"Maxim's\", 'Jour', 'et', 'Nuit', 'Montmartre', 'Claire', 'cheese', 'feed', 'drained', 'Handsome', 'soldier', 'assuaged', 'urgency', 'Madame', 'noblesse', 'oblige', 'yeah', 'nymphomaniac', 'Toward', 'waxed', 'philosophical', 'analogies', 'mistake', 'sweep', 'Panther', 'Pils', 'switched', 'Tuborg', 'crocked', 'cognac', 'orbit', 'Tropic', 'Capricorn', 'Cancer', 'Elemental', 'sex', 'debauchery', 'sober', 'reconciled', 'flop', 'binge', 'therapeutic', 'Sometime', 'snowing', 'breathing', 'snowy', 'dim', 'beauty', 'flakes', 'topcoat', 'Pretty', 'umbrella', 'poise', 'posture', 'drab', 'propriety', 'hustler', 'unuttered', 'snow', 'Hardly', 'bleak', 'lied', 'unhappiness', 'profoundly', 'wager', 'derriere', 'Monsieur', 'crumble', 'snorted', 'chuckle', 'sadly', 'tiredness', 'infinite', 'wisdom', 'cynicism', 'reinforce', 'gambit', 'Remy', 'Martin', 'cork', 'Non', 'non', 'rotten', 'lug', 'tart', 'thirty-five', 'forty', 'wise', 'drowsing', 'Allons', 'sensed', 'rested', 'rime', 'melted', 'absolute', \"night's\", 'melancholy', 'vital', 'Bon', 'jour', 'brightly', 'hips', 'tousled', 'make-up', \"J'ai\", 'faim', 'toothbrush', 'bath', 'brushed', 'wheeled', 'presenting', 'innocently', 'brush', 'dangerously', 'scald', 'filter', 'tremendous', 'amount', 'hard-boiled', 'garlic', 'Suzanne', 'Stephen', 'comfortably', 'cups', 'remarked', 'Um', 'grunted', 'sipping', 'les', 'putains', 'immense', 'subject', 'sentence', 'Shall', 'Louvre', 'enthusiasm', 'immediately', 'bullet', 'Metro', 'cabaret', 'steamed', 'mussels', 'sommelier', 'magnum', 'steely', 'Jeroboam', 'humorous', 'Theresa', 'Stubblefield', 'Express', 'leaning', 'arched', \"mind's\", 'responding', 'exhaustingly', \"shores'\", 'powers', 'telescoped', 'plains', 'aqueducts', 'tombs', 'cypress', 'Appian', 'Way', 'Today', 'Colosseum', 'Arch', 'Constantine', 'Moreover', 'nursing', 'Stubblefields', 'aunt', 'lengthy', 'illnesses', 'England', 'France', 'Germany', 'Switzerland', 'rendered', 'prescribed', 'pills', 'tonics', 'conceived', 'lamplight', 'noisy', 'frightening', 'Cars', 'taxis', 'buses', 'motorscooters', 'swerving', 'perilously', 'Shoals', 'groups', 'German', 'cameras', 'attached', 'smartly', 'Glad', 'splendid', 'outdoor', 'staircase', 'display', 'azalea', 'plants', 'workmen', 'unloading', 'potted', 'placing', 'banked', 'rows', 'azaleas', 'shrubs', 'myriad', 'blooms', 'bud', 'ranged', 'purple', 'fuchsia', 'palest', 'Marvelous', 'portly', 'well-bred', 'learned', 'Halfway', 'Other', 'banisters', 'parapets', 'Mediterranean', 'warming', 'underside', 'insides', 'churches', 'cigarette', 'Content', 'excited', 'contracted', 'dismay', 'Cousin', 'Elec', 'Emma', 'Carraway', 'script', \"t's\", 'carefully', \"l's\", 'inclined', 'wobble', 'slope', 'post', 'Tuxapoka', 'Alabama', 'mailed', 'confidence', 'next-door', 'neighbor', 'Somebody', 'scrawled', 'Piazza', 'di', 'Spagna', 'President', 'Republic', 'Inside', 'concerning', 'illness', 'devoted', 'aging', 'immemorial', 'Montgomery', 'sweetpeas', 'drawer', 'mother-of-pearl', 'coveted', 'sigh', 'refolded', 'replaced', 'alas', \"Elec's\", 'reminiscence', 'weakening', 'values', 'grandchildren', 'diapers', 'gentility', 'principle', 'tense', 'lest', 'fraternity', 'pursued', 'mammas', 'aroused', \"Emma's\", 'uttermost', 'cramp', 'hobbled', 'agony', 'bathrobe', 'footstool', 'clenched', 'contorted', 'heroically', 'monkey', 'solemn', 'cat', 'kittens', 'kettle', 'steaming', 'enamelled', 'pan', 'Can', 'treat', 'hiccups', 'Drop', 'unamused', 'round-eyed', 'woe', \"George's\", 'parting', 'Robbie', 'Beryl', 'persuade', 'imposition', 'Rosie', 'possibility', 'arrangements', 'ladies', 'populated', 'Edna', 'Whittaker', 'meets', 'crumbling', 'makeshift', 'sneezing', 'uncertainly', 'unnaturally', 'tray', 'cameos', 'pens', 'papal', 'portraits', 'spread', 'borders', 'separate', 'Carrozza', 'rides', 'specialized', 'escape', 'landing', 'vacant', 'banister', 'vendor', 'well-dressed', 'alligator', 'ascending', 'cast', 'policeman', 'Finally', 'scurried', 'viewed', 'interlude', 'hinting', 'teachers', 'September', 'crisis', 'supremely', 'exist', 'Balzac', 'Dickens', 'Stendhal', \"Mother's\", 'operation', 'twenty-six', 'volumes', 'Elsie', 'Dinsmore', 'motion', 'arranging', 'Mi', 'diapiace', 'ma', 'insomma', 'indicated', 'Westfield', 'Lucille', 'stealer', '4000-plus', 'Warren', 'Dolan', \"nobody'd\", 'bothered', 'Young', \"Christians'\", 'League', 'good-living', 'truthfully', 'faith', 'Johnnie', 'Sue', 'Much', \"guy's\", \"Lucille's\", 'willing', 'Honest', 'kitten', 'compete', 'trucker', 'carpentry', 'February', 'batting', 'delivery', 'masculine', 'affairs', 'providing', 'Neither', 'submit', 'honorable', 'penniless', 'helpless', 'Against', \"folks'\", 'crackling', 'hopelessly', 'vices', 'jockey', 'drinks', 'smokes', 'ticking', 'items', 'swears', 'whoever', 'examined', 'noncommittally', 'driven', 'scheming', 'Devil', 'surrendered', 'motel', 'Route', '10', 'clutches', 'blushed', 'desire', 'sexual', 'awareness', 'triggered', 'fierceness', 'Astonishingly', 'summertime', 'fields', 'crickets', 'serenaded', 'huh', 'Always', 'Mmm', 'blissful', 'fulfilling', 'witnesses', 'certificate', 'elbow', 'Infinite', 'contentment', \"Idiot's\", 'upbringing', 'resisted', 'passes', 'maturity', \"Wouldn't\", 'insure', \"Johnnie's\", 'denied', 'contribute', 'stake', 'doubts', 'petted', 'touched', 'longest', 'behaved', 'emotionally', 'mere', 'rescued', 'husband-stealer', 'wondrous', 'fitting', 'union', 'Uh-huh', 'Convention', 'Boston', 'eastern', 'represent', 'mixed', 'emotions', 'Faneuil', 'cousin', 'Alma', 'convention', 'introduced', 'Rhode', 'Ronald', 'blond', \"someone's\", 'separated', 'anxiously', 'twin', 'Need', 'pumpkin', 'Schmalma', 'shrilly', 'alcohol', 'burning', 'disguised', 'ginger', 'ale', \"'most\", 'snugly', 'invisible', \"C'mon\", 'lubricated', 'all-American-boy', 'appeal', 'Astronaut', 'vitamin', 'Breakfast', 'Eden', 'two-burner', 'refrigerator', 'Kirby', 'pelting', 'reasonable', 'lunatic', 'arrangement', 'Share', 'units', 'bachelor-type', 'eatables', 'curving', 'veranda', 'Unit', 'Number', \"Kirby's\", 'bloomed', 'haze', 'names', 'magenta', 'Charlie', 'downed', 'Lots', 'vitamin-and-iron', 'compound', 'capsule', 'flu', 'lightly', 'comment', 'beriberi', 'pill', 'cure', 'Vivian', 'Wayne', 'kissing', 'piling', 'ailment', 'confirmed', 'distrust', 'scalded', 'encouragement', 'shy', 'Woods', 'blinds', 'dawning', 'poker', 'secretaries', 'Meanwhile', 'sandy', 'puddles', 'prescription', 'mockery', 'odds-on', 'develop', 'awesome', 'black-and-yellow', 'polka-dotted', 'slicker', 'Three-day', 'natives', 'filthy', 'Pyhrric', 'victory', 'Fine', 'Thought', 'bake', 'briefly', 'peaked', 'forbore', 'universal', 'Peony', 'weatherproof', 'conviction', 'honeymooning', 'Nassau', \"what's-his-name\", 'lounging', 'sands', 'unalloyed', 'bliss', 'salami', 'leafed', 'adventures', 'Bobbsey', 'Twins', 'Seashore', 'Farm', 'Danger', 'several', 'agricultural', 'treatment', 'hoof-and-mouth', 'disease', 'cattle', 'hideously', 'illustrated', 'bruising', 'shin', 'choke', 'fuzzy', 'mania', 'dyed', 'climb', 'sweater', 'long-hair', 'variety', 'according', 'label', 'explanation', 'presence', 'Bermuda', 'onion', 'wrapping', 'Said', 'permeates', 'squirt', \"Kissin'\", 'Kare', 'lotion', 'handwriting', 'dainty', 'feminine', 'evidence', 'Sorry', 'judgment', 'swiping', 'onions', 'following', 'Ugh', 'Must', 'idly', 'fast-frozen', 'guided', 'obscure', 'horse-blanket', 'plaid', 'chic', 'splashy', 'Pink', 'grown-up', 'subconsciously', 'clinging', 'infancy', 'toilsome', 'laden', 'clattery', 'collection', 'mops', 'brushes', 'pails', \"rain's\", 'Be', 'scorcher', 'scrutinized', 'warn', 'Larkspur', \"kind's\", 'worst', 'inviting', 'description', 'Run-down', 'iron-poor', 'closely', 'Frail', 'feeble', 'Clearly', 'blazing', 'varicolored', 'properties', \"four-o'clock\", 'gaudy', 'mist', 'floodlit', 'punctuated', 'refrigerators', 'retreat', 'Cape', \"flower's\", 'transferred', 'M-m-m', 'propped', 'postscript', 'wrote', 'ninety-six', 'scrap', 'Gee', 'redheads', 'rental', 'browny', 'browny-haired', 'blondes', 'sprinkling', 'bikinis', 'preponderance', 'tank', 'Up', 'dune', 'stool', 'absorbed', 'bulky', 'turtle-neck', 'sweaters', 'not-so-pale', 'moonlit', 'filched', 'Use', \"goodness'\", 'sympathetic', 'Sympathy', \"Vivian's\", 'slopping', 'offering', 'peel', 'pajama', 'subside', 'quantities', 'Correspondence', 'glycerin', 'whitens', 'tan', 'puny', 'Broiled', 'Puny', 'Surviving', 'Wilderness', 'Tom', 'Speedy', 'Canoe', 'Also', 'canoe', 'pitcher', 'overhand', 'innings', 'Anniston', 'team', 'fifth', \"Anniston's\", 'catcher', 'smacked', 'Eddie', 'Lee', \"Riverside's\", 'redheaded', 'Phil', 'Rossoff', 'relay', 'Third', 'base', 'Mike', \"Deegan's\", 'Deegan', 'bastard', 'punches', 'tossed', 'spectators', 'uproar', 'fighters', 'resumed', 'inning', 'cursed', 'dugout', 'eyeing', 'sonny', 'infuriated', 'Mind', 'goddamn', 'sixth', 'bat', \"fielder's\", 'fielder', 'rounding', 'heading', 'tagged', 'straddling', 'plate', 'rammed', 'players', \"catcher's\", 'physician', 'injured', 'ballplayer', 'ballplayers', 'dressing', 'seated', 'nearer', 'quivering', 'ram', 'calculated', 'pitching', 'powerfully', 'built', 'hander', 'mound', 'eighth', 'hefty', \"Mike's\", 'dirt', 'arose', \"batter's\", 'Hit', 'Frankie', 'Ricco', 'shortstop', \"Phil's\", 'gonna', 'bastards', 'Haydon', 'pounded', 'rubber', 'flat-footed', 'towards', 'unhurried', 'infield', 'Fights', 'squelched', 'sweatshirt', 'helluva', 'team-mate', 'undressing', 'jaw', 'club', 'inches', 'locker', 'banged', \"Eddie's\", 'unconditional', 'belong', 'professional', 'baseball', 'confirm', 'Sit', 'steering', 'leagues', 'pro-ball', 'Dazed', 'abruptly', 'fielding', 'bases', \"Baseball's\", 'cinch', 'ramming', 'puts', 'sport', 'goddamit', 'ribbons', 'league', 'shaky', 'Someday', \"Springfield's\", 'Talk', 'Ask', 'Springfield', 'Atta', 'outfielders', \"Richard's\", 'product', 'insularity', 'by-ways', 'fascinate', 'Augustine', 'Aquinas', 'Lao-tse', 'Confucius', 'Mencius', 'Suzuki', 'Hindu', 'tomes', 'Krishnaists', 'numerous', 'socio-archaeological', 'papers', 'Richard', 'Zend-Avesta', 'Indian', 'god', 'Acala', 'entitled', 'Book', 'Dead', 'Grinned', 'gloomily', 'Through', 'laughter', 'seldom', 'formal', 'sixteen', 'substituted', 'Asian', 'fond', 'graduated', 'foundation', 'studies', 'student', 'acquired', 'remoteness', 'thorough', 'bookish', 'lore', 'literature', 'politics', 'awarded', 'Tokyo', 'biwa', 'practicing', 'sailing', 'distrusted', 'buying', 'shorten', 'relax', 'incarcerated', 'basement', 'dusted', 'flames', 'sped', 'freighter', 'plucked', 'wrought', 'resemble', 'instrument', 'stole', 'gusty', 'rush', 'eaten', 'similar', 'Charlotte', 'Adams', 'succeeded', 'unusually', 'searching', 'frankness', 'zest', 'envied', 'occasional', 'participate', 'tea-drinking', 'complied', 'random', 'Ryusenji', 'Fudomae', \"Charlotte's\", 'gatherings', 'flippant', 'superficial', 'pointless', 'persons', 'students', 'judging', 'popular', 'foods', 'equation', 'Zen', 'philosophy', 'modifier', 'Soba', 'udon', 'noisily', 'Sushi', 'pretentious', 'Sashimi', 'Samuel', 'throughout', 'Asked', 'Ceecee', 'Witter', 'irritation', 'Lovers', 'Mound', 'Gompachi', 'Komurasaki', 'parkish', 'concluded', 'Anyhow', 'potatoes', 'Kanto', 'statue', 'Fudo', 'bothersome', 'pull', 'Twenty-two', 'twenty-three', 'colder', 'tiniest', 'reflect', 'version', 'recall', 'ascetic', 'returning', 'paced', 'tale', 'waters', 'sensation', 'gate', 'spigots', 'hillside', 'caged', 'incarnation', 'demon', 'creature', 'overwhelmingly', 'likened', 'limpid', 'fountain-falls', 'temple', 'familiarity', 'Into', 'hundred-yen', 'urge', 'bronze', 'priest', 'Instead', 'stare', 'rigidly', \"Fudo's\", 'fascination', 'metallic', 'scraping', 'stillness', 'severe', 'emptied', 'pockets', 'coins', 'hurried', 'stairways', 'virus', 'refusing', 'process', 'reminder', 'consciousness', 'lingered', 'inexplicable', 'elements', 'reality', 'resolved', 'plowing', 'stubble', 'farm', \"brother's\", 'area', 'plowed', 'jar', 'snow-fence', 'lath', 'tractor', 'plow', 'furrow', 'wheels', 'loaded', 'snakes', 'panic', 'multi-colored', 'graceful', 'tapered', 'throttle', 'frighten', 'fright', 'idle', 'movement', 'trailed', 'delicately', 'tubular', 'diamonds', 'interlaced', 'jet-black', 'astonishing', 'gracefully', 'killed', 'unthinkable', 'fire-colored', 'recently', 'solid', 'lumps', 'forepart', 'fieldmice', 'satin', 'newly-plowed', 'clods', 'soil', 'target', 'shone', 'sun-burned', 'crumbled', 'paleness', 'dusty', 'uncolored', 'triangular', 'plowshares', 'scouring', 'stamping', 'ferocity', 'frenzied', 'impatience', 'fierce', 'brutality', 'hunched-up', 'determination', 'pirouette', 'whipped', 'lumbering', 'brutal', 'halt', 'frenetic', 'savagery', 'glimmer', 'remnant', 'ache', 'fumes', 'crushed', 'vanish', 'mount', 'bubbly', 'finely-spun', 'effeminate', 'eyelashes', 'brushlike', 'newly-scrubbed', 'resembled', 'eagerly', 'splintered', 'Snakes', 'bitten', 'poisonous', 'foolishly', 'likes', 'gray-looking', 'beautifully-tapered', 'flattened', 'vise', 'splayed', 'wrenched', 'thickest', 'colored', 'crystals', 'ice-feeling', 'spasm', 'muscles', 'wrenches', 'tool-kit', 'push', 'gleeful', 'puzzled', 'brute', 'nasty', 'beast', 'slap', 'wipe', 'insolence', 'glee', 'Cady', 'unglued', 'tidings', 'Tax', 'production', 'Hanford', 'College', 'alma', 'mater', 'snapper', 'enrolled', 'credentials', 'scholastic', 'transcript', 'references', 'record', 'boards', 'applicants', 'co-operate', \"son's\", 'motivation', 'interests', 'qualifications', 'leadership', 'Partlow', 'enroll', 'David', 'organization', 'merchant', 'Gone', 'reunions', '1935', 'old-grad-type', 'Alcorn', \"Pete's\", 'rejected', 'Ivy', 'football', 'grades', 'Good', 'B', \"A's\", 'math', 'science', 'temples', 'chemistry', 'Getting', 'elected', 'politicking', 'conscience', 'recommend', 'candidate', 'rugged', 'Height', \"6'\", 'Weight', '160', 'Health', 'excellent', 'astronomy', 'geology', 'electronics', 'enrolling', 'keyboard', 'ruining', 'engineer', 'Venetian', 'slammed', 'bestowed', 'bucket', 'commending', 'eyebrow', 'amusement', 'soul-searching', 'participated', 'high-school', 'activities', 'civic', 'forum', 'treasurer', 'flurry', \"David's\", 'shoved', 'unsealed', 'omitted', 'Products', 'Half', 'whistled', 'locked', 'gasser', 'rounded', 'firm', 'pre-packed', 'colleges', 'State', 'rocket', 'messing', 'Real', 'Yale', 'thinning', 'unease', 'Weakness', 'Limited', 'darned', 'Martini', 'tasted', 'meal', 'salad', 'surcease', 'ease', 'sprinkle', 'navy-blue', 'shag', 'woolly', 'Board', 'Work', 'midweek', 'eight', 'commencement', 'Carefully', 'loudly', 'Chairman', \"Partlow's\", 'proverbial', 'Dave', 'pie', 'methodically', 'Hear', 'Burke', 'straight-A', 'surprising', 'antisocial', 'lone', 'completely', 'one-sided', 'Girls', 'parent', 'frayed', 'coffeepot', 'tattered', 'book-lined', 'dilapidated', 'Wrong', \"hasn't\", \"Dave's\", 'motives', \"Here's\", 'belligerence', 'Already', \"Anne's\", 'acting', 'Daley', 'basketball', 'play-off', 'remains', 'Astronomy', 'stars', 'Geology', 'fishpond', 'suggest', 'chess', 'Music', 'season', 'bass', 'Crazy', 'Horse', 'Colts', 'rock-and-roll', 'combo', 'solos', 'guitar', 'Rich', 'sax', 'solo', 'shine', 'Beethoven', 'mollified', 'brutally', 'loosen', 'padding', 'document', 'ham-radio', 'equipment', 'sale', 'curb', 'applying', 'towel', 'hemming', 'guild', 'banker', 'conform', 'leader', 'well-worn', 'chip', 'qualities', 'Give', 'Army', 'ninety-nine', 'generals', 'mailbox', 'arguing', 'situation', 'monstrous', 'proportions', 'cotton', 'shorts', 'ruled', 'Lying', 'messy', 'negligent', 'strewn', 'generally', 'Dolores', 'fun', 'kidding', 'trail', 'garments', 'littered', 'rug', 'assertive', 'grinning', 'refusal', 'stoop', 'petals', 'seed', 'catalogues', 'referred', 'flower', 'contain', 'patina', 'veining', 'reveal', 'column', 'vertebrae', 'magnificently', 'unyielding', 'segments', 'bone', 'cracking', 'noises', 'stem', 'tulip', 'bluntly', 'seriously', 'leisure', 'beforehand', 'resistance', 'delights', 'emotional', 'clash', 'invigorating', 'tenth', 'teasing', 'pat', 'superhuman', 'neatness', 'incongruity', 'mole', 'Quietly', 'foil', 'stubborn', 'doorbell', 'Ten', 'cross', 'bend', \"Bill's\", 'deposited', 'Anthea', 'strained', 'glissade', 'instructed', 'ellipsis', 'topic', 'Brainards', 'aback', 'contrary', 'weaken', 'fumed', 'adamant', 'raving', 'titters', 'whisperings', 'scabrous', 'unclean', 'gossiping', 'lowering', 'hoarseness', 'crouched', 'Afterwards', 'apologized', 'annoyed', 'pallid', 'resolution', 'About', 'newly', 'Angrily', 'delayed', 'preferably', 'lasted', 'deciding', 'postpone', 'mercy', 'These', 'stray', 'inspection', 'ever-present', 'visitors', 'blot', \"bedroom's\", 'countenance', 'Quite', 'lighthearted', 'witty', 'contest', 'gaily', 'anecdote', 'frothy', 'deceptive', 'merriment', 'snort', 'mock', 'ritual', 'relations', 'fatal', 'scattering', 'possessions', 'drawers', 'impinge', 'Bizarre', 'bizarre', 'Six', 'Pursuing', 'trapped', 'Day', 'dilemma', 'frantically', 'seeking', 'exit', 'Alternately', 'periods', 'hostile', 'defeatism', 'sullenly', 'morosely', 'simplicity', 'occurred', 'frenzy', 'Beside', 'Instantaneously', 'immeasurable', 'panties', 'alongside', 'expenditure', 'particular', 'humiliation', 'Furthermore', 'maneuver', 'endlessly', 'slip', 'brassiere', 'girdle', 'traversed', 'installment', 'rumpled', 'childishness', 'looseness', 'untouched', 'disciplined', 'unruly', 'underclothes', 'linked', 'visibly', 'magnificence', 'virility', 'analyzing', 'scheme', 'exalted', 'fanaticism', 'nylon', 'lace', 'tenderly', 'focused', 'Slowly', 'chain', 'reasoning', 'grasped', 'implications', 'occurring', 'Extending', 'inch', 'swiftly', 'unsteady', 'breakfasted', 'refer', \"That'll\", 'resurgence', 'A-Z', 'Cap', 'industrialist', \"nibs'\", 'racket', 'William', 'forgot', 'glory', 'inadvertent', 'agency', 'brother-in-law', 'General', \"Hershey's\", 'draft', 'Eddyman', 'responsible', 'eminence', 'Freddy', 'Bryan', 'detached', 'estate', 'skyscraper', 'financing', 'Gerry', 'Arthur', 'Willis', 'provide', 'Zenith', 'Plastic', 'skeleton', 'corporation', 'sorts', 'undergone', 'vicissitudes', 'engaged', 'contracts', 'Shortly', 'proliferation', 'bold', 'exposed', \"Freddy's\", 'suggestions', 'prospering', 'influenced', 'involvement', 'familial', 'loyalty', 'aid', 'prodded', \"Joan's\", \"William's\", 'competency', 'factor', 'eventual', 'disposal', \"Willis'\", 'unquestionably', 'entwined', 'likely', 'richly', 'Whatever', 'factory', 'ceramics', 'experimentally', 'high-speed', 'calculators', 'Adam', 'Herberet', 'partner', 'political', 'power', 'additional', 'worlds', 'conquer', 'Heavy', 'industry', 'slanted', 'inexhaustible', 'coffers', 'attracted', 'Allstates', 'Auto', 'Company', 'medium-sized', 'manufactured', 'four-wheel-drive', 'vehicles', 'off-road', 'over-large', 'plant', 'misguided', 'optimism', 'Cursed', 'dissatisfied', 'stockholders', 'amalgamation', 'mergers', 'consequences', \"Herberet's\", \"Allstates'\", 'Wisconsin', 'folly', 'conversion', 'airplane', 'sub-assembly', 'tanks', 'missiles', 'ordnance', 'desiring', 'Freed', 'complaisant', 'broader', 'overall', 'administration', 'corporate', 'structure', 'wider', 'allied', 'enchanted', 'proposition', 'Hamrick', 'Chrysler', 'acquainted', 'hardware', 'Air', 'Force', 'technical', 'Missiles', 'grabs', 'manned', 'aircraft', 'affects', 'procurement', 'jet', 'transports', 'revolutionized', 'airline', 'compound-engine', 'planes', 'companies', 'competition', 'assembled', 'settles', 'bound', 'pages', 'assures', 'raising', 'Ham', 'Richert', 'legal', 'exhibit', 'deadly', 'dampening', 'elderly', 'caution', 'appreciate', 'lukewarm', 'entering', 'fray', 'cudgels', 'prospect', 'mix', 'commercial', 'patriarchy', 'aide', 'Hamilton', 'prevailed', 'devoting', 'swaying', 'dismissed', 'project', 'unwilling', 'interfere', 'transfers', 'hyphenated', 'automobile', 'promotion', 'Clay', 'backing', 'deficit', 'beset', 'deliver', 'elephant', 'Stock', 'abundance', 'Confronted', 'plumped', 'drastic', 'liquidation', 'summoned', 'bind', 'addition', 'defects', 'closeted', 'motor', 'existence', \"A-Z's\", 'set-up', 'exposure', 'conceptions', \"Hamrick's\", 'coincidental', 'failure', 'out-dated', 'small-car', 'manufacturer', 'Ticonderoga', 'Motors', 'dimensions', 'broach', 'Initially', 'passenger', 'discouraging', 'models', 'founding', 'nationwide', 'dealerships', 'cheaply', 'presses', 'dies', 'precisely', 'hurdle', 'insurmountable', 'investigate', 'marshal', 'statistics', 'arguments', 'Taking', 'dubious', 'alternative', 'breathtaking', 'frank', 'resolve', 'gantlet', 'guarantee', 'audience', 'advocating', 'publicly', 'Forgive', 'attended', 'staff', 'presiding', 'incredulity', 'listeners', 'animosity', 'quarrels', 'transact', 'larger', 'low-priced', 'bucking', 'old-fashioned', 'sell', 'economy', 'merit', \"We've\", 'romance', 'snobbery', 'European', 'woo', 'consumer', 'bludgeon', 'chromed', 'excess', 'seduction', 'dealers', 'ready-made', 'steam', 'yachts', 'Georgian', 'bloated', 'too-expensive', 'Allstates-Zenith', 'debate', 'raged', 'Financing', 'emerged', 'obstacle', 'contributed', 'maximum', 'underwrite', 'department', 'risk', 'risky', 'basis', 'capital', 'Heads', 'instinctively', 'onus', 'recriminations', 'broadcast', 'availing', 'in-laws', 'Sweat', 'forehead', 'disquietude', 'Across', 'saluted', 'jubilantly', 'encircled', 'forefinger', 'Spike-haired', 'burly', 'red-faced', 'decked', 'horn-rimmed', \"officers'\", 'expect', 'episode']\n"
          ]
        }
      ]
    },
    {
      "cell_type": "code",
      "source": [
        "nltk.download('inaugural')\n",
        "nltk.download('udhr')\n",
        "from nltk.corpus import inaugural\n",
        "cfd = nltk.ConditionalFreqDist(genre_word)\n",
        "print(cfd)\n",
        "print(cfd.conditions())\n",
        "print(cfd['news'])\n",
        "print(cfd['romance'])\n",
        "print(list(cfd['romance']))\n",
        "cfd = nltk.ConditionalFreqDist(\n",
        " (target, fileid[:4])\n",
        " for fileid in inaugural.fileids()\n",
        " for w in inaugural.words(fileid)\n",
        " for target in ['america', 'citizen']\n",
        " if w.lower().startswith(target))\n",
        "from nltk.corpus import udhr\n",
        "languages = ['Chickasaw', 'English', 'German_Deutsch',\n",
        " 'Greenlandic_Inuktikut', 'Hungarian_Magyar', 'Ibibio_Efik']\n",
        "cfd = nltk.ConditionalFreqDist(\n",
        " (lang, len(word))\n",
        " for lang in languages\n",
        " for word in udhr.words(lang + '-Latin1'))\n",
        "cfd.tabulate(conditions=['English', 'German_Deutsch'],\n",
        " samples=range(10), cumulative=True)\n"
      ],
      "metadata": {
        "colab": {
          "base_uri": "https://localhost:8080/"
        },
        "id": "8Z0OPYxc8qTh",
        "outputId": "94b35666-ff42-4182-90e2-0701ee4adf4a"
      },
      "execution_count": null,
      "outputs": [
        {
          "output_type": "stream",
          "name": "stdout",
          "text": [
            "[nltk_data] Downloading package inaugural to /root/nltk_data...\n",
            "[nltk_data]   Unzipping corpora/inaugural.zip.\n",
            "[nltk_data] Downloading package udhr to /root/nltk_data...\n",
            "[nltk_data]   Unzipping corpora/udhr.zip.\n",
            "<ConditionalFreqDist with 2 conditions>\n",
            "['news', 'romance']\n",
            "<FreqDist with 14394 samples and 100554 outcomes>\n",
            "<FreqDist with 8452 samples and 70022 outcomes>\n",
            "['They', 'neither', 'liked', 'nor', 'disliked', 'the', 'Old', 'Man', '.', 'To', 'them', 'he', 'could', 'have', 'been', 'broken', 'bell', 'in', 'church', 'tower', 'which', 'rang', 'before', 'and', 'after', 'Mass', ',', 'at', 'noon', 'six', 'each', 'evening', '--', 'its', 'tone', 'repetitive', 'monotonous', 'never', 'breaking', 'boredom', 'of', 'streets', 'The', 'was', 'unimportant', 'Yet', 'if', 'were', 'not', 'there', 'they', 'would', 'missed', 'him', 'as', 'sounds', 'bees', 'buzzing', 'against', 'screen', 'door', 'early', 'June', ';', 'or', 'smell', 'thick', 'tomato', 'paste', 'ripe', 'that', 'both', 'sweet', 'sour', 'rising', 'up', 'from', 'aluminum', 'trays', 'wrapped', 'fly-dotted', 'cheesecloth', 'Or', 'surging', 'whirling', 'bats', 'night', 'when', 'their', 'black', 'bodies', 'dived', 'into', 'blackness', 'above', 'below', 'amber', 'street', 'lights', 'bay', 'female', 'dogs', 'heat', 'called', 'by', 'name', 'although', 'had', 'one', 'Filippo', 'Rossi', \"that's\", 'what', 'old', 'country', 'but', 'here', 'just', 'Signore', 'But', 'this', 'unusual', 'because', 'youth', 'these', 'quarters', 'always', 'pushed', 'a', 'distance', 'elders', 'Youth', 'obeyed', 'commanded', 'It', 'went', 'to', 'on', 'Sunday', 'Saturday', 'month', 'confession', 'asked', 'nothing', 'parents', 'touch', 'hand', 'kiss', 'given', 'passing', 'only', 'thing', 'about', 'long', 'since', 'happened', 'past', 'dead', 'present', 'Once', 'wife', 'And', 'once', 'she', 'too', 'ignored', 'With', 'tiny', 'fur-piece', 'around', 'her', 'shoulders', 'wiggled', 'satin-covered', 'buttocks', 'down', \"didn't\", 'stop', 'In', 'clutched', 'hundred', 'dollar', 'bill', 'other', 'straw', 'suitcase', 'way', 'strutted', 'blind', 'noticed', 'Without', 'looking', 'without', 'anything', 'except', 'Drexel', 'Street', 'directly', 'front', 'climbed', 'those', 'orange', 'streetcars', 'rode', 'away', 'it', 'came', 'back', '``', \"shouldn't\", 'come', 'first', 'place', \"''\", 'women', 'said', 'No', 'no', 'Not', 'She', 'thought', 'bigger', 'than', 'we', 'are', 'Torino', 'Eh', '!', 'gave', 'herself', 'fancy', 'airs', 'Just', 'part', 'stage', 'carry', 'head', 'higher', 'ours', 'slapped', 'thighs', \"It's\", 'for', 'making', 'pretty', 'speeches', 'Dante', 'actresses', 'get', 'paid', 'so', 'good', 'Henh', 'Calloused', 'fingers', 'caressed', 'smoothness', 'polished', 'rosaries', 'swayed', 'excitedly', 'beneath', 'puckered', 'chins', 'where', 'hairs', 'sprouted', 'be', 'tweezed', 'Mauve-colored', 'mouths', 'known', 'sweeter', 'taste', 'new', 'wine', 'passion', \"man's\", 'tongue', 'smiled', 'condemned', 'again', 'Puttana', 'even', 'his', 'now', 'nobody', 'cared', 'fig', 'enough', 'people', 'know', 'time', 'looked', 'fleshy', 'suppleness', 'woman', 'consumed', 'watching', 'become', 'thinner', 'thin', 'seams', 'stockings', 'still', 'His', 'voice', 'questioned', 'why', 'seen', 'wave', 'an', 'exhausted', 'farewell', 'might', 'shooing', 'fleas', 'hopped', 'yellow', 'dog', 'onto', '(', 'He', ')', 'eyes', 'miniature', 'sundials', 'variegated', 'altered', 'expression', 'direction', \"Man's\", 'very', 'soul', 'left', 'flown', \"wouldn't\", 'anyone', 'Perhaps', 'then', 'taking', 'withered', 'wrinkled', 'sister', 'Rose', 'care', 'children', 'guessed', 'all', 'remember', 'memory', 'climbing', 'streetcar', '?', 'There', 'seemed', 'contemptuous', 'purpose', 'sat', 'with', 'glued', 'opposition', 'behind', 'For', 'saw', 'see', 'town', 'Italy', 'outskirts', 'Philadelphia', 'Bari', 'Chieti', 'smelled', 'What', 'did', 'matter', 'park', 'foot', 'Ash', 'Road', 'stretched', 'elevated', 'trains', 'roared', 'stucco', 'station', \"city's\", 'center', 'half-hour', 'intervals', 'creek', 'spun', 'silent', 'course', 'toward', 'Schuylkill', 'This', 'hatred', 'companion', 'aloneness', 'same', 'Sameness', 'framed', 'wall', 'ginkgo', 'trees', 'divided', 'city', 'lined', 'two-story', 'houses', 'color', 'ash', 'slashed', 'sloping', 'manure-scented', 'lawns', 'concrete', 'steps', 'upward', 'white', 'wooden', 'porches', 'wicker', 'swings', 'screeched', 'rusted', 'hinges', 'doors', 'Even', 'stable-garage', 'housed', 'scent', 'rot', 'lawn', 'coffee', 'shop', 'men', 'spent', 'evenings', 'Sundays', 'playing', 'cards', 'rose', 'hedge', 'window', 'reeked', 'dregs', 'thrown', 'Only', 'house', 'squatted', 'low', 'square', 'upon', 'sidewalk', 'heavy', 'iron', 'grating', 'supporting', 'glass', 'facade', 'That', \"Bartoli's\", 'Above', 'second-story', 'showroom', 'angels', 'surveyed', 'neighborhood', 'Did', 'everywhere', 'else', 'sameness', 'wood', 'blocks', 'like', 'fortresses', 'perched', 'slant', 'hill', 'top', 'beyond', 'cemetery', 'paved', 'alleyways', 'tunneled', 'through', 'walls', 'mysterious', 'core', 'intimacy', 'backyards', 'owned', 'fences', 'property', 'blended', 'next', 'form', 'courtyards', 'knew', 'privacy', 'Love', 'fear', 'shaded', 'grape', 'vines', 'forked', 'gossip', 'licked', 'sinister', 'porch', 'silently', 'fed', 'kept', 'alive', 'waiting', 'Waiting', 'whom', 'tell', 'though', 'made', 'pact', 'devil', 'himself', 'yet', 'pay', 'price', 'holding', 'out', 'something', 'determined', 'hold', 'son', 'threw', 'belly', 'step', 'coolness', 'dreaming', 'day', 'rich', 'At', 'fifteen', 'mother', \"couldn't\", 'face', 'Aunt', 'provided', 'named', 'Pompeii', 'tribute', 'heritage', 'less', 'either', 'life', 'restless', 'began', 'sun', 'ended', 'sleep', 'When', 'man', 'Americans', 'who', 'lived', 'white-columned', 'side', 'ride', 'eight-thirty', 'local', 'morning', 'brief', 'case', 'Nor', 'work', 'cane', 'sit', 'inside', 'pound', 'gloved', 'fist', 'table', 'girl', 'hear', 'running', 'bowing', 'calling', 'your', 'service', 'order', 'bring', 'take', 'vest', 'pocket', 'pipe', 'stuff', 'remove', 'gloves', 'light', 'smoke', 'do', 'Hey', 'Laura', 'ten', 'months', 'older', 'you', 'say', 'I', 'smoked', 'answer', 'leaned', 'unconcerned', 'fence', 'brushing', 'drying', 'wet', 'gilded', 'hair', 'One', 'lithe', 'leg', 'straddled', 'railing', 'swung', 'loosely', 'creaking', 'torn', 'pales', 'Her', 'tanned', 'whose', 'arch', 'swept', 'high', 'pointed', 'artfully', 'tapering', 'toes', 'tips', 'glowed', 'All', 'while', 'sinewy', 'arms', 'swirled', 'chest', 'showed', 'sign', 'having', 'heard', 'lost', 'childlike', 'softness', 'beginning', 'fold', 'within', 'fragile', 'features', 'harshness', 'belied', 'lyric', 'lines', 'contours', 'blue', 'somewhat', 'downcast', 'possessed', 'sullen', 'quality', 'boy', 'clouded', 'sure', 'fully', 'took', 'reached', 'screeching', 'rail', 'moving', \"She's\", 'mood', \"There's\", \"doesn't\", 'Well', 'shining', 'dreams', 'dream', 'wanted', 'Suddenly', 'interrupted', 'daydreaming', 'warm', 'wetness', 'lapping', 'chin', 'opened', 'wide', 'sight', \"goat's\", 'claret', 'feasting', 'salt', 'aged', 'eye', 'sallow', 'time-cast', 'encrusted', 'sphere', 'marbleized', 'pink', 'skin', 'stared', 'unfalteringly', 'Christ', 'sake', 'goat', 'git', \"You're\", 'boiling', 'milk', \"ain't\", 'Soothing', 'knowing', 'whiskered', 'jowls', 'swollen', 'teats', 'expectantly', 'rolled', 'over', 'undulated', 'gradually', 'covering', 'space', 'straining', 'taut', 'warmth', 'mouth', 'squirted', 'roof', 'savored', 'earthy', \"boy's\", 'operated', 'skilled', 'unity', 'bagpipe', 'player', 'pressing', 'pulling', 'delighting', 'slid', 'evasive', 'shadow', 'storm', 'cloud', 'Its', 'figure', 'fluttering', 'soutane', 'near', 'corner', 'let', 'pass', 'sensing', 'portentous', 'also', 'raise', 'finger', 'smooth', \"dog's\", 'perhaps', 'reassured', 'due', 'Time', 'give', 'meantime', 'sandals', 'stained', 'ocher', \"Pompeii's\", 'shaved', 'edged', 'close', 'clapping', 'ecstatic', 'pleasure', 'quickly', 'released', 'pretended', 'examining', 'haunches', 'ticks', 'glance', 'biggest', 'belonged', 'Niobe', 'neatest', 'ones', 'Concetta', 'laced', 'Romeo', \"Concetta's\", 'idiot', 'brother', 'expected', \"Romeo's\", 'small', 'body', 'sink', 'closer', 'ground', 'reach', 'grasp', 'shrill', 'impetuous', 'sound', 'rotundity', 'disfigured', 'flesh', 'hearing', 'People', 'baby', 'room', 'filled', \"Maggie's\", 'throbbed', 'excitement', 'fatigue', 'Stuart', 'such', 'happy', 'earnest', 'look', 'proud', 'possession', 'Maggie', 'bear', 'quench', 'Little', 'Anne', 'rapidly', 'outdistanced', 'recovery', 'two', 'became', 'fat', 'highly', 'social', 'fuzz', 'flaxen', 'stopped', 'flying', 'rages', 'started', 'digesting', 'food', 'developed', 'peaches', 'cream', 'complexion', 'sunny', 'disposition', 'more', 'dry', 'comfortable', 'huge', 'amounts', 'stated', 'carried', 'watch', 'activity', 'going', 'shook', 'lifting', 'seem', 'strength', 'catch', ':', 'big', 'basket', 'clothes', 'coaxed', 'rackety', 'washer', 'lugged', 'daily', 'round', 'household', 'chores', 'insisted', 'participating', 'Worry', 'great', 'deal', 'laid', 'off', 'produce', 'company', 'go', 'sitting', \"father's\", 'office', 'salary', 'father', 'Mr.', 'Clifton', 'preferred', 'death', 'bankruptcy', 'stay', \"wife's\", 'contributing', \"family's\", 'upkeep', 'besides', 'things', 'bought', 'juice', 'vitamins', 'soap', 'plain', 'pored', 'figures', 'every', 'trying', 'find', 'how', 'squeeze', 'few', 'pennies', 'desperation', 'consulted', 'Eugenia', 'afternoon', 'Do', 'think', 'me', 'home', 'make', 'some', 'money', 'rest', 'seems', 'is', 'washing', 'machine', 'stove', 'plenty', 'odd', 'moments', 'doing', 'feel', 'lot', 'better', \"Woman's\", 'Exchange', \"isn't\", 'baked', 'goods', 'any', \"can't\", 'leave', 'Grandma', 'strong', \"baby's\", 'young', 'put', 'nursery', 'should', 'can', 'keeping', 'child', 'starched', 'dresses', 'changed', 'nineteen', 'times', 'beautiful', 'keep', 'nice', 'picked', 'nuzzled', 'little', 'neck', \"She'll\", 'ironed', 'Evadna', 'Mae', 'Evans', 'flannel', 'wrapper', 'until', 'nine', 'got', \"Best's\", 'Liliputian', 'Bazaar', 'New', 'York', \"I'm\", 'sick', 'tired', \"don't\", 'snap', 'thinking', 'sensible', 'sorry', 'everybody', 'days', 'extra', \"let's\", \"Let's\", 'list', 'assets', 'laughing', 'laughed', 'hard', 'yard', 'hang', 'kitchen', 'pencil', 'envelope', 'jotting', 'words', 'run', 'own', 'working', 'mothers', 'We', 'cribs', 'second', 'floor', 'sleeping', 'turn', 'bedroom', 'playroom', \"it's\", 'entail', 'quite', 'bit', 'stairs', 'Chris', 'careful', 'You', 'set', 'dress', 'living', 'Every', 'block', 'has', 'tried', 'tea', 'tables', 'serve', 'salads', 'beans', 'brown', 'bread', 'gypsy', 'fortunes', 'elaborate', 'truth', 'am', 'sighed', 'really', 'interesting', 'my', 'typing', 'jobs', 'type', 'well', 'Oh', 'fair', \"Don't\", 'worry', 'wondering', 'world', 'much', 'happier', 'already', 'clearing', 'chattering', 'typewriter', 'right', 'ashamed', 'whenever', 'minute', 'contests', 'feet', 'waste', 'wish', 'three', 'wishes', 'grew', 'bitterly', 'cold', 'end', 'November', 'miseries', 'countless', 'numbers', 'temperature', 'dropped', 'twenty', 'stood', 'zero', 'during', 'settled', 'tangible', 'pall', 'Mile', 'High', 'City', 'locking', 'icy', 'grip', 'harshened', 'outlines', 'physical', 'appearance', 'grim', 'stark', 'realism', 'resembling', 'cities', 'habitual', 'climate', 'instead', 'sprawling', 'bumptious', 'open-handed', 'greedy', 'Western', 'basking', 'eternal', 'sunshine', 'mountains', 'stored', 'endless', 'riches', 'resources', 'jobless', 'huddled', 'outside', 'employment', 'offices', 'newspaper', 'buildings', 'parks', 'relief', 'government', 'agencies', \"weren't\", 'facilities', 'need', 'felt', 'kind', 'poverty', 'regarded', 'exclusive', 'East', 'created', 'depressions', 'stock', 'markets', 'congested', 'populations', 'centralization', 'industries', 'protected', 'discriminatory', 'freight', 'rates', 'popularly', 'supposed', 'war', 'depression', 'dragging', 'west', 'along', 'creating', 'West', 'doubtless', 'being', 'fast', 'meanwhile', 'penetrated', 'everything', 'Shivering', 'talked', 'argued', 'spending', 'somehow', 'desperate', 'circumstances', 'remedies', 'done', 'Something', 'theme', 'song', 'millions', 'American', 'personal', 'problems', 'urgent', 'Abernathys', 'dozen', 'furnace', 'fuel', 'bills', 'doctor', 'dentist', 'stretch', 'mortgage', 'taxes', 'shoes', 'half', 'soles', 'overshoes', 'leaks', 'gas', 'meeting', 'minor', 'emergencies', 'twice', 'fifty', 'dropping', 'bottle', 'catastrophe', 'wore', 'termed', 'major', 'disaster', 'Abernathy', 'giant', 'ravenous', 'maw', 'appeased', 'hurling', 'tons', 'coal', 'evil', 'red', 'depths', 'remained', 'Cold', 'innumerable', 'cracks', 'sprung', 'under', 'loosened', 'frames', 'attic', 'widened', 'between', 'shingles', 'Presently', 'full', 'capacity', 'depend', 'range', 'removed', 'installed', 'fireplaces', 'electric', 'heater', \"Grandma's\", 'wretched', 'sort', 'gaiety', 'infected', 'stormbound', 'shipwrecked', 'caught', 'freak', 'circumstance', 'anxieties', 'fell', 'important', 'cling', 'together', 'survive', 'pipes', 'burst', 'ice', 'water', 'ankles', 'swabbed', 'bathrooms', 'mainly', 'moved', 'bed', 'undressed', 'ran', 'groaning', 'shivering', 'upper', 'polar', 'regions', 'plunged', 'beds', 'mining', 'camp', 'ought', 'live', 'getting', 'used', 'mouthful', 'grimly', 'hated', 'worse', 'joys', 'wearing', 'meet', 'emergency', 'another', 'wallow', 'last', 'forever', 'Plenty', 'poor', 'lives', \"haven't\", 'our', 'brains', 'talent', 'start', 'talking', \"you'll\", 'ruin', 'whole', 'prove', 'family', 'superior', 'worries', 'begged', 'strange', 'teeth', 'hoped', 'die', 'Christian', 'Lord', 'willed', 'pneumonia', 'want', 'especially', 'span', 'nearly', 'anyway', 'Hope', \"Hope's\", 'dragged', 'forth', 'tipped', 'almost', 'bedspread', 'fire', 'proved', \"wasn't\", 'trusted', 'burned', 'crisp', 'anybody', 'suspected', 'deliberately', 'overturning', 'Thrifty', 'use', 'Unusual', 'joke', \"Didn't\", 'read', 'married', 'tenant', 'yes', 'simplify', \"Tolley's\", 'Laban', 'Tolley', 'gone', 'California', \"He'd\", 'mentioned', 'idea', 'Jenny', 'jilted', 'Roy', 'Robards', 'nose', \"they're\", 'Mamma', 'Zion', 'stayed', 'pin', \"it'll\", 'will', 'Kizzie', 'turned', 'Let', 'pictures', \"sun's\", 'Pictures', \"Brace's\", 'told', 'camera', 'Indeed', 'Why', 'empty', 'marrying', 'sneaky', 'trip', 'consorting', 'tenants', 'Mt.', 'Pleasant', 'understands', 'simple', 'fact', 'Wait', \"I'll\", 'dressed', 'Frank', 'followed', 'hooked', 'Hurry', \"They're\", 'laugh', 'Fairbrothers', 'Labans', 'fault', 'drove', 'exactly', 'valiant', 'pitiable', 'kissed', 'Make', 'God', 'dear', 'congregation', 'decide', 'cruel', 'unfair', 'coming', 'Yes', 'oh', 'Returning', 'log-house', 'found', 'favorite', 'Jonathan', 'Swift', 'lips', 'Under', 'stormy', 'weather', 'marry', 'none', 'Him', 'rules', 'thunder', 'Put', 'asunder', 'Absolution', 'lie', \"God's\", 'telegraph', 'message', 'sealed', 'pigeonhole', 'preserved', 'If', 'died', 'unable', 'resist', 'opening', 'thrusting', 'burden', 'remaining', 'sons', 'parties', 'deception', 'peculiarly', 'simply', 'necessity', 'confess', 'write', \"You've\", 'lacerate', 'Reaching', 'clay', 'pot', 'relic', 'pioneer', 'tore', 'pieces', 'touching', 'pyre', 'flame', 'curl', 'sealing', 'wax', 'melting', 'bubbling', 'feathery', 'Surely', 'beloved', 'peace', \"'\", 'gathers', 'shall', 'gather', 'fruit', 'A', 'haunting', 'line', 'subtle', 'genius', 'Swinburne', 'difficult', 'envy', 'gifted', 'satisfactions', 'Beyond', 'greening', 'spring', 'hope', 'lay', 'Grand', \"Fair's\", 'Quinzaine', \"parents'\", 'graves', 'promise', 'grandsons', 'poured', 'thimble', 'toast', \"he'd\", 'often', 'absent', 'loved', 'drank', 'Brace', 'person', 'easygoing', 'bother', 'blacksmith', 'preacher', 'Howdy', 'Miss', 'adding', 'careless', 'Simply', 'call', 'Whipsnade', 'Oscar', 'Dr.', 'Dunne', 'P.GA', \"C'un\", 'Major', 'damn', 'fool', 'plain-out', 'please', 'try', 'ever', 'Mist', 'scream', \"hadn't\", 'meant', 'assured', 'importance', 'How', 'handsome', 'carte', 'blanche', 'furnishings', 'fail', 'spiritual', 'ways', 'Another', 'weakness', 'far', 'irritating', 'manner', 'speaking', 'token', 'effort', 'change', 'devotion', 'horse', 'rather', \"Robards'\", 'indeed', 'Mare', 'Mrs.', 'spoke', 'Queen', 'bless', 'horses', 'mares', 'geldings', 'what-nots', 'barn', 'reverent', \"Racin'\", 'revolting', 'Gunny', 'marriage', 'pearl', 'stamp', 'imperiously', 'stall', 'invariably', 'bite', 'Nerves', 'nip', 'Stand', 'Jen', \"she's\", 'oneasy', 'scarf', 'Never', 'Quit', \"sor'l\", 'concern', 'nerves', 'danger', 'curled', 'lip', 'mark', 'January', \"musn't\", 'annoy', 'foal', 'Listening', 'hours', 'laments', 'afterwards', 'robbed', 'mare', 'many', 'racing', 'triumph', 'predictions', 'greatness', 'procession', 'foals', 'forward', 'years', 'conflict', 'animal', 'intensely', 'symbolized', 'unpleasant', 'indifference', 'treated', 'acknowledge', 'husband', 'lack', 'understanding', 'sympathy', 'condition', 'disgusting', 'stomach', 'Human', 'birth', 'novelty', 'Tillie', 'fine', 'midwife', 'quick', 'suggested', \"Jenny's\", 'aversion', 'former', 'admirer', 'silly', 'humor', 'best', 'chances', 'riding', 'veterinarian', 'Night', 'winter', 'rubbing', 'quarts', 'expensive', 'liniment', 'fussing', 'bran', 'mash', 'cook', 'charlotte', 'russe', 'tracking', 'manure', 'carpet', 'jiffy', 'attentive', 'worried', 'wished', 'feeling', 'allowed', 'triplets', 'pleased', 'showing', 'disappointment', 'saying', \"trippin'\", 'pike', \"ever'\", 'hon', 'Rhyme', \"'em\", 'cute', 'Arcilla', 'Flotilla', 'Edmonia', 'firmly', 'Jennifer', 'Kezziah', 'mighty', \"an'\", \"this'll\", 'fetch', 'Now', 'must', 'boy-name', 'special', 'wait', 'till', \"Mare's\", 'Handsomest', 'colt', 'Kentucky', 'Strong', 'legs', 'hour', 'Royal', 'Jesus', 'tears', 'deeply', 'distressed', 'unhappy', 'peach', 'Of', 'spirits', 'rise', 'Those', 'elegant', 'Home', 'sent', 'wear', 'trimmed', 'brought', 'callers', 'Doc', 'Sis', 'So', 'Shawnee', 'Rakestraw', 'criticisms', 'changes', 'giving', 'thanks', 'Heavenly', 'Rest', 'year', 'enjoyed', 'boarding', 'inclement', 'Spa', 'summer', 'snippy', \"you'd\", 'namesake', \"she'd\", 'silver', 'teething', 'rings', 'trips', 'return', 'Kiz', 'cordial', 'hardly', 'More', 'driving', \"Tillie's\", \"Nick's\", 'frame', 'box', 'posts', 'chickens', 'cats', 'pups', 'friendly', 'to-do', 'babies', 'dollies', 'Though', 'glad', 'folks', 'welcome', 'finest', 'land', 'hot', 'collar', 'holy', 'spa', 'reserved', 'regretted', 'entertain', 'word', 'nurse', 'nigs', 'fit', 'shame', 'Have', 'party', 'swell', 'send', 'invite', \"ever'body\", 'met', 'Galt', 'House', \"I've\", 'Jockey', 'Club', 'affair', 'dang', \"We'll\", 'oystchers', 'couple', \"bar'l\", \"oystchers'll\", 'crowd', 'gets', 'dare', 'funny', 'ideas', 'perk', 'downright', 'surprised', \"Roy's\", 'buggy', 'beside', 'walking', 'school', 'teaching', 'Eph', 'Showers', 'preach', 'mountain', 'smile', 'hat', 'most', 'politely', 'hop', 'lift', 'hesitation', 'momentary', 'notice', 'See', 'yourself', \"won't\", 'gateway', \"Them's\", 'purtiest', 'babes', 'lonesome', 'relish', \"comin'\", 'uncomfortably', 'forgiven', 'Henrietta', 'murmured', 'absolution', \"Doaty's\", 'testament', 'proof', 'Doaty', 'godless', 'wishing', 'loving', 'note', 'garnet', 'counsel', 'extraordinary', 'us', 'Hetty', 'inevitably', 'unfavorable', 'Adelia', 'frequently', 'tempted', 'Their', 'childhood', 'circumspect', \"Hetty's\", 'flair', 'drama', 'summers', 'Maneret', 'School', 'taught', 'excellently', 'austere', 'knowledge', 'lessons', 'French', 'Polish', 'nobleman', 'profound', 'distaste', 'pupils', 'dancing', 'class', 'Craddock', 'tireless', 'supervising', 'wand', 'everlasting', 'one-two-three', 'supper', 'teas', 'fetes', 'balls', 'Mama', 'gay', 'Papa', 'enormously', 'jocular', 'possessive', 'Blackwell', 'planets', 'revolved', 'corruption', 'circle', 'interruption', 'Charles', 'safe', 'assume', 'sighing', 'heavily', 'daughter', 'Thank', 'spared', 'true', 'easier', \"Charles'\", 'vulnerable', 'able', 'ignore', 'moral', 'question', 'choice', 'moment', 'dawn', 'lying', 'others', 'regard', 'argue', 'morality', 'consisted', 'ability', 'finding', 'oppressive', 'someone', 'Impossible', 'imagine', 'temptation', 'sin', 'virtue', 'curious', 'birds', 'awake', 'colloquy', 'music', 'creep', 'across', 'sill', 'chair', 'flowers', 'artificial', 'blossom', 'leaf', 'Before', 'grave', 'forgotten', 'garden', 'Everything', 'mission', 'sentimental', 'duty', 'pilgrim', 'nature', 'avoided', 'graveyards', 'closed', 'remembering', 'enclosed', 'stone', 'rain', 'grass', 'gray', 'After', 'sad', 'impatient', 'comfort', 'slipped', 'open', 'lacy', 'dew', 'enchanting', 'wildness', 'Leaning', 'tangle', 'rosebush', 'honeysuckle', 'bloom', 'On', 'spray', 'thorns', 'dewdrops', 'swelling', 'buds', 'Valentine', 'bird', 'balanced', 'sang', 'nondescriptly', 'engine', 'artless', 'barefoot', 'play', 'growing', 'permitted', 'bare', 'decidedly', 'une', 'femme', \"d'un\", 'certain', 'age', 'Feeling', 'suddenly', 'neat', 'subdued', 'soberly', 'downstairs', 'Rosa', 'unbelievably', 'reassurance', 'human', 'protective', 'yesterday', 'bun', 'jug', 'breakfast', 'equivalent', 'Outside', 'tame', 'wilderness', 'yielded', 'patchwork', 'bouquet', 'daisies', 'william', 'scented', \"lady's\", 'bedstraw', 'tied', 'grasses', 'show', 'stirring', 'haranguing', 'Folly', 'poodle', 'gleefully', 'supplicating', 'air', 'prayerful', 'forepaws', 'held', 'Rummaging', 'coldly', 'Go', 'sounded', 'clear', 'impression', 'comply', 'danced', 'eager', 'whatever', 'slumbered', 'village', 'sea', 'thirty', 'walked', 'narrow', 'shuttered', 'shops', 'inhabitants', 'eying', 'frankest', 'curiosity', 'bowed', 'recalling', 'princess-in-a-carriage', 'acknowledgments', 'cautious', 'interested', 'An', 'cottage', 'reflective', 'passed', 'sap', 'plainly', 'branches', 'impulse', 'cupped', 'ear', 'repetition', 'announcing', 'nettled', 'offered', 'estimate', 'unenthusiastic', \"Summer's\", 'slow', \"dryin'\", 'scowled', 'vague', 'hospitality', \"They'll\", \"takin'\", 'pleasantly', \"soon's\", 'plan', 'choose', 'coffin', 'myself', 'does', \"You'd\", 'doubtfully', \"Y're\", 'straightened', 'soldierly', 'pulled', 'sprawled', 'boots', 'stick', 'ceased', 'pointer', 'emphasizing', 'finer', 'aspects', 'text', \"f'r\", 'happily', 'system', 'whatsoever', 'rests', 'tissues', 'nodded', 'approval', 'womanly', 'sense', 'Rests', 'pacifies', 'My', 'dad', 'sharply', 'link', 'Titus', 'nineties', 'Next', 'Blackwells', 'island', 'silenced', 'terrible', 'scanty', 'beard', 'deep-set', 'mariner', 'possible', 'spoken', 'awed', 'sisters', 'fellow', 'fishing-boat', 'captain', 'powerful', 'shriveled', 'size', 'senses', 'gently', \"well's\", 'Ran', 'lawful', 'wedded', 'impressed', \"Can't\", 'blame', \"leavin'\", 'cheerfully', 'Left', 'mine', 'boat', \"there's\", 'places', 'reasons', 'Any', 'harm', 'Probably', 'dryly', 'short', 'knowingly', 'observed', 'liking', 'defend', 'actions', 'different', 'laws', 'connivance', 'Selma', \"Cotter's\", 'censure', 'Great', 'Island', 'understood', 'praised', 'ancient', 'earth', 'move', 'big-boned', 'drab-haired', 'clean', 'apron', 'limp', 'print', 'vaguely', \"gran'dad\", \"Y'r\", \"dam'\", 'porridge', 'Milk', 'sops', 'beat', 'claws', 'clattered', 'stones', \"He's\", 'lowly', 'today', 'grand-daughter', 'wearily', 'bent', 'pick', 'comes', 'drink', 'beer', 'piously', 'heaven', 'Beer', 'affect', 'ingenious', 'hypocrisy', 'defense', 'forgave', 'stint', 'malevolence', 'Come', 'eating', \"Blackwell's\", 'somewheres', 'graveyard', 'Who', \"day's\", \"You'll\", 'visiting', \"Ma'am\", 'Delia', 'arm', 'grow', 'answered', 'nod', 'lifted', 'patiently', 'gentle', 'cruelty', 'necessary', 'tyranny', 'mumbled', 'led', 'shuffling', 'mightily', 'weak', 'buffeted', 'wicked', 'gabble', 'voices', 'indoors', 'hungry', 'fish', 'swearing', 'lively', \"journey's\", 'leaving', 'crossing', 'field', 'ahead', 'edge', 'wild', 'rolling', 'dotted', 'bushes', 'sheep', 'covered', 'blossoms', 'scant', 'roots', 'clawing', 'stony', 'darted', 'rustle', 'cry', 'placid', 'terrestrial', 'humming', 'sky', 'mindless', 'easy', 'spire', 'Both', 'smaller', 'remembered', 'lessened', 'headstones', 'grown', 'Dorothy', 'Tredding', 'impossible', 'nearest', 'fallen', 'sea-damp', 'tracing', 'indecipherable', 'carved', 'letters', 'padded', 'green', 'moss', 'gathering', 'gold', 'parasol', 'shade', 'rock-carved', 'angel', 'watched', 'nearby', 'tomb', 'savage', 'moonlight', 'scudding', 'clouds', 'dared', 'stolen', 'hoping', 'fearing', 'ghosts', 'Momoyama', 'Miyagi', 'Prefecture', 'northeast', 'main', 'Japanese', 'Honshu', 'traces', 'Ainu', 'strain', 'Ainus', 'primitive', 'principal', 'ancestors', 'Southern', 'Asia', 'Apparently', 'Caucasian', 'blood', 'skins', 'bearded', 'pitiful', 'subsist', 'tourist', 'trade', 'sing', 'tribal', 'chants', 'sadness', 'Indians', 'Most', 'assimilated', 'sometimes', 'Akita', 'prefectures', 'hairy', 'average', 'occasionally', 'strikingly', 'lovely', 'coloring', 'warmed', 'improved', 'tawny', 'honey-in-the-sun', 'tint', 'invaders', 'South', 'Tommy', 'fortunate', 'occasions', 'taller', 'girls', 'exquisitely', 'willowy', 'lucky', 'tall', 'bridge', 'pale', 'susceptible', 'sunburn', 'vegetable', 'diet', 'forebears', 'regular', 'soft', 'intriguingly', 'tilted', 'melody', 'Japan', 'week', 'alien', 'considering', 'putting', 'rebellious', 'requests', 'San', 'Diego', 'Bremerton', 'Lakes', 'Pensacola', 'Navy', 'hospital', 'threat', 'resign', 'commission', 'request', 'granted', 'Anywhere', 'wrong', 'job', 'assigned', 'psychopathic', 'ward', 'depressingly', 'serious', 'cases', 'teamed', 'chaplain', 'counselor', 'States', 'preserve', 'mental', 'health', 'rule', \"doctor's\", 'seeing', 'salvage', 'firms', 'operate', 'hulks', 'warships', 'sunk', 'inshore', 'involved', 'setting', 'nerve-shattering', 'blasts', 'psychiatry', 'help', 'patients', 'suffered', 'off-duty', 'Such', \"Officers'\", 'hamburger', 'sustain', 'dinnertime', 'cocktail', 'tight', \"Navy's\", 'crossroads', 'Ships', 'Coast', 'rotated', 'six-month', 'tours', 'Seventh', 'Fleet', 'Yokosuka', \"Fleet's\", 'port', 'maintenance', 'shore', 'liberty', 'Sooner', 'later', 'ships', 'officers', 'Long', 'Beach', 'desperately', 'approach', 'good-looking', 'Bar', 'stag', 'cubes', 'tinkling', 'alone', 'trifle', 'tipsy', 'drinking', 'consequently', 'practice', 'tweed', 'sports', 'jacket', 'obviously', 'tailored', 'Hong', 'Kong', 'marked', 'lieutenant', 'carriers', 'aviator', 'fifty-fifty', 'chance', 'unmarried', 'slender', 'applied', 'anywhere', 'overseas', 'foreign', 'implied', 'excused', 'license', 'intimated', 'therefore', 'Then', 'Harro', 'girl-san', 'turning', 'charm', 'catchee', 'boy-furiendo', 'Maybe', 'likee', 'date', 'beg', 'pardon', 'rage', 'believe', 'understand', 'quaint', 'brand', 'English', 'nice-looking', 'officer', 'heels', 'open-mouthed', 'blushing', 'least', 'decency', 'blush', 'mean', 'furiously', 'jerked', 'thumb', 'gesture', 'slang', 'Take', 'fly-boy', 'Uh', 'muttered', 'trouble', 'lasting', 'satisfaction', 'college', \"nurses'\", 'training', 'Everybody', 'accepted', 'charming', 'Nobody', 'addressed', 'Spanish', 'brunettes', 'Moorish', 'hint', 'Orient', 'faces', 'beauties', 'Balkan', 'states', 'similarly', 'endowed', 'blessed', 'United', 'halfway', 'humiliated', 'self-consciously', 'Four', 'waitresses', 'murdering', 'language', 'counter', 'Yuki', 'Kobayashi', 'Bifutek-san', 'steak', 'sandwich', 'Kohi', 'Futotsu', 'cup', 'Two', 'groomed', 'whitehaired', 'doting', 'commander', 'exceptionally', 'appealing', 'Seeing', \"Tommy's\", 'rebelliously', 'pride', 'remain', 'learning', 'civilian', 'transient', 'experienced', 'perfectly', 'America', 'becoming', 'increasingly', 'Nurse', 'Corps', 'friends', 'congenial', 'after-duty', 'raucous', 'male', 'singing', 'terribly', 'key', 'poorly', 'admit', 'companionship', 'natural', 'put-upon', 'finished', 'check', 'incident', 'repeated', 'Eating', 'angry', 'slight', 'indigestion', 'Back', 'bicarbonate', 'soda', 'sulked', 'mirror', 'certainly', 'crude', 'letter', 'cheerful', 'promised', 'soon', 'visit', 'uncle', 'Oyajima', 'tomorrow', 'kimono', 'faculty', 'member', 'hostess', 'gown', 'kotowaza', 'proverb', 'says', 'Tanin', 'yori', 'miuchi', 'literally', 'translated', 'Relatives', 'strangers', 'Actually', 'thicker', \"Doolittle's\", 'scheduled', \"captain's\", 'mast', 'discipline', 'dispensed', 'ordinarily', 'immature', 'chief', 'naturally', 'report', 'hall', 'riot', 'Subic', 'Walt', 'Perry', 'convinced', 'expert', 'tactics', 'rabble', 'rousing', 'executive', 'opinion', 'entirely', 'belief', 'reason', 'Doolittle', 'image', 'fun-loving', 'Guns', 'Appleby', 'perils', 'awful', 'horseplay', 'practical', 'jokes', 'stabilizing', 'sobering', 'influence', 'heart', 'overdeveloped', 'wisecracked', 'indoctrination', 'delight', 'slaughtering', 'cockroaches', 'ethyl', 'chloride', 'security', 'members', 'Armed', 'Forces', 'wonderful', 'uniform', 'may', 'heights', 'eventually', 'retired', 'restriction', 'ship', 'Bustard', 'deprived', 'Boats', 'McCafferty', 'book', 'restricted', 'confines', 'Base', 'thoughtful', 'draw', 'medical', 'supplies', 'Supply', 'naval', 'establishment', 'suited', 'inspect', 'caves', 'dug', 'hills', 'Naval', 'shipmate', 'telephone', 'connect', 'exchange', 'Whitey', 'Gresham', 'sonofabitch', 'exclaimed', 'affection', 'commissary', 'Grab', 'taxi', 'walk', 'errand', 'smart', 'salute', 'gangway', 'dock', 'Petty', 'wondered', 'enjoy', \"one's\", 'spare', 'considered', 'excursion', 'road', 'dusk', 'exercise', 'boating', 'hiking', 'virile', 'strenuous', 'golf', 'fashionable', 'clubs', 'played', 'swimming', 'Riverside', 'Hotel', 'bottom', 'frog', 'packing', 'Sierras', \"Buzz's\", 'Pagan', 'Room', 'Wow', 'Strippers', 'scrumptious', 'Toodle', 'Williams', 'all-lesbian', 'band', 'Hi', 'Buzz', 'Owen', 'Willows', 'notes', 'Tough', 'Listen', \"we're\", 'dinner', 'Friday', 'Imagine', 'pleasant', 'worked', 'territory', 'Reno', 'dinners', 'Thanks', 'happen', 'instigator', 'victims', 'finally', 'rid', 'timid', 'rap', 'Gertrude', 'Parker', 'explained', \"I'd\", 'talk', 'minutes', 'Ahah', 'lush', 'divorcee', 'lobby', 'disappointed', 'nervous', 'scrawny', 'standing', 'frowned', 'pajamas', 'moons', 'semi-professionally', 'Our', 'sponsoring', 'group', 'courageous', 'Alaska', 'lay-sisters', 'among', 'Eskimos', 'bringing', 'freezing', 'highball', 'glasses', 'sparkled', 'dully', 'bright', 'hardships', 'undergo', 'apparently', 'satisfied', 'reaction', 'Smug', 'smug', 'sappy', 'twitch', 'region', 'lewd', 'winking', 'effect', 'Eskimo', 'wildly', 'admitted', 'suppose', 'religion', 'probably', 'resent', 'outsiders', 'telling', 'sickly-tolerant', 'fashion', 'themselves', 'remarks', 'canvassing', 'Forebearing', 'pitch', 'Several', 'slowly', 'retreated', 'raised', 'desk', 'curiously', 'hotel', \"you're\", 'wandering', 'corridors', 'knocking', \"strangers'\", 'difficulties', 'proper', 'travel', 'pairs', 'hundred-and-fifty', 'miles', 'Pacific', 'Northwest', 'aware', 'overexcited', 'drew', \"That's\", 'remonstrated', 'secular', 'active', 'salesmen', 'business', 'bibles', 'prayer', 'books', 'publishing', 'personnel', 'appliances', 'cosmetics', 'plays', 'waspishly', 'appliance', 'heatedly', 'conversation', 'whiskey', 'smiling', 'blinking', 'forget', 'seller', 'excuse', 'appointment', 'bar', 'Leave', 'card', 'listening', 'helped', 'bucking-up', 'crestfallen', 'race', 'indecisively', 'calm', 'realized', 'showered', 'dining', 'receive', 'mail', 'usual', 'enthusiastic', 'bulletins', 'issued', 'lawyer', 'statement', 'overdue', 'alimony', 'Collector', 'Internal', 'Revenue', 'asking', 'explain', \"year's\", 'exemptions', 'ate', 'Virginia', 'braced', 'crest', 'white-topped', 'glisten', 'Truckee', 'River', 'spangle', 'elated', 'adventurous', 'luck', 'easily', 'flowerpot', 'Although', \"o'clock\", 'Golden', 'Calf', 'spinning', 'dice', 'rattling', 'crowded', 'test', 'roulette', 'combination', 'five', 'seventeen', 'won', 'surprisingly', 'dollars', 'management', 'champagne', 'dimly', 'lit', 'neon', 'gamblers', 'automatically', 'caring', 'mural', 'depicted', 'settlers', 'wagons', 'appeared', 'animated', 'expectancy', 'gazed', 'splendidly', 'stern', 'hopeful', 'Donner', 'starving', 'wonder', 'eat', 'mused', 'heavily-upholstered', 'blonde', 'cleaned', 'dirty', 'one-arm', 'bandits', 'cunningly', 'arranged', 'entrance', 'slots', 'bested', 'mechanical', 'devices', 'depending', 'support', 'dried-up', 'cowboy', \"blonde's\", 'authentic', 'slightly', 'stables', 'steady', 'martingale', 'announced', 'build', 'hit-and-miss', 'five-seventeen', 'logging', 'twelve-hour', 'period', 'repeating', \"roulette's\", 'game', 'blackjack', 'Incidentally', 'famous', 'parts', 'Wrangler', 'Nice', 'spend', 'ranch', 'Bar-H', 'pushing', 'Sparky', 'collect', 'rack', 'single-foot', \"he's\", 'fastest', 'Washoe', 'County', 'publicity', 'campaign', 'TV', 'hero', 'trained', 'Hoot', 'Gibson', 'pinto', 'photographs', 'wonderfully', 'Five', 'neglected', 'loss', 'conclusively', 'jinx', 'Hurrays', 'glorified', 'gambling', 'den', 'marking', 'keno', 'spirit', 'waned', 'studied', 'pistol', 'exhibition', 'featured', 'added', 'attraction', 'ogled', 'redhead', 'shill', 'prejudice', 'shills', 'cash', 'everyone', 'flipping', 'discreetly', 'withdrew', 'customers', 'chips', 'checks', 'premium', 'points', 'announcement', 'whereby', 'feature', 'floorshow', 'A.M.', 'starring', 'Adele', 'Body', 'Brenner', 'fourteen', 'glamorous', 'schoolgirls', 'bag', 'frightened', 'brides', 'orchids', 'chuck-a-luck', 'Hawaiian', 'shirt', 'carrying', 'sun-tan', 'oil', 'dark', 'shorter', 'fatter', \"We're\", 'Lake', 'Tahoe', 'Cal-Neva', 'instigating', 'guy', 'guarantees', 'wheel', 'stickman', 'pit', 'boss', 'crossroading', 'faro', 'allergic', 'pollen', 'okay', 'crap', 'pyramid', 'consecutive', 'success', \"How's\", 'honey', 'platinum', 'bursting', 'sun-suit', 'well-fed', 'prosperous', 'propositioned', 'Stake', 'dance', 'tango', 'hurry', 'discuss', 'merger', 'broke', 'Sounds', 'real', 'love', 'brings', 'lump', 'throat', \"name's\", 'Gisele', 'ordered', 'Scotch', 'Named', 'ballet', 'Sylphide', 'affected', 'Spencer', 'Is', 'offer', 'Alexander', 'Answer', 'properly', 'quiet', 'longer', 'Captain', 'Very', 'procedure', 'Philip', 'cold-bloodedly', 'planned', 'murder', 'chide', 'lapse', 'address', 'During', 'arrest', 'Somers', 'Greek', 'paper', 'manufacturing', 'steal', 'aft', 'pretence', 'opportunity', 'communicate', 'Hostile', 'glances', 'flashed', 'Gansevoort', \"Captain's\", 'cabin', 'arrests', 'E.', 'Andrews', 'Cromwell', 'oldest', 'dangers', 'glories', 'identified', 'mutineer', 'Somehow', 'letting', 'tap', 'Oliver', 'entered', 'Heiser', 'breathless', 'wild-eyed', 'chilling', 'news', 'handspikes', 'heavers', 'holystones', 'mysteriously', 'customary', 'sir', 'articles', 'souvenirs', 'African', 'knife', 'battle-ax', 'sharpened', 'McKinley', 'Green', 'overheard', \"Spencer's\", 'Where', 'information', 'reported', 'disappearance', 'crash', 'deck', 'sprang', 'ladder', 'revealed', 'topgallant', 'aimless', 'milling', 'well-trained', 'well-organized', 'crew', 'struck', 'horror', 'bellowed', 'orders', 'alert', 'response', 'heads', 'questioningly', 'shackled', 'further', 'instruction', 'Adrien', 'Deslonde', 'hastened', \"Alexander's\", 'Small', 'violently', 'weather-royal', 'brace', 'intention', 'consultation', 'swear', 'mistaken', 'aiding', 'sending', 'signal', 'obey', 'evident', 'confusion', 'turmoil', 'ideal', 'begin', 'battle', 'bloodshed', 'strategy', 'reasoned', 'defeated', 'unwillingness', 'sanction', 'originated', 'placed', 'irons', 'terror', 'stalked', 'potential', 'followers', 'openly', 'morose', 'missing', 'muster', 'expressing', 'ominous', 'tones', 'displeasure', 'prisoners', 'communicating', 'hiding', 'Midshipman', 'Tillotson', 'insolently', 'disobeyed', 'Seaman', 'Wilson', 'attacked', 'brandishing', 'weapon', 'snarling', 'joined', 'McKee', 'brig', 'loyal', 'villainous', 'unaffected', 'seven', 'crime', 'mutiny', 'Wales', 'speak', 'listen', 'Three', 'fears', 'requires', 'omniscient', 'select', 'rely', 'flush', 'From', 'aboard', 'guess', 'boast', 'staunch', 'modest', 'ventured', 'investigation', 'questioning', 'useless', 'force', 'guard', 'increased', 'number', 'Besides', 'court', 'inquiry', 'informed', 'large', 'punished', 'loose', 'perform', 'truly', 'workable', 'flag', 'needed', 'self-confident', 'lead', 'As', 'appointed', 'rushed', 'murdered', 'extravagant', 'harbor', 'agree', 'thoughtfully', 'conspiracy', 'ferocious', 'instinct', 'Anything', 'anarchy', 'paused', 'Implements', 'available', 'hasty', 'combat', 'stands', 'positive', 'suspicious', 'ourselves', 'stand', 'sentinel', 'brothers', 'midshipmen', 'responsibility', 'labor', 'uncertain', 'trust', 'lowered', 'wept', 'act', 'accordance', 'implacable', 'protection', 'honor', 'lose', 'dedicated', 'failed', 'yearned', 'passionately', 'foolish', 'strive', 'seek', 'gates', 'fortune', 'reward', 'eighteen-year-old', 'sailed', 'sobbed', 'shed', 'desired', \"egotist's\", 'fame', 'precious', 'career', 'satisfy', 'egotist', 'served', 'someday', 'returned', 'safely', 'Dear', 'dried', 'assurance', 'dignity', 'Stern-faced', 'inspected', 'satisfying', 'averted', 'glimpsed', 'anger', 'boatswain', 'mild-mannered', 'respectful', 'innocent', 'plot', 'Are', 'doubt', 'cannot', 'squinting', 'seeming', 'shake', 'lethargy', 'shifted', 'gaze', 'calmness', 'detachment', 'unawareness', 'implicit', 'guilt', 'naive', 'thick-skulled', 'sudden', 'painful', 'clarity', 'recognized', 'kinship', 'Here', 'stupidity', 'quarreling', 'inevitable', 'bad', 'handcuffs', 'ankle', 'follows', 'misfortune', 'red-haired', 'towering', 'prisoner', 'symbol', 'authority', 'shocked', 'tragic', 'lad', 'forged', 'shackles', 'favored', \"other's\", 'undoing', 'deny', 'constant', 'hazel', 'accept', 'gain', 'defending', 'Nothing', 'agreed', 'contemplation', 'logical', 'mass', 'hesitate', 'untruth', 'guilty', 'action', 'interpreted', 'favor', 'four', 'prior', 'significance', \"Cromwell's\", 'hands', 'whispered', 'explanations', 'Rogers', 'geometry', 'fantastic', 'wardroom', 'apprentices', 'awaited', 'continue', 'element', 'frightful', 'absurdity', 'Some', 'percentage', 'Rachel', 'steered', 'boys', 'study', 'Torah', 'Bits', 'trash', 'roadway', 'warmish', 'foul', 'alley', 'strides', 'double-breasted', 'coat', 'material', 'trousers', 'buckles', 'brim', 'crown', 'fur', 'trim', 'erect', 'approached', 'glancing', 'fixed', 'straight', 'pinkish-white', 'tightly', 'paot', 'conscious', 'market', 'long-sleeved', 'cloth', 'stride', 'swinging', 'sides', 'dingy', 'pivoting', 'heel', 'building', 'Like', 'swallowed', 'plodding', 'twisting', 'discolored', 'boarded', 'windows', 'schools', 'synagogues', 'occupied', 'ajar', 'flight', 'steep', 'shabby', 'baggy', 'skullcap', 'greeted', 'clasping', 'unclasping', 'paunch', 'flicked', 'ask', 'bare-armed', 'preceded', 'corridor', 'peering', 'classroom', 'stepped', 'benches', 'teacher', 'dripped', 'poised', 'surly', 'half-closed', 'shouted', 'Yiddish', 'Rapping', 'shrilled', 'translation', 'interpretation', 'Books', 'Moses', 'previously', 'chanted', 'Hebrew', 'tune', 'Each', 'rocked', 'bench', 'grandfather', 'great-grandfather', 'prayed', 'ghettos', 'Europe', 'upturned', 'noses', 'cropped', 'ringlets', 'framing', 'yellowed', 'prayerbooks', 'Since', 'penalty', 'distraction', 'guttural', 'ghetto', 'portion', 'rapping', 'incessantly', 'worn', 'freckles', 'hung', 'brilliant', 'curls', 'barely', 'interest', 'traveled', 'partially', 'texts', 'memorized', 'ago', 'singsonged', 'accompanied', 'off-key', 'baritone', 'spurred', 'tapping', 'defined', 'rhythm', 'pitched', 'shuddered', 'backed', 'clucked', 'cool', 'high-pitched', 'devote', 'rigid', 'Except', 'Shabbat', 'praying', 'rubbed', 'numb', 'prickly', 'waited', 'glanced', 'asks', 'skirt', 'fingered', 'pruta', 'coin', 'handed', 'thanked', 'grinned', 'Does', 'Sabras', 'horrible', 'fighting', 'orthodox', 'roads', 'fight', 'Messiah', 'amazed', 'convictions', 'appear', 'stupid', 'crazy', 'immortal', 'heroic', 'resented', 'faced', 'twinkling', 'Sometimes', 'Your', 'quietly', 'respectfully', 'section', 'clicked', 'visited', 'kibbutzim', 'Aliah', 'immigrants', 'Israel', 'freedom', 'dangerous', 'slyly', 'wherever', 'chose', 'sought', 'helping', 'Ready', 'follow', \"Me'a\", \"She'arim\", 'countries', 'farms', 'Jewish', 'anyplace', 'gaining', 'nerve', 'ready', 'intimate', 'rebuffed', 'clasped', 'slowed', 'pace', 'cobblestones', 'pursed', 'clamped', 'relaxed', 'Trouble', 'hurt', 'refugee', 'relatives', 'middle-aged', 'strut', 'numerals', 'branded', 'concentration', 'Often', 'despondent', 'retrieve', 'wandered', 'official', 'Mandate', 'imprisoned', 'arrested', 'hanged', 'continued', 'energy', 'Reuveni', 'direct', 'bright-eyed', 'deep', 'complained', 'shrugged', 'intend', 'Anyway', 'weeks', 'skinny', 'proposal', 'upset', 'straighten', 'beaten', 'imagined', 'plans', 'begun', 'waking', 'swing', 'chariot', 'maybe', 'poling', 'south', 'fork', 'Forked', 'Deer', 'braving', 'wastes', 'dumped', 'barge', 'gang', 'Ethiopians', 'taken', 'Wednesday', 'nights', 'fellowship', 'Out', 'car', 'tooling', 'headlights', 'sweeping', 'hit', 'expansiveness', 'pine', 'board', 'courts', 'cabins', 'naked', 'bulb', 'ceiling', 'unfrosted', 'streetlight', 'kid', 'swooping', 'bugs', 'bouts', 'hopscotch', 'complete', 'moths', 'pinging', 'casual', 'cruising', 'insect', 'Highway', 'Patrol', 'feelers', 'waving', 'sagged', 'weight', 'overhearing', 'Gratt', 'curtain', 'listened', 'Shafer', 'Memphis', 'wedding', 'rehearsal', 'Mattie', 'mayor', 'gripping', 'microphone', 'Toonker', 'Burkette', 'yanking', 'balloon', 'leak', 'blow', 'hell', 'burn', 'parachute', 'Starkey', 'Poe', 'suit', 'underwear', 'maid', 'thinks', 'pregnant', 'dizzy', 'somebody', 'normal', 'daddy', 'kill', 'draining', 'punctured', 'tire', 'muddy', 'raining', 'mud', 'spectator', 'pumps', 'squat', 'crying', 'afraid', 'damned', 'son-of-a-bitch', 'drive', 'changing', 'hating', 'raped', 'tool', 'ham', 'eggs', 'rape', 'nestled', 'breast', 'gives', 'whether', 'tramp', 'skull', 'drives', 'truck', 'delivers', 'berry', 'crates', 'sheds', 'owns', 'wells', 'diamond', 'mines', 'makes', 'difference', 'mild-voiced', 'little-town', 'big-town', 'level', 'Houdini', 'unlocked', 'discover', 'hate', 'means', 'Because', 'share', 'believed', 'resting', 'gift', 'works', 'wants', 'mile', 'sees', 'asleep', 'particularly', 'chump', 'plastered', 'afford', 'too-shiny', 'radio', 'dawns', 'fill', 'seat', 'miserable', \"Shafer's\", 'substitute', 'drunk', 'St.', 'Louis', 'looks', 'Christmas', 'Damn', 'corn', 'acres', 'whitewashed', 'bordering', 'grounds', 'envisioned', 'factories', 'Homes', 'federal', 'highway', 'peaceful', 'bandstand', 'uniforms', 'flash', 'instruments', 'bands', 'spellbound', 'symphony', 'sophisticated', 'concert', 'piano', 'virtuoso', 'rehearsing', 'governor', 'courage', 'swelled', 'chill', 'goose', 'bumps', 'rippled', 'dying', 'While', 'Tennessee', 'farmer', 'rained', \"rat's\", 'ass', 'nodding', 'furrowed', 'lean', 'cheeks', 'powdery', 'reflecting', 'droughts', 'drought', 'August', 'predicting', 'festival', 'thoughts', 'store', 'Factory-to-You', 'maids', 'youngest', 'clerk', 'thirty-four', 'conditions', 'unventilated', 'toilet', 'shut', 'lock', 'Herman', 'allow', 'encourage', 'malingering', 'primping', 'sincere', 'scrubbing', 'written', 'boxed-in', 'public', 'count', 'rapped', 'bangs', 'closet', 'break', 'connections', 'jerk', 'drag', 'opposite', 'handle', 'clutching', 'whichever-the-hell', 'six-thirty', 'eleven', 'Saturdays', 'sales', 'chairs', 'cooling', 'overhead', 'fans', 'porter', 'janitor', 'Among', 'handled', 'commissions', 'spot', 'drawings', 'advertising', 'uptown', 'magazine', 'lettering', 'specialty', 'George', 'complicated', 'pen-and-ink', 'medieval', 'hundreds', 'delicate', 'details', 'crammed', 'eight-by-ten', 'sheet', \"jeweler's\", 'precise', 'spots', 'sold', 'various', 'literary', 'artistic', 'journals', 'Yorker', 'instance', 'Esquire', 'jackets', 'covers', 'paperback', 'reprints', 'huddling', 'corners', 'furnished', 'rooms', 'doorway', 'daring', 'cops', 'sleeves', 'revolver', 'Brothers', 'Karamazov', 'illustration', 'Magpie', 'Press', 'historical', 'novel', 'Edward', '3', 'research', 'fifteenth-century', 'armor', 'ferreted', 'materials', 'shields', 'linden', 'leather', 'reflections', 'accurate', 'McKenzie', 'art', 'editor', 'sketch', 'Rufus', 'static', 'third', 'cost', 'reproduce', \"you've\", 'colors', 'including', 'readers', 'researches', 'television', 'movies', 'knights', 'middle', 'ages', 'flowing', 'haircuts', 'Fauntleroy', 'villains', 'beards', 'transparent', 'picture', 'Byron', 'sword', 'painted', 'furniture', 'stills', 'costume', 'movie', 'clam', 'authenticity', 'Donald', 'actually', 'paintings', 'easel', 'painters', 'scholarships', 'usually', 'Joyce', 'Monmouth', 'style', 'inner', 'vision', 'reminded', 'kids', 'adults', 'freshness', 'perception', 'self-consciousness', 'twist', 'forms', 'leap', 'page', 'smack', 'nearsighted', 'bottoms', 'bottles', 'prevent', 'exciting', 'uncanny', 'absent-minded', 'sleepwalker', \"Christ's\", 'Prussian', 'paint', 'pants', 'discovery', 'painting', 'gravy', 'shared', 'expenses', 'studio', 'cheap', 'lodgings', 'Attending', \"Askington's\", 'pressure', 'ambition', 'awoke', 'reputation', 'illustrator', 'Peter', 'Askington', 'goal', 'admired', 'artist', 'joy', 'profession', 'income', \"Monmouth's\", 'cashmere', 'buttons', 'Viyella', 'necktie', 'bolo', 'drawn', 'golden', 'ring', 'pure', 'jade', 'richness', 'texture', 'clothing', 'decorations', \"Brush-off's\", 'rent', 'forty-four', 'sparkle', 'erudite', 'speech', 'younger', 'prominent', 'illustrators', 'cover', 'slick', 'national', 'magazines', 'Life', 'included', 'Modern', 'Artists', 'series', 'photographed', 'Sixties', 'photograph', 'Velasquez', 'royalty', 'Spain', 'library', 'bookshelves', 'Modigliani', 'portrait', 'Jackson', 'Pollock', 'twelve', 'gorgeous', 'Miro', 'background', 'inscription', 'Martian', 'fireplace', 'tiles', 'Picasso', 'restaurants', 'illusion', 'wealthy', 'studying', 'By', 'classes', 'point', 'craft', 'painter', 'atmosphere', 'absorb', 'masters', 'Durer', 'Bellini', 'Mantegna', 'Painting', 'embrace', 'interdependent', 'varied', 'multitudinous', 'fragment', 'mosaic', 'performer', 'vast', 'philharmonic', 'organize', 'gigantic', 'extreme', 'abstract', 'expressionism', 'photorealism', 'artists', 'common', 'inward', 'outward', 'Ah', 'title', 'Eye', 'fascinated', 'intelligent', 'anatomy', 'Burns', 'replied', 'teaches', 'Manhattan', 'Art', 'scholarship', 'five-hundred-dollar', 'prize', 'bums', 'Hudson', 'enameling', 'Hajime', 'Iijima', 'Pendleton', 'Osric', 'million', 'retrospective', 'eighteen', 'contemporary', \"Cezanne's\", 'sixty', 'Still', 'modern', 'impressionist', 'canvases', \"Thoreau's\", 'hangouts', 'magical', 'Contact', 'stimulating', 'stimulation', 'succeed', 'isolating', 'farther', 'occupation', 'Middle', 'Ages', 'Renaissance', 'nineteenth', 'century', 'artisan', 'craftsmanship', 'goldsmith', 'carver', 'society', 'portraying', 'wars', 'leaders', 'ugliness', 'religious', 'impulses', 'propagandist', 'satirist', 'lover', 'philosopher', 'scientist', 'illustrating', 'tooth-paste', 'ads', 'salacious', 'incidents', 'trivial', 'novels', 'picking', 'fluff', 'navel', 'contemplated', 'greater', 'purity', 'bunch', 'amateur', 'dervishes', 'apprenticeship', 'cafe', 'upshot', \"Pendleton's\", 'Tuesday', 'Thursday', 'awkward', 'punch', 'clock', 'drawing', 'finish', 'lonely', 'Brush-off', 'reading', 'mostly', 'benefit', 'mailman', 'Stimulating', 'rewarding', 'Partly', 'anticipated', 'prepared', 'worship', 'classic', 'bitter', 'cigars', 'quitting', 'registration', 'Ida', 'glove', 'compartment', 'Via', 'readily', 'frowning', 'Had', 'signed', 'mutually', 'stir', 'courtesy', 'accusing', 'fraud', \"Walter's\", 'thank', \"Via's\", 'assail', 'Walter', 'mind', 'attention', 'temporary', 'tear', 'narrows', 'Salter', 'half-murmured', 'remark', 'statements', 'stress', 'indulge', 'killing', 'sequence', 'noble', 'enjoying', 'lemon', 'sponge', 'dessert', 'roasted', 'chicken', 'parboiled', 'frozen', 'vegetables', 'icebox', 'weekend', 'appointments', 'Dolly', 'Thaxters', 'recovering', 'movie-to-be', 'London', 'tranquil', 'wiser', 'tolerance', 'patch', 'foggy', 'path', 'grooved', 'accustomed', 'dense', 'mists', 'sun-warmed', 'palisades', 'river', 'fog', 'crept', 'twinkle', 'woods', 'assumed', 'shopping', \"women's\", 'lunch', 'parish', 'discussed', 'annual', 'bazaar', 'late', 'Prisoners', 'accused', 'accident', 'accounts', 'testimony', 'itself', 'unsee', 'Thaxter', 'driveway', \"car's\", 'length', 'turnaround', 'Engisch', 'nowhere', 'screamed', 'search', 'upstairs', 'closets', 'exclaiming', 'rushes', 'gasps', 'portfolio', 'lingerie', 'mink', 'telephoning', \"Salter's\", 'friend', 'equal', 'servant', 'sandwiches', 'Sitting', 'recalled', 'alarm', 'guests', 'Harvie', 'drop', 'Rome', 'habit', 'busy', 'hour-long', 'conversations', 'Constance', 'final', 'plea', 'Hanging', 'patience', 'stab', 'conclusion', 'cliff', 'disturbed', 'winds', 'romantic', 'broad', 'gleaming', 'moontrack', 'enormous', 'poetic', 'rock', 'misstep', 'fisherman', 'shudder', 'triumphant', 'account', 'Was', 'hysterical', 'release', 'vigilance', 'Sonny', 'shuddering', 'Everyone', 'pitied', 'underneath', 'unquenched', 'pity', 'enduring', 'ghastly', 'outcry', 'appalled', 'knows', 'absurd', 'exclamation', 'estranged', 'hangs', 'void', 'connection', 'self-pity', 'separation', 'prevented', 'justify', 'scapegoat', 'borne', 'avoidance', 'rankles', 'coolly', 'hurts', 'cried', 'triumphantly', 'Mathias', 'haunted', 'persisted', 'explaining', 'advised', \"nobody's\", 'overplayed', 'value', 'coarse', 'insulting', 'harsh', 'appraisal', \"Mathias'\", 'advice', 'thousands', 'towns', 'dispossessed', 'hanging', 'makeshifts', 'altogether', 'arid', 'decision', 'discarded', 'risen', 'fullest', 'height', 'transcending', 'murky', 'self', 'ignorant', 'self-examination', 'conclusions', 'realizing', 'praise', 'deliverance', 'pettiness', 'greed', 'free', 'darling', 'Ellen', 'funeral', 'Methodist', 'minister', 'glistening', 'eyeglasses', 'doll', 'stranger', 'sacred', 'drumming', 'accompaniment', 'relentless', 'burial', 'postponed', 'decided', 'cremate', 'leaped', 'trestles', 'parlor', 'surface', 'sheaf', 'roses', 'knelt', 'whispering', 'Father', 'Heaven', 'grief', 'parking', 'Together', 'hearse', 'traffic', 'Jersey', 'arrived', 'chapel-like', 'auditorium', 'discreet', 'symbols', 'faiths', 'Again', 'impelled', 'kneel', 'Bach', 'healing', 'bachelor', 'apartment', 'Lancaster', 'Arms', 'Uhhu', 'eyelid', 'downtown', 'Carla', 'wanting', 'convivial', 'needs', 'Pausing', 'Me', 'Umm', 'uhhu', 'Kleenex', 'purse', 'wiped', 'lipstick', 'solemnly', 'Alberto', 'flatter', 'vanity', 'history', 'Caneli', 'Would', 'stories', 'lies', 'cleansing', 'using', 'falling', 'orderly', 'hide', 'annoyance', 'sloppy', 'bathroom', 'knees', 'scrub', 'vent', 'exasperation', 'dwelt', 'indignities', 'respect', 'view', \"What's\", 'Sam', 'Look', 'shoe', 'wears', 'pair', 'thin-soled', 'Italian', 'outfit', 'dark-gray', 'slacks', 'fawn-colored', 'encountered', 'tweedy', 'Englishman', 'delighted', 'Changing', 'dark-blue', 'aside', 'remind', 'Parioli', 'loafed', 'ruins', 'Roman', 'lower', 'Veneto', 'Farnese', 'Gardens', 'amusing', 'scandal', 'Farneses', 'Trastevere', 'fountain', 'piazza', 'Santa', 'Maria', 'eloquent', 'midnight', 'woke', 'bells', 'ringing', 'scolding', 'obelisk', 'Steps', 'clung', \"Peter's\", 'wake', 'shaking', \"Aren't\", 'drowsily', 'snuggled', 'certainty', \"mother's\", 'stuck', 'Bible', 'temperament', 'achieved', 'tranquility', 'composure', 'accepting', 'Testament', 'Sistine', 'Chapel', 'folklore', 'Could', 'honestly', 'prophets', 'imagination', 'Being', 'Catholic', 'Protestant', 'dogmatic', 'atheists', 'strict', 'Communist', 'wearied', 'ideologies', 'enlargement', 'wearying', 'somewhere', 'pondering', 'Ferraros', 'hurrying', 'joking', 'stair', 'worrying', 'behave', 'Ferraro', 'lady', 'softly', 'Ciao', 'gleamed', 'gestures', 'courteous', 'Agnese', \"'ello\", 'biscuits', 'Acting', 'interpreter', 'folded', 'lap', 'utterly', 'impersonal', 'Watching', 'tennis', 'ball', 'bounced', 'Signora', 'bobbing', 'encouragingly', 'Canada', 'nephew', 'North', 'lumber', 'mill', 'seasonal', 'unemployment', 'migrated', 'railway', 'bush', 'boxcar', \"Sam's\", 'countrymen', 'boxcars', 'Regretfully', 'experience', 'adopted', 'Pope', 'sparkling', 'intellectual', 'mystical', 'Portugal', 'confirmation', 'serenity', 'unaware', 'homely', 'enchantment', 'Holy', 'translate', 'assistance', 'doctors', 'rulers', 'saint', 'Nodding', 'approvingly', 'confidentially', 'discontent', 'cardinals', 'splendor', 'intellect', 'Signor', 'Raymond', 'regime', 'Jobs', \"Carla's\", 'Italians', 'Devout', 'Brooklyn', 'Malta', 'Ireland', 'glowing', 'softening', 'happiness', 'dreamy', 'Dookiyoon', 'lodge', 'Shades', 'purify', 'caressing', 'flageolet', 'whisper', 'emerge', 'unhesitant', 'stiff', 'facing', 'contempt', 'encounter', 'disdain', 'outraged', 'scornful', 'proceeded', 'destination', 'bleeding', 'breath', 'bounce', 'press', 'feared', 'presences', 'metabolism', 'trembling', 'stumbled', 'Going', 'queer', 'hideous', 'weird', 'images', 'invested', 'eyeballs', 'pressed', 'thumbs', 'fled', 'minded', 'Elsewhere', 'lodges', 'clusters', 'Early', 'Spring', 'half-drunk', 'Walitzee', 'mild', 'commotion', 'hushed', 'Standing', 'imperious', 'denying', 'dread', 'suffer', 'insult', \"girl's\", 'scorn', 'overloud', 'Tell', 'Pile', 'Clouds', 'indignant', 'wolf', 'shriek', 'begging', 'Telling', 'unsheathing', 'curing', 'hides', 'wickedness', 'cunning', 'hunger', 'Speaking', 'loathing', 'upright', 'bearing', \"helsq'iyokom\", 'murmuring', 'knot', 'threats', 'mingling', 'nagging', 'indignation', 'sticks', 'hurled', 'shower', 'sting', 'pain', 'shouting', 'embodiment', 'defiance', 'howling', 'bullhide', 'whip', 'pack', 'noise', 'screaming', 'tripping', 'seized', 'flog', 'Drive', 'demons', 'teach', 'jerking', 'Get', 'hovel', 'spat', 'double-married', 'yours', 'parades', 'Keep', 'confront', 'leads', 'fury', 'sank', 'darkness', 'stirred', 'mumbling', 'stupor', 'worrisome', 'happens', 'dreamed', 'wolves', 'nakedness', 'smelling', 'stale', 'odor', 'whisky', 'TuHulHulZote', 'concerns', 'Lie', 'enter', 'brain', 'curses', 'bore', 'twisted', 'gnarled', 'talons', 'rudely', 'moon', 'thousand', 'shoving', 'spruce', 'whine', 'crack', 'damp', 'shortening', 'arc', 'narrowed', 'snarled', 'cracked', 'settling', 'unchanged', 'motionless', 'staring', 'delineaments', 'bark', 'begotten', 'forbidden', 'tracings', 'tree', 'refracted', 'rough', 'edges', 'lash', 'crazed', 'monosyllables', 'meaning', 'unnnt', 'Sssshoo', 'despair', 'quavering', 'Move', 'settle', \"whip's\", 'Turning', 'unbent', 'resigned', 'blows', 'fleeing', 'dodging', 'shadows', 'hollow', 'rocky', 'hid', 'madness', 'glorying', 'hoarse', 'mastiff', 'bristling', 'ranted', 'prophesied', 'doom', 'enemies', 'circles', 'gasping', 'draughts', 'incoherent', 'oblivion', 'amused', 'appeasement', 'violence', 'retribution', 'antics', 'disdaining', 'gloom', 'games', 'races', 'future', 'paraded', 'grandly', 'attis', 'cave', 'skeletons', 'paxam', 'dipped', 'arrowheads', 'venom', 'rattlesnakes', 'swift', 'maneuvers', 'firing', 'guns', 'unison', 'indeterminate', 'Sarpsis', 'blankets', 'flew', 'wings', 'Swan', 'Necklace', 'emulate', 'timidly', 'Yellow', 'Wolf', 'disordered', 'chemistries', 'bolt', 'inaction', 'boiled', 'fermenting', 'juices', 'Alokut', 'challenged', 'matched', 'raced', 'maneuvered', 'single', 'file', 'abreast', 'cavalry', 'frenziedly', 'regalia', 'preparations', 'combed', 'streaked', 'greased', 'foreheads', 'tails', 'sage', 'hens', 'whitened', 'leggings', 'reflection', 'speeding', 'arrow', 'bow', 'hurtling', 'mad', 'grace', 'maleness', 'meadow', 'rue', 'admiring', 'envenomed', 'hilltops', 'descend', 'eagle', 'caper', 'cliffs', 'parade', 'challenge', 'arrogance', 'streaming', 'amulets', 'ripening', 'bellicosity', 'nation', 'throes', \"men's\", 'shifting', 'hearts', 'mounted', 'vanished', 'disheveled', 'hoofs', 'Appaloosas', 'Dogs', 'Hell', 'fleet', 'ridge', 'multicolored', 'legion', 'banners', 'roll', 'drums', 'cacophony', 'accompanying', 'wind', 'thousand-legged', 'monster', 'plunging', 'saddles', 'terrifying', 'ejaculated', 'grotesque', 'hemlocks', 'birch', 'maples', 'quarry', 'pulse', 'ears', 'totally', 'unfamiliar', 'shape', 'clutch', 'stubs', 'committed', 'suicide', 'dive', 'expertly', 'downward', 'root', 'sneakers', 'sliding', 'leaves', 'jumped', 'flat', 'expanse', 'seating', 'short-cut', 'reedy', 'frogs', 'faded', 'presently', 'volume', 'vibrant', 'Julia', 'accomplished', 'miracle', 'confused', 'Paul', 'Easter', 'holidays', 'Evening', 'Dancing', 'Class', 'attend', 'Hello', 'Julie', 'casually', 'breasts', 'obvious', 'lower-cut', 'wire', 'inability', 'pretense', 'acute', 'embarrassment', 'Bentley', 'Rawlings', 'sometime', 'Millie', 'robe', 'ghost', 'threshold', 'slept', 'china', 'lamp', 'switch', 'Monday', 'prison', 'indebted', 'Below', 'remote', 'tunnel', 'vacuum', 'cleaner', 'fumbled', 'bandages', 'uncovered', 'gripped', 'fearful', 'coursing', 'vessels', 'expanding', 'fabric', 'stains', 'apparent', 'mess', 'shivered', 'blood-soaked', 'wound', 'tidiness', 'verge', 'Alex', 'Poldowski', 'owed', 'debt', 'effete', 'gentleman', 'peered', 'wristwatch', 'Strange', 'quarter', 'Too', 'kneeling', 'tie', 'shoelaces', 'absurdly', 'clumsy', 'strands', 'adhesive', 'tape', 'ugly', 'gauze', 'moist', 'cheekbones', 'however', 'Hall', 'imperative', 'detained', 'hallway', 'plane', 'freakish', 'wreck', 'cavern', 'reply', \"Who's\", 'thief', 'discovered', 'leading', 'gazing', 'Uncle', 'Gosh', 'blazer', 'overly', 'brow', 'knitted', \"Pietro's\", 'finishing', 'Mother', 'float', 'implausibly', 'shaft', 'sunlight', 'oddly', 'considerate', 'partly', 'clearly', \"moment's\", 'paneling', 'vivid', 'inserted', 'eyelids', 'good-bye', 'mention', \"It'll\", 'Please', 'disappeared', 'pounding', 'goes', 'footsteps', 'manage', 'Lincoln', 'parked', 'Pietro', 'insolent', 'disdainful', 'Ardmore', 'merest', 'servants', 'born', 'inflection', 'forced', 'rehearsed', 'analyze', 'Carrie', 'affectionate', 'respected', 'responded', 'ridiculous', 'theater', 'restaurant', 'Forget', 'general', 'slackened', 'badly', \"aren't\", 'disappointing', 'purposeless', 'relinquished', 'Abruptly', 'greatest', 'automatic', 'phrase', 'crossed', 'courtyard', 'tender', 'Someone', 'Will', 'bumped', 'steadily', 'entry', 'brass', 'screwed', 'kitchenette', 'raw', 'gasp', 'swallows', 'lessen', 'hauled', 'upsets', 'insist', 'Joan', 'sweetheart', 'Happened', 'intoxicated', 'Unfortunately', 'jury', 'struggle', 'win', 'Tony', 'Elliott', 'pinch-hit', \"He'll\", 'tactful', 'nudge', 'facts', 'postponement', 'routine', 'strip', 'bribe', 'double', 'martini', 'Okay', 'receiver', 'relationship', 'Fulbright', 'renovated', 'brick', 'settler', 'constructed', 'clever', 'efficient', 'secretary', 'train', 'conformists', 'peculiar', 'obnoxious', 'ruffled', 'feathers', \"Jim's\", 'Myra', 'unreliable', 'irresponsible', 'flyaway', 'Lucy', 'Jim', 'jollying', 'Susan', 'Obviously', 'Upstairs', 'showering', 'raindrops', 'pattered', 'grandmother', 'prudent', 'packed', 'lifetime', \"She'd\", 'Websterville', 'expressive', 'registered', 'anxiety', 'Cathy', 'finds', 'Paris', 'awfully', 'grateful', 'appreciated', \"sister's\", 'Darling', 'mingled', 'blend', 'Remember', 'Leaving', 'supposedly', 'Gregg', \"Myra's\", 'otherwise', 'keys', 'jingled', 'nervously', 'scare', \"she'll\", 'defensive', 'Greg', 'widow', 'depends', 'rescue', 'crises', 'Remembering', 'succession', 'disasters', 'child-cloud', 'horizon', 'youngster', 'troubled', 'fuss', 'hers', 'unhappily', 'accuse', 'looming', 'specter', 'forever-Cathy', 'fiercely', 'startled', 'piping', 'yell', 'moon-washed', 'steeped', 'rung', 'stairway', 'brows', 'smoothed', 'muddling', 'worthless', 'selfish', 'clattering', 'overwhelmed', 'dolls', 'bundle', 'sharp', 'junk', 'gushed', 'instant', 'approaching', 'handkerchief', 'mopping', 'skillfully', 'shape-up', 'warning', 'groaned', \"Susan's\", 'gentler', 'Sure', 'entire', 'grappling', 'outsized', 'armload', 'Scrooge-like', 'lecture', \"cousins'\", 'sharing', 'sympathize', 'limit', \"Cathy's\", 'Lilliputian', 'competing', 'silence', 'rear', 'dust', 'flower-scented', 'breeze', 'darkened', 'chilly', 'good-by', 'chillier', 'feeding', 'raffish', 'cowbirds', 'bobbed', 'gobbled', 'cardinal', 'radiant', 'feathered', 'vestments', 'solitary', 'mate', 'guarding', 'nest', 'sly', 'advantage', 'nests', 'sentinels', 'abandoning', 'prepare', 'guest', 'baffled', 'helplessness', 'unscrupulous', 'dump', \"people's\", 'curtains', \"child's\", 'hopping', 'rabbits', 'airy', 'Goose', 'Mobile', 'row', 'hangers', 'neatly', \"Greg's\", 'faintly', 'fragrant', 'lavender', 'buried', 'panicky', 'Many', 'phone', 'Junction', 'phoned', 'sooner', 'character', 'napping', 'surrounded', 'multitude', 'tension', 'Methuselah', 'maternal', 'comforting', 'magic', 'Subdued', 'merriest', 'airport', 'bet', 'fixing', 'pause', 'hummed', 'voiceless', 'Puzzled', 'flowered', 'wallpaper', 'forthright', 'silences', 'moth', 'seekingly', 'realize', 'hesitated', 'hunting', 'Christmastime', 'Shocked', 'speechless', 'elastic', 'cord', 'uncoiling', 'snake', 'bogey', 'thickened', 'fetching', 'tightened', 'to-and-fro', 'abrupt', \"hall's\", 'purple-black', \"cowbirds'\", 'Cowbird', 'trudged', 'teddy', 'package', 'delivered', \"aunt's\", \"uncle's\", 'Unlike', 'traveling', 'shortest', 'stays', 'buy', 'Unimpressed', 'plopped', 'sand', 'Quint', 'disbelieving', \"they'd\", 'Esperanza', 'jammed', 'tourists', 'beach', 'show-offy', 'lifeguards', 'swirling', \"Quint's\", 'pronounced', 'sherbet-colored', 'cottages', 'mint', 'curve', 'deserted', 'Eats', 'jiggling', 'rocks', 'jaggedly', \"water's\", 'V-shaped', 'inlet', 'lumpy', 'trailing', 'seaweed', 'whiskers', 'dragon', 'Swiss', 'belt', 'blades', 'corkscrew', 'perfect', 'Canute', 'controlling', 'waves', 'knight', 'Round', 'Table', 'Sir', 'Quintus', 'Brave', 'slaying', 'banshees', 'vampires', 'witches', 'warty', 'astronaut', 'chosen', 'intrepid', 'persecuted', 'Fearless', 'fearless', 'scary', 'Tomorrow', 'Dad', 'intended', 'piece', 'nightmare', 'Stop', 'thump', 'signals', 'radar', 'Son', 'pig', 'cords', 'Fortman', 'limping', 'Big', 'dumb', 'nut', 'polio', 'bedside', 'spilled', 'probly', 'Victoria', 'lick', 'Fatso', 'Stuck-up', 'Mister', 'loud', 'bedtime', 'Gord', 'Strength', 'zip', 'unlaced', 'metal', 'wadded', 'sweat', 'stripped', 'trunks', 'Goolick', 'goooolick', 'creaked', 'gull', 'Aw', 'dignified', 'ocean', 'bored', 'hole', 'shoulder', 'choppy', 'wedged', 'scared', 'crawled', 'Watch', 'shot', 'yelled', 'peppermints', 'bathing', 'straps', 'shouders', 'duck', 'snapped', \"Isn't\", 'sore', 'boil', 'Ever', \"squatter's\", 'rights', 'Kansas-Nebraska', 'Bill', 'Britches', 'Mark', 'Gordon', 'Peters', 'Fifth', 'Latin', 'kinds', 'aleck', 'cough', 'ripping', 'unconsciously', 'imitating', \"Victoria's\", 'holier-than-thou', 'horrified', 'momentum', 'mama', 'wop', 'tail', 'wops', 'unimpressed', 'obliged', 'jeans', 'Dingy-looking', 'barber', 'pole', 'spouted', \"cane's\", 'handy', \"Someone's\", 'zoooop', 'snag', 'crook', 'waiter', 'bowl', 'soup', 'fly', 'bannnnnng', 'stooooomp', 'shaken', 'licking', 'stubby', 'plume', 'Part', 'collie', 'wire-haired', 'terrier', 'glared', 'mackerel', 'unique', 'DiMaggio', 'tranquilizers', 'braver', 'lately', 'Last', 'jag', 'yodeling', 'gotta', 'Squint', 'mornings', 'thereafter', 'Same', 'blister', 'Sabella', 'emerald', 'necklace', 'King', 'undying', 'picks', 'nuts', 'Naturally', 'curly', 'runs', 'Personally', 'prefer', 'Continent', 'Which', 'continent', 'Name', 'pugh', 'beaches', 'scraped', 'mold', 'Pugh', 'Camels', 'Tripoli', 'harelips', 'Near', 'Galway', 'tinkers', 'caravans', 'fought', 'gypsies', 'Jerez', 'Really', 'smothered', 'yawn', 'Artfully', 'occasion', 'Cross', 'Korean', 'War', 'spit', 'personally', 'IQ', '141', 'currently', 'Mushr', 'Ozon', 'encyclopedia', 'schnooks', 'skipped', 'tonsil', 'tonight', 'Chinaman', 'Tooth-hurty', 'Encouraged', 'giggles', 'imitated', 'described', 'decorated', 'pineapple', 'cherries', 'snuck', 'gumming', 'stumpy', 'panting', 'thirst', 'lagoon', 'staggering', 'Say', 'comic', 'admiringly', 'Either', 'Better', 'cod', 'salmon', 'sharks', 'bones', 'shrimp', 'swam', 'backward', 'encylopedia', 'string', 'Boy', 'Willie', 'Mays', 'outfield', 'je', 'ne', 'quok', 'daydreamed', 'splashed', 'buckets', 'beseech', 'thee', 'sprayed', 'raisin', 'plastic', 'bib', \"Daddy's\", 'Francisco', \"he'll\", \"one-o'clock\", 'Fifteen', 'Yeah', 'keen', 'Children', \"we'll\", 'organized', 'nap', 'noticing', 'rope', 'sheets', 'Kool-Aid', 'lung', 'caused', 'gagging', 'Sweating', 'unbearable', 'drowning', 'Bobbie', 'smashed', 'Jaguar', 'Linda', 'birthday', 'thoroughly', \"afternoon's\", 'Oakmont', 'miswritten', 'chapter', 'community', 'heartless', 'prematurely', 'John', 'Cooper', \"Hadn't\", \"Wasn't\", 'attractive', 'forty-seven', 'twenty-five', 'earlier', \"John's\", 'Edythe', 'appalling', 'deserve', 'adult', 'realistic', 'rebound', 'ruined', 'Mousie', 'Chandler', 'Poor', 'reproach', 'rarely', '1936', 'odds', 'prettiest', 'brightest', 'Allegheny', 'Mountains', 'surely', 'handsomer', 'brighter', 'Pittsburgh', 'seasons', 'Golf', 'goggle-eyed', 'admiration', 'debs', 'claimed', 'Dartmouth', 'skiing', 'crinkles', 'John-and-Linda', 'entity', 'Longue', 'Vue', 'Conneaut', \"lovers'\", 'spats', 'heal', 'Dillinger', 'First', \"Cooper's\", \"Linda's\", 'engagement', 'events', 'aggressive', 'steel', 'jolt', 'Cleveland', 'bride', 'wishful', 'thinkers', 'specifically', 'absolutely', 'someplace', 'Baltimore', \"Horne's\", 'underestimate', 'shallow', 'frivolous', 'scatterbrained', 'magnificent', 'giggled', 'ceremony', 'bridesmaids', 'choking', 'myth', 'example', 'skirts', 'correct', 'pool', 'suits', 'drifted', 'Others', 'command', 'less-dramatic', 'Sewickley', 'Fox', 'reduced', 'method', 'grindstone', 'Ben', '1938', 'cutest', 'blessing', 'fontanel', 'nary', 'trace', 'continuing', 'Sally', '1940', 'Jack', '1944', \"Edythe's\", 'dizziness', 'uselessness', 'glaring', 'shuffled', 'graham', 'crackers', 'managed', 'missionary', 'Webber', 'eldest', 'elder', \"who'd\", 'donated', 'avoid', 'bosoms', 'afterward', 'oversubscribed', 'missionaries', 'brave', 'keeps', 'bargain', 'whimpering', 'bends', 'generous', 'overgenerous', 'problem', 'Washington', 'assignment', 'heir', 'apparency', 'Coopers', 'socially', 'successful', 'match', 'hairpin', 'mourning', 'bites', 'luncheon', 'Le', 'Mont', \"could've\", \"Bobbie's\", 'bone-deep', 'sorrow', 'ambitious', 'save', 'undo', 'trembled', 'brink', 'stream', 'settlement', 'soothe', 'capable', 'capturing', 'anxious', 'decent', 'Years', 'struggled', 'wonders', 'Alloy', 'steels', 'departments', 'Smith', '&', 'MacIsaacs', 'alloy', 'division', 'salesman', 'branch', 'Lovejoy', 'president', 'manager', 'Carnegie-Illinois', 'Stuart-family', 'contacts', 'Reuben', 'Pittsburghers', 'sticking', 'dragooned', 'Murkland', 'director', 'S.', 'M.', 'jolly', 'factors', 'insiders', 'weighed', 'terms', 'incentive', \"John'll\", 'harder', 'feels', 'opportunities', 'independent', 'directors', 'agreement', 'surprise', 'Funk', 'Furnaces', 'subordinate', 'advancement', 'degree', 'meteoric', 'vice', 'biography', 'baby-sitter', 'Shirley', 'sweetly', 'worth', 'obligated', 'Nadine', 'shakily', 'Janice', 'answers', 'frantic', 'Francie', 'Ken', \"Thom's\", 'falls', 'Thom', 'Wally', 'possibly', \"everything's\", 'Wondering', \"Nadine's\", 'seconds', 'flushed', 'Roberts', 'faltered', 'thirteen', 'sitters', 'reliable', 'beautifully', 'staying', 'ragged', \"Wally's\", 'spreads', 'refuse', 'law', 'scooted', 'dozed', 'strike', 'Pack', 'hissed', 'thickly', 'lurched', 'davenport', 'instantly', 'strode', 'nails', 'raked', 'grabbed', 'insulted', 'takes', 'throw', 'simmer', 'state', 'Tea', 'forgive', 'dime', \"Francie's\", 'televison-record', 'owe', 'grubby', 'filth', 'traipsing', 'curtly', 'collapsed', 'figured', 'bubble', 'snoring', 'Whether', 'thankful', 'Thankful', 'fired', 'attending', 'grease', 'confessed', 'cars', 'pits', 'repaired', 'Seems', 'hired', 'repair', 'gotten', 'miserably', 'coy', 'promises', 'blew', 'stack', 'Things', 'honest', 'deserved', 'tough', 'breaks', 'unbelievable', 'cent', 'necks', 'owing', 'received', 'evicted', 'Worst', 'stranded', 'fretted', 'position', 'tide', 'brightened', 'candle', 'incredible', 'embarrassed', 'pleading', \"we'd\", 'Straightened', \"They'd\", 'flatly', 'uncomfortable', 'darn', 'spoiled', 'snobs', 'finance', 'crawl', 'dishes', 'groceries', 'Virus', 'infection', 'lazy', 'no-good', 'bum', 'practically', 'alibis', 'excuses', 'Wendell', 'black-balled', 'application', 'grocery', 'sewed', 'punks', 'fall', \"they'll\", 'encouraging', 'July', 'stifling', 'fresh', 'intuition', 'based', 'logic', 'thousandth', 'nine-to-five', 'five-days-a-week', 'medicine', 'complain', 'shaving', 'sneezed', 'Gladdy', 'Alice', 'orphanage', 'boarding-home', 'Hodges', 'fonder', 'lots', 'Especially', 'Growing', \"mustn't\", 'bureau', 'story', 'anyhow', \"Gladdy's\", 'credit', 'Pete', 'Michelson', 'promising', 'intern', 'Fairview', 'chatter', 'lightened', 'heaviness', 'Should', 'secret', 'interns', 'Dick', 'Ishii', 'resident', 'Chief', 'Medicine', 'rounds', 'Seven', 'sicker', 'elevator', 'post-operative', 'shock', 'Got', 'lulu', 'alcoholics', 'sights', 'segregated', 'charity', 'focus', 'forming', \"woman's\", 'Bancroft', 'chart', 'diagnosis', 'alcoholism', 'scar', 'familiar', 'puffy', 'marred', 'tell-tale', 'network', 'veins', 'drinkers', 'two-colored', 'bleached', 'unfortunate', 'resemblance', 'forcing', 'disquiet', 'violent', 'knocked', \"We'd\", 'AA', 'patient', 'describe', 'ounce', 'control', 'examination', 'relaxes', 'chat', 'gladly', 'dull', 'penetrating', 'drawn-back', 'bloodspots', 'spotting', 'emotion', 'negative', 'Groggins', 'Papanicolaou', 'vaginal', 'gross', 'slide', 'smear', 'lab', 'Late', 'private', 'results', 'Doctor', 'D.', 'C.', 'permission', 'hysterectomy', 'intraepithelial', 'situ', 'wryly', 'tells', 'badgering', 'Wants', 'booze', 'grimaced', \"Bancroft's\", 'knob', 'dozing', 'shiver', 'guys', 'disregarded', 'dilatation', 'curettage', 'proves', 'definite', 'Suppose', 'difficulty', 'liquor', 'amazement', 'refused', 'surgery', 'Mostly', 'tremble', 'coverlet', 'secrets', \"patient's\", 'cancer', 'disregarding', 'protests', 'guinea', 'pigs', 'learn', 'cultivated', 'strongly', 'assure', 'Joe', 'gaped', 'echo', 'intently', 'half-smile', 'Surprised', 'Guess', 'heart-stopping', 'stammered', 'goodness', 'echoed', 'mockingly', 'Think', 'introduce', 'outta', 'acceptance', 'alcoholic', 'blackout', 'favors', 'alike', 'cut', \"what's\", 'pathetic', 'solution', 'disappear', 'caresses', 'tricks', 'ultimate', 'pressures', 'deeper', 'squeezed', 'breathed', 'nitrogen', 'anesthetic', 'yielding-Mediterranian-woman-', 'soothed', '230', 'drunker', 'contented', 'metal-tasting', 'mouthpiece', 'suck', 'aqua-lung', 'swim', 'chuckled', 'aloud', 'hazy', 'concentrated', 'sorted', 'recent', 'duds', 'vacation', 'bellyfull', 'Wild', 'kicks', 'dig', 'Valery', 'twenty-one', 'army', 'Orly', 'Rhine-Main', 'April', 'mist-like', 'pocketful', 'grounded', 'Champs', 'Elysees', 'Hun', 'dazzled', 'machines', 'Bugatti', 'Farina', 'coachwork', 'chassis', 'Swallow', 'A40-AjK', 'Mercedes', 'Arc', 'de', 'Triomphe', 'Tour', \"d'Eiffel\", 'yokel', \"Maxim's\", 'Jour', 'et', 'Nuit', 'Montmartre', 'Claire', 'cheese', 'feed', 'drained', 'Handsome', 'soldier', 'assuaged', 'urgency', 'Madame', 'noblesse', 'oblige', 'yeah', 'nymphomaniac', 'Toward', 'waxed', 'philosophical', 'analogies', 'mistake', 'sweep', 'Panther', 'Pils', 'switched', 'Tuborg', 'crocked', 'cognac', 'orbit', 'Tropic', 'Capricorn', 'Cancer', 'Elemental', 'sex', 'debauchery', 'sober', 'reconciled', 'flop', 'binge', 'therapeutic', 'Sometime', 'snowing', 'breathing', 'snowy', 'dim', 'beauty', 'flakes', 'topcoat', 'Pretty', 'umbrella', 'poise', 'posture', 'drab', 'propriety', 'hustler', 'unuttered', 'snow', 'Hardly', 'bleak', 'lied', 'unhappiness', 'profoundly', 'wager', 'derriere', 'Monsieur', 'crumble', 'snorted', 'chuckle', 'sadly', 'tiredness', 'infinite', 'wisdom', 'cynicism', 'reinforce', 'gambit', 'Remy', 'Martin', 'cork', 'Non', 'non', 'rotten', 'lug', 'tart', 'thirty-five', 'forty', 'wise', 'drowsing', 'Allons', 'sensed', 'rested', 'rime', 'melted', 'absolute', \"night's\", 'melancholy', 'vital', 'Bon', 'jour', 'brightly', 'hips', 'tousled', 'make-up', \"J'ai\", 'faim', 'toothbrush', 'bath', 'brushed', 'wheeled', 'presenting', 'innocently', 'brush', 'dangerously', 'scald', 'filter', 'tremendous', 'amount', 'hard-boiled', 'garlic', 'Suzanne', 'Stephen', 'comfortably', 'cups', 'remarked', 'Um', 'grunted', 'sipping', 'les', 'putains', 'immense', 'subject', 'sentence', 'Shall', 'Louvre', 'enthusiasm', 'immediately', 'bullet', 'Metro', 'cabaret', 'steamed', 'mussels', 'sommelier', 'magnum', 'steely', 'Jeroboam', 'humorous', 'Theresa', 'Stubblefield', 'Express', 'leaning', 'arched', \"mind's\", 'responding', 'exhaustingly', \"shores'\", 'powers', 'telescoped', 'plains', 'aqueducts', 'tombs', 'cypress', 'Appian', 'Way', 'Today', 'Colosseum', 'Arch', 'Constantine', 'Moreover', 'nursing', 'Stubblefields', 'aunt', 'lengthy', 'illnesses', 'England', 'France', 'Germany', 'Switzerland', 'rendered', 'prescribed', 'pills', 'tonics', 'conceived', 'lamplight', 'noisy', 'frightening', 'Cars', 'taxis', 'buses', 'motorscooters', 'swerving', 'perilously', 'Shoals', 'groups', 'German', 'cameras', 'attached', 'smartly', 'Glad', 'splendid', 'outdoor', 'staircase', 'display', 'azalea', 'plants', 'workmen', 'unloading', 'potted', 'placing', 'banked', 'rows', 'azaleas', 'shrubs', 'myriad', 'blooms', 'bud', 'ranged', 'purple', 'fuchsia', 'palest', 'Marvelous', 'portly', 'well-bred', 'learned', 'Halfway', 'Other', 'banisters', 'parapets', 'Mediterranean', 'warming', 'underside', 'insides', 'churches', 'cigarette', 'Content', 'excited', 'contracted', 'dismay', 'Cousin', 'Elec', 'Emma', 'Carraway', 'script', \"t's\", 'carefully', \"l's\", 'inclined', 'wobble', 'slope', 'post', 'Tuxapoka', 'Alabama', 'mailed', 'confidence', 'next-door', 'neighbor', 'Somebody', 'scrawled', 'Piazza', 'di', 'Spagna', 'President', 'Republic', 'Inside', 'concerning', 'illness', 'devoted', 'aging', 'immemorial', 'Montgomery', 'sweetpeas', 'drawer', 'mother-of-pearl', 'coveted', 'sigh', 'refolded', 'replaced', 'alas', \"Elec's\", 'reminiscence', 'weakening', 'values', 'grandchildren', 'diapers', 'gentility', 'principle', 'tense', 'lest', 'fraternity', 'pursued', 'mammas', 'aroused', \"Emma's\", 'uttermost', 'cramp', 'hobbled', 'agony', 'bathrobe', 'footstool', 'clenched', 'contorted', 'heroically', 'monkey', 'solemn', 'cat', 'kittens', 'kettle', 'steaming', 'enamelled', 'pan', 'Can', 'treat', 'hiccups', 'Drop', 'unamused', 'round-eyed', 'woe', \"George's\", 'parting', 'Robbie', 'Beryl', 'persuade', 'imposition', 'Rosie', 'possibility', 'arrangements', 'ladies', 'populated', 'Edna', 'Whittaker', 'meets', 'crumbling', 'makeshift', 'sneezing', 'uncertainly', 'unnaturally', 'tray', 'cameos', 'pens', 'papal', 'portraits', 'spread', 'borders', 'separate', 'Carrozza', 'rides', 'specialized', 'escape', 'landing', 'vacant', 'banister', 'vendor', 'well-dressed', 'alligator', 'ascending', 'cast', 'policeman', 'Finally', 'scurried', 'viewed', 'interlude', 'hinting', 'teachers', 'September', 'crisis', 'supremely', 'exist', 'Balzac', 'Dickens', 'Stendhal', \"Mother's\", 'operation', 'twenty-six', 'volumes', 'Elsie', 'Dinsmore', 'motion', 'arranging', 'Mi', 'diapiace', 'ma', 'insomma', 'indicated', 'Westfield', 'Lucille', 'stealer', '4000-plus', 'Warren', 'Dolan', \"nobody'd\", 'bothered', 'Young', \"Christians'\", 'League', 'good-living', 'truthfully', 'faith', 'Johnnie', 'Sue', 'Much', \"guy's\", \"Lucille's\", 'willing', 'Honest', 'kitten', 'compete', 'trucker', 'carpentry', 'February', 'batting', 'delivery', 'masculine', 'affairs', 'providing', 'Neither', 'submit', 'honorable', 'penniless', 'helpless', 'Against', \"folks'\", 'crackling', 'hopelessly', 'vices', 'jockey', 'drinks', 'smokes', 'ticking', 'items', 'swears', 'whoever', 'examined', 'noncommittally', 'driven', 'scheming', 'Devil', 'surrendered', 'motel', 'Route', '10', 'clutches', 'blushed', 'desire', 'sexual', 'awareness', 'triggered', 'fierceness', 'Astonishingly', 'summertime', 'fields', 'crickets', 'serenaded', 'huh', 'Always', 'Mmm', 'blissful', 'fulfilling', 'witnesses', 'certificate', 'elbow', 'Infinite', 'contentment', \"Idiot's\", 'upbringing', 'resisted', 'passes', 'maturity', \"Wouldn't\", 'insure', \"Johnnie's\", 'denied', 'contribute', 'stake', 'doubts', 'petted', 'touched', 'longest', 'behaved', 'emotionally', 'mere', 'rescued', 'husband-stealer', 'wondrous', 'fitting', 'union', 'Uh-huh', 'Convention', 'Boston', 'eastern', 'represent', 'mixed', 'emotions', 'Faneuil', 'cousin', 'Alma', 'convention', 'introduced', 'Rhode', 'Ronald', 'blond', \"someone's\", 'separated', 'anxiously', 'twin', 'Need', 'pumpkin', 'Schmalma', 'shrilly', 'alcohol', 'burning', 'disguised', 'ginger', 'ale', \"'most\", 'snugly', 'invisible', \"C'mon\", 'lubricated', 'all-American-boy', 'appeal', 'Astronaut', 'vitamin', 'Breakfast', 'Eden', 'two-burner', 'refrigerator', 'Kirby', 'pelting', 'reasonable', 'lunatic', 'arrangement', 'Share', 'units', 'bachelor-type', 'eatables', 'curving', 'veranda', 'Unit', 'Number', \"Kirby's\", 'bloomed', 'haze', 'names', 'magenta', 'Charlie', 'downed', 'Lots', 'vitamin-and-iron', 'compound', 'capsule', 'flu', 'lightly', 'comment', 'beriberi', 'pill', 'cure', 'Vivian', 'Wayne', 'kissing', 'piling', 'ailment', 'confirmed', 'distrust', 'scalded', 'encouragement', 'shy', 'Woods', 'blinds', 'dawning', 'poker', 'secretaries', 'Meanwhile', 'sandy', 'puddles', 'prescription', 'mockery', 'odds-on', 'develop', 'awesome', 'black-and-yellow', 'polka-dotted', 'slicker', 'Three-day', 'natives', 'filthy', 'Pyhrric', 'victory', 'Fine', 'Thought', 'bake', 'briefly', 'peaked', 'forbore', 'universal', 'Peony', 'weatherproof', 'conviction', 'honeymooning', 'Nassau', \"what's-his-name\", 'lounging', 'sands', 'unalloyed', 'bliss', 'salami', 'leafed', 'adventures', 'Bobbsey', 'Twins', 'Seashore', 'Farm', 'Danger', 'several', 'agricultural', 'treatment', 'hoof-and-mouth', 'disease', 'cattle', 'hideously', 'illustrated', 'bruising', 'shin', 'choke', 'fuzzy', 'mania', 'dyed', 'climb', 'sweater', 'long-hair', 'variety', 'according', 'label', 'explanation', 'presence', 'Bermuda', 'onion', 'wrapping', 'Said', 'permeates', 'squirt', \"Kissin'\", 'Kare', 'lotion', 'handwriting', 'dainty', 'feminine', 'evidence', 'Sorry', 'judgment', 'swiping', 'onions', 'following', 'Ugh', 'Must', 'idly', 'fast-frozen', 'guided', 'obscure', 'horse-blanket', 'plaid', 'chic', 'splashy', 'Pink', 'grown-up', 'subconsciously', 'clinging', 'infancy', 'toilsome', 'laden', 'clattery', 'collection', 'mops', 'brushes', 'pails', \"rain's\", 'Be', 'scorcher', 'scrutinized', 'warn', 'Larkspur', \"kind's\", 'worst', 'inviting', 'description', 'Run-down', 'iron-poor', 'closely', 'Frail', 'feeble', 'Clearly', 'blazing', 'varicolored', 'properties', \"four-o'clock\", 'gaudy', 'mist', 'floodlit', 'punctuated', 'refrigerators', 'retreat', 'Cape', \"flower's\", 'transferred', 'M-m-m', 'propped', 'postscript', 'wrote', 'ninety-six', 'scrap', 'Gee', 'redheads', 'rental', 'browny', 'browny-haired', 'blondes', 'sprinkling', 'bikinis', 'preponderance', 'tank', 'Up', 'dune', 'stool', 'absorbed', 'bulky', 'turtle-neck', 'sweaters', 'not-so-pale', 'moonlit', 'filched', 'Use', \"goodness'\", 'sympathetic', 'Sympathy', \"Vivian's\", 'slopping', 'offering', 'peel', 'pajama', 'subside', 'quantities', 'Correspondence', 'glycerin', 'whitens', 'tan', 'puny', 'Broiled', 'Puny', 'Surviving', 'Wilderness', 'Tom', 'Speedy', 'Canoe', 'Also', 'canoe', 'pitcher', 'overhand', 'innings', 'Anniston', 'team', 'fifth', \"Anniston's\", 'catcher', 'smacked', 'Eddie', 'Lee', \"Riverside's\", 'redheaded', 'Phil', 'Rossoff', 'relay', 'Third', 'base', 'Mike', \"Deegan's\", 'Deegan', 'bastard', 'punches', 'tossed', 'spectators', 'uproar', 'fighters', 'resumed', 'inning', 'cursed', 'dugout', 'eyeing', 'sonny', 'infuriated', 'Mind', 'goddamn', 'sixth', 'bat', \"fielder's\", 'fielder', 'rounding', 'heading', 'tagged', 'straddling', 'plate', 'rammed', 'players', \"catcher's\", 'physician', 'injured', 'ballplayer', 'ballplayers', 'dressing', 'seated', 'nearer', 'quivering', 'ram', 'calculated', 'pitching', 'powerfully', 'built', 'hander', 'mound', 'eighth', 'hefty', \"Mike's\", 'dirt', 'arose', \"batter's\", 'Hit', 'Frankie', 'Ricco', 'shortstop', \"Phil's\", 'gonna', 'bastards', 'Haydon', 'pounded', 'rubber', 'flat-footed', 'towards', 'unhurried', 'infield', 'Fights', 'squelched', 'sweatshirt', 'helluva', 'team-mate', 'undressing', 'jaw', 'club', 'inches', 'locker', 'banged', \"Eddie's\", 'unconditional', 'belong', 'professional', 'baseball', 'confirm', 'Sit', 'steering', 'leagues', 'pro-ball', 'Dazed', 'abruptly', 'fielding', 'bases', \"Baseball's\", 'cinch', 'ramming', 'puts', 'sport', 'goddamit', 'ribbons', 'league', 'shaky', 'Someday', \"Springfield's\", 'Talk', 'Ask', 'Springfield', 'Atta', 'outfielders', \"Richard's\", 'product', 'insularity', 'by-ways', 'fascinate', 'Augustine', 'Aquinas', 'Lao-tse', 'Confucius', 'Mencius', 'Suzuki', 'Hindu', 'tomes', 'Krishnaists', 'numerous', 'socio-archaeological', 'papers', 'Richard', 'Zend-Avesta', 'Indian', 'god', 'Acala', 'entitled', 'Book', 'Dead', 'Grinned', 'gloomily', 'Through', 'laughter', 'seldom', 'formal', 'sixteen', 'substituted', 'Asian', 'fond', 'graduated', 'foundation', 'studies', 'student', 'acquired', 'remoteness', 'thorough', 'bookish', 'lore', 'literature', 'politics', 'awarded', 'Tokyo', 'biwa', 'practicing', 'sailing', 'distrusted', 'buying', 'shorten', 'relax', 'incarcerated', 'basement', 'dusted', 'flames', 'sped', 'freighter', 'plucked', 'wrought', 'resemble', 'instrument', 'stole', 'gusty', 'rush', 'eaten', 'similar', 'Charlotte', 'Adams', 'succeeded', 'unusually', 'searching', 'frankness', 'zest', 'envied', 'occasional', 'participate', 'tea-drinking', 'complied', 'random', 'Ryusenji', 'Fudomae', \"Charlotte's\", 'gatherings', 'flippant', 'superficial', 'pointless', 'persons', 'students', 'judging', 'popular', 'foods', 'equation', 'Zen', 'philosophy', 'modifier', 'Soba', 'udon', 'noisily', 'Sushi', 'pretentious', 'Sashimi', 'Samuel', 'throughout', 'Asked', 'Ceecee', 'Witter', 'irritation', 'Lovers', 'Mound', 'Gompachi', 'Komurasaki', 'parkish', 'concluded', 'Anyhow', 'potatoes', 'Kanto', 'statue', 'Fudo', 'bothersome', 'pull', 'Twenty-two', 'twenty-three', 'colder', 'tiniest', 'reflect', 'version', 'recall', 'ascetic', 'returning', 'paced', 'tale', 'waters', 'sensation', 'gate', 'spigots', 'hillside', 'caged', 'incarnation', 'demon', 'creature', 'overwhelmingly', 'likened', 'limpid', 'fountain-falls', 'temple', 'familiarity', 'Into', 'hundred-yen', 'urge', 'bronze', 'priest', 'Instead', 'stare', 'rigidly', \"Fudo's\", 'fascination', 'metallic', 'scraping', 'stillness', 'severe', 'emptied', 'pockets', 'coins', 'hurried', 'stairways', 'virus', 'refusing', 'process', 'reminder', 'consciousness', 'lingered', 'inexplicable', 'elements', 'reality', 'resolved', 'plowing', 'stubble', 'farm', \"brother's\", 'area', 'plowed', 'jar', 'snow-fence', 'lath', 'tractor', 'plow', 'furrow', 'wheels', 'loaded', 'snakes', 'panic', 'multi-colored', 'graceful', 'tapered', 'throttle', 'frighten', 'fright', 'idle', 'movement', 'trailed', 'delicately', 'tubular', 'diamonds', 'interlaced', 'jet-black', 'astonishing', 'gracefully', 'killed', 'unthinkable', 'fire-colored', 'recently', 'solid', 'lumps', 'forepart', 'fieldmice', 'satin', 'newly-plowed', 'clods', 'soil', 'target', 'shone', 'sun-burned', 'crumbled', 'paleness', 'dusty', 'uncolored', 'triangular', 'plowshares', 'scouring', 'stamping', 'ferocity', 'frenzied', 'impatience', 'fierce', 'brutality', 'hunched-up', 'determination', 'pirouette', 'whipped', 'lumbering', 'brutal', 'halt', 'frenetic', 'savagery', 'glimmer', 'remnant', 'ache', 'fumes', 'crushed', 'vanish', 'mount', 'bubbly', 'finely-spun', 'effeminate', 'eyelashes', 'brushlike', 'newly-scrubbed', 'resembled', 'eagerly', 'splintered', 'Snakes', 'bitten', 'poisonous', 'foolishly', 'likes', 'gray-looking', 'beautifully-tapered', 'flattened', 'vise', 'splayed', 'wrenched', 'thickest', 'colored', 'crystals', 'ice-feeling', 'spasm', 'muscles', 'wrenches', 'tool-kit', 'push', 'gleeful', 'puzzled', 'brute', 'nasty', 'beast', 'slap', 'wipe', 'insolence', 'glee', 'Cady', 'unglued', 'tidings', 'Tax', 'production', 'Hanford', 'College', 'alma', 'mater', 'snapper', 'enrolled', 'credentials', 'scholastic', 'transcript', 'references', 'record', 'boards', 'applicants', 'co-operate', \"son's\", 'motivation', 'interests', 'qualifications', 'leadership', 'Partlow', 'enroll', 'David', 'organization', 'merchant', 'Gone', 'reunions', '1935', 'old-grad-type', 'Alcorn', \"Pete's\", 'rejected', 'Ivy', 'football', 'grades', 'Good', 'B', \"A's\", 'math', 'science', 'temples', 'chemistry', 'Getting', 'elected', 'politicking', 'conscience', 'recommend', 'candidate', 'rugged', 'Height', \"6'\", 'Weight', '160', 'Health', 'excellent', 'astronomy', 'geology', 'electronics', 'enrolling', 'keyboard', 'ruining', 'engineer', 'Venetian', 'slammed', 'bestowed', 'bucket', 'commending', 'eyebrow', 'amusement', 'soul-searching', 'participated', 'high-school', 'activities', 'civic', 'forum', 'treasurer', 'flurry', \"David's\", 'shoved', 'unsealed', 'omitted', 'Products', 'Half', 'whistled', 'locked', 'gasser', 'rounded', 'firm', 'pre-packed', 'colleges', 'State', 'rocket', 'messing', 'Real', 'Yale', 'thinning', 'unease', 'Weakness', 'Limited', 'darned', 'Martini', 'tasted', 'meal', 'salad', 'surcease', 'ease', 'sprinkle', 'navy-blue', 'shag', 'woolly', 'Board', 'Work', 'midweek', 'eight', 'commencement', 'Carefully', 'loudly', 'Chairman', \"Partlow's\", 'proverbial', 'Dave', 'pie', 'methodically', 'Hear', 'Burke', 'straight-A', 'surprising', 'antisocial', 'lone', 'completely', 'one-sided', 'Girls', 'parent', 'frayed', 'coffeepot', 'tattered', 'book-lined', 'dilapidated', 'Wrong', \"hasn't\", \"Dave's\", 'motives', \"Here's\", 'belligerence', 'Already', \"Anne's\", 'acting', 'Daley', 'basketball', 'play-off', 'remains', 'Astronomy', 'stars', 'Geology', 'fishpond', 'suggest', 'chess', 'Music', 'season', 'bass', 'Crazy', 'Horse', 'Colts', 'rock-and-roll', 'combo', 'solos', 'guitar', 'Rich', 'sax', 'solo', 'shine', 'Beethoven', 'mollified', 'brutally', 'loosen', 'padding', 'document', 'ham-radio', 'equipment', 'sale', 'curb', 'applying', 'towel', 'hemming', 'guild', 'banker', 'conform', 'leader', 'well-worn', 'chip', 'qualities', 'Give', 'Army', 'ninety-nine', 'generals', 'mailbox', 'arguing', 'situation', 'monstrous', 'proportions', 'cotton', 'shorts', 'ruled', 'Lying', 'messy', 'negligent', 'strewn', 'generally', 'Dolores', 'fun', 'kidding', 'trail', 'garments', 'littered', 'rug', 'assertive', 'grinning', 'refusal', 'stoop', 'petals', 'seed', 'catalogues', 'referred', 'flower', 'contain', 'patina', 'veining', 'reveal', 'column', 'vertebrae', 'magnificently', 'unyielding', 'segments', 'bone', 'cracking', 'noises', 'stem', 'tulip', 'bluntly', 'seriously', 'leisure', 'beforehand', 'resistance', 'delights', 'emotional', 'clash', 'invigorating', 'tenth', 'teasing', 'pat', 'superhuman', 'neatness', 'incongruity', 'mole', 'Quietly', 'foil', 'stubborn', 'doorbell', 'Ten', 'cross', 'bend', \"Bill's\", 'deposited', 'Anthea', 'strained', 'glissade', 'instructed', 'ellipsis', 'topic', 'Brainards', 'aback', 'contrary', 'weaken', 'fumed', 'adamant', 'raving', 'titters', 'whisperings', 'scabrous', 'unclean', 'gossiping', 'lowering', 'hoarseness', 'crouched', 'Afterwards', 'apologized', 'annoyed', 'pallid', 'resolution', 'About', 'newly', 'Angrily', 'delayed', 'preferably', 'lasted', 'deciding', 'postpone', 'mercy', 'These', 'stray', 'inspection', 'ever-present', 'visitors', 'blot', \"bedroom's\", 'countenance', 'Quite', 'lighthearted', 'witty', 'contest', 'gaily', 'anecdote', 'frothy', 'deceptive', 'merriment', 'snort', 'mock', 'ritual', 'relations', 'fatal', 'scattering', 'possessions', 'drawers', 'impinge', 'Bizarre', 'bizarre', 'Six', 'Pursuing', 'trapped', 'Day', 'dilemma', 'frantically', 'seeking', 'exit', 'Alternately', 'periods', 'hostile', 'defeatism', 'sullenly', 'morosely', 'simplicity', 'occurred', 'frenzy', 'Beside', 'Instantaneously', 'immeasurable', 'panties', 'alongside', 'expenditure', 'particular', 'humiliation', 'Furthermore', 'maneuver', 'endlessly', 'slip', 'brassiere', 'girdle', 'traversed', 'installment', 'rumpled', 'childishness', 'looseness', 'untouched', 'disciplined', 'unruly', 'underclothes', 'linked', 'visibly', 'magnificence', 'virility', 'analyzing', 'scheme', 'exalted', 'fanaticism', 'nylon', 'lace', 'tenderly', 'focused', 'Slowly', 'chain', 'reasoning', 'grasped', 'implications', 'occurring', 'Extending', 'inch', 'swiftly', 'unsteady', 'breakfasted', 'refer', \"That'll\", 'resurgence', 'A-Z', 'Cap', 'industrialist', \"nibs'\", 'racket', 'William', 'forgot', 'glory', 'inadvertent', 'agency', 'brother-in-law', 'General', \"Hershey's\", 'draft', 'Eddyman', 'responsible', 'eminence', 'Freddy', 'Bryan', 'detached', 'estate', 'skyscraper', 'financing', 'Gerry', 'Arthur', 'Willis', 'provide', 'Zenith', 'Plastic', 'skeleton', 'corporation', 'sorts', 'undergone', 'vicissitudes', 'engaged', 'contracts', 'Shortly', 'proliferation', 'bold', 'exposed', \"Freddy's\", 'suggestions', 'prospering', 'influenced', 'involvement', 'familial', 'loyalty', 'aid', 'prodded', \"Joan's\", \"William's\", 'competency', 'factor', 'eventual', 'disposal', \"Willis'\", 'unquestionably', 'entwined', 'likely', 'richly', 'Whatever', 'factory', 'ceramics', 'experimentally', 'high-speed', 'calculators', 'Adam', 'Herberet', 'partner', 'political', 'power', 'additional', 'worlds', 'conquer', 'Heavy', 'industry', 'slanted', 'inexhaustible', 'coffers', 'attracted', 'Allstates', 'Auto', 'Company', 'medium-sized', 'manufactured', 'four-wheel-drive', 'vehicles', 'off-road', 'over-large', 'plant', 'misguided', 'optimism', 'Cursed', 'dissatisfied', 'stockholders', 'amalgamation', 'mergers', 'consequences', \"Herberet's\", \"Allstates'\", 'Wisconsin', 'folly', 'conversion', 'airplane', 'sub-assembly', 'tanks', 'missiles', 'ordnance', 'desiring', 'Freed', 'complaisant', 'broader', 'overall', 'administration', 'corporate', 'structure', 'wider', 'allied', 'enchanted', 'proposition', 'Hamrick', 'Chrysler', 'acquainted', 'hardware', 'Air', 'Force', 'technical', 'Missiles', 'grabs', 'manned', 'aircraft', 'affects', 'procurement', 'jet', 'transports', 'revolutionized', 'airline', 'compound-engine', 'planes', 'companies', 'competition', 'assembled', 'settles', 'bound', 'pages', 'assures', 'raising', 'Ham', 'Richert', 'legal', 'exhibit', 'deadly', 'dampening', 'elderly', 'caution', 'appreciate', 'lukewarm', 'entering', 'fray', 'cudgels', 'prospect', 'mix', 'commercial', 'patriarchy', 'aide', 'Hamilton', 'prevailed', 'devoting', 'swaying', 'dismissed', 'project', 'unwilling', 'interfere', 'transfers', 'hyphenated', 'automobile', 'promotion', 'Clay', 'backing', 'deficit', 'beset', 'deliver', 'elephant', 'Stock', 'abundance', 'Confronted', 'plumped', 'drastic', 'liquidation', 'summoned', 'bind', 'addition', 'defects', 'closeted', 'motor', 'existence', \"A-Z's\", 'set-up', 'exposure', 'conceptions', \"Hamrick's\", 'coincidental', 'failure', 'out-dated', 'small-car', 'manufacturer', 'Ticonderoga', 'Motors', 'dimensions', 'broach', 'Initially', 'passenger', 'discouraging', 'models', 'founding', 'nationwide', 'dealerships', 'cheaply', 'presses', 'dies', 'precisely', 'hurdle', 'insurmountable', 'investigate', 'marshal', 'statistics', 'arguments', 'Taking', 'dubious', 'alternative', 'breathtaking', 'frank', 'resolve', 'gantlet', 'guarantee', 'audience', 'advocating', 'publicly', 'Forgive', 'attended', 'staff', 'presiding', 'incredulity', 'listeners', 'animosity', 'quarrels', 'transact', 'larger', 'low-priced', 'bucking', 'old-fashioned', 'sell', 'economy', 'merit', \"We've\", 'romance', 'snobbery', 'European', 'woo', 'consumer', 'bludgeon', 'chromed', 'excess', 'seduction', 'dealers', 'ready-made', 'steam', 'yachts', 'Georgian', 'bloated', 'too-expensive', 'Allstates-Zenith', 'debate', 'raged', 'Financing', 'emerged', 'obstacle', 'contributed', 'maximum', 'underwrite', 'department', 'risk', 'risky', 'basis', 'capital', 'Heads', 'instinctively', 'onus', 'recriminations', 'broadcast', 'availing', 'in-laws', 'Sweat', 'forehead', 'disquietude', 'Across', 'saluted', 'jubilantly', 'encircled', 'forefinger', 'Spike-haired', 'burly', 'red-faced', 'decked', 'horn-rimmed', \"officers'\", 'expect', 'episode']\n",
            "                  0    1    2    3    4    5    6    7    8    9 \n",
            "       English    0  185  525  883  997 1166 1283 1440 1558 1638 \n",
            "German_Deutsch    0  171  263  614  717  894 1013 1110 1213 1275 \n"
          ]
        }
      ]
    },
    {
      "cell_type": "markdown",
      "source": [
        "**D.\tStudy of Tagged Corpora with methods like tagged_sents, tagged_words**"
      ],
      "metadata": {
        "id": "TrGjvDmR9Fce"
      }
    },
    {
      "cell_type": "code",
      "source": [
        "import nltk\n",
        "from nltk import tokenize\n",
        "nltk.download('punkt')\n",
        "nltk.download('words')\n",
        "para = \"Hello! My name is Sneha Pawar. Today we'll be learning NLTK. It is one of the powerful library of NLP\"\n",
        "sents = tokenize.sent_tokenize(para)\n",
        "print(\"\\nsentence tokenization\\n===================\\n\",sents)\n",
        "# word tokenization\n",
        "print(\"\\nword tokenization\\n===================\\n\")\n",
        "for index in range(len(sents)):\n",
        " words = tokenize.word_tokenize(sents[index])\n",
        " print(words)\n"
      ],
      "metadata": {
        "colab": {
          "base_uri": "https://localhost:8080/"
        },
        "id": "eAf_s3MT9SmO",
        "outputId": "b7435fb0-598f-4b0f-ac5e-9fa46010039e"
      },
      "execution_count": null,
      "outputs": [
        {
          "output_type": "stream",
          "name": "stdout",
          "text": [
            "[nltk_data] Downloading package punkt to /root/nltk_data...\n",
            "[nltk_data]   Package punkt is already up-to-date!\n",
            "[nltk_data] Downloading package words to /root/nltk_data...\n",
            "[nltk_data]   Package words is already up-to-date!\n",
            "\n",
            "sentence tokenization\n",
            "===================\n",
            " ['Hello!', 'My name is Sneha Pawar.', \"Today we'll be learning NLTK.\", 'It is one of the powerful library of NLP']\n",
            "\n",
            "word tokenization\n",
            "===================\n",
            "\n",
            "['Hello', '!']\n",
            "['My', 'name', 'is', 'Sneha', 'Pawar', '.']\n",
            "['Today', 'we', \"'ll\", 'be', 'learning', 'NLTK', '.']\n",
            "['It', 'is', 'one', 'of', 'the', 'powerful', 'library', 'of', 'NLP']\n"
          ]
        }
      ]
    },
    {
      "cell_type": "markdown",
      "source": [
        "**E.\tWrite a program to find the most frequent noun tags**"
      ],
      "metadata": {
        "id": "CA6jfh3-9VdW"
      }
    },
    {
      "cell_type": "code",
      "source": [
        "import nltk\n",
        "nltk.download('averaged_perceptron_tagger')\n",
        "from collections import defaultdict\n",
        "text = nltk.word_tokenize(\"Kane Williamson is a kiwi cricketer whereas MS Dhoni is an Indian cricketer..\")\n",
        "tagged = nltk.pos_tag(text)\n",
        "print(tagged)\n",
        "# checking if it is a noun or not\n",
        "addNounWords = []\n",
        "count=0\n",
        "for words in tagged:\n",
        " val = tagged[count][1]\n",
        " if(val == 'NN' or val == 'NNS' or val == 'NNPS' or val == 'NNP'):\n",
        "  addNounWords.append(tagged[count][0])\n",
        "count+=1\n",
        "print (addNounWords)\n",
        "temp = defaultdict(int)\n",
        "# memoizing count\n",
        "for sub in addNounWords:\n",
        " for wrd in sub.split():\n",
        "  temp[wrd] += 1\n",
        "# getting max frequency\n",
        "res = max(temp, key=temp.get)\n",
        "# printing result\n",
        "print(\"Word with maximum frequency : \" + str(res))\n"
      ],
      "metadata": {
        "colab": {
          "base_uri": "https://localhost:8080/"
        },
        "id": "3O8URpLA9e0G",
        "outputId": "fba47034-3195-4a10-c059-4ecff72c579f"
      },
      "execution_count": null,
      "outputs": [
        {
          "output_type": "stream",
          "name": "stdout",
          "text": [
            "[nltk_data] Downloading package averaged_perceptron_tagger to\n",
            "[nltk_data]     /root/nltk_data...\n",
            "[nltk_data]   Unzipping taggers/averaged_perceptron_tagger.zip.\n",
            "[('Kane', 'NNP'), ('Williamson', 'NNP'), ('is', 'VBZ'), ('a', 'DT'), ('kiwi', 'NN'), ('cricketer', 'NN'), ('whereas', 'IN'), ('MS', 'NNP'), ('Dhoni', 'NNP'), ('is', 'VBZ'), ('an', 'DT'), ('Indian', 'JJ'), ('cricketer..', 'NN')]\n",
            "['Kane', 'Kane', 'Kane', 'Kane', 'Kane', 'Kane', 'Kane', 'Kane', 'Kane', 'Kane', 'Kane', 'Kane', 'Kane']\n",
            "Word with maximum frequency : Kane\n"
          ]
        }
      ]
    },
    {
      "cell_type": "markdown",
      "source": [
        "**F.\tMap Words to Properties using Python Dictionaries**"
      ],
      "metadata": {
        "id": "wh6B4THD9hlu"
      }
    },
    {
      "cell_type": "code",
      "source": [
        "#creating and printing a dictionay by mapping word with its properties\n",
        "thisdict = {\n",
        " \"brand\": \"Ford\",\n",
        " \"model\": \"Mustang\",\n",
        " \"year\": 1964\n",
        "}\n",
        "print(thisdict)\n",
        "print(thisdict[\"brand\"])\n",
        "print(len(thisdict))\n",
        "print(type(thisdict))\n"
      ],
      "metadata": {
        "colab": {
          "base_uri": "https://localhost:8080/"
        },
        "id": "jBIakhuZ9m93",
        "outputId": "b4e92297-6a45-41be-fb12-ac3690b11255"
      },
      "execution_count": null,
      "outputs": [
        {
          "output_type": "stream",
          "name": "stdout",
          "text": [
            "{'brand': 'Ford', 'model': 'Mustang', 'year': 1964}\n",
            "Ford\n",
            "3\n",
            "<class 'dict'>\n"
          ]
        }
      ]
    },
    {
      "cell_type": "markdown",
      "source": [
        "**G.\tStudy i) default Tagger ii) Regular expression tagger iii) Unigram tagger**\n",
        "\n"
      ],
      "metadata": {
        "id": "N0jzJumK9rL-"
      }
    },
    {
      "cell_type": "markdown",
      "source": [
        "**i)\tDefault Tagger**"
      ],
      "metadata": {
        "id": "dj_u_-OKIjqQ"
      }
    },
    {
      "cell_type": "code",
      "source": [
        "import nltk\n",
        "nltk.download('treebank')\n",
        "from nltk.tag import DefaultTagger\n",
        "exptagger = DefaultTagger('NN')\n",
        "from nltk.corpus import treebank\n",
        "testsentences = treebank.tagged_sents() [1000:]\n",
        "print(exptagger.evaluate (testsentences))\n",
        "#Tagging a list of sentences\n",
        "import nltk\n",
        "from nltk.tag import DefaultTagger\n",
        "exptagger = DefaultTagger('NN')\n",
        "print(exptagger.tag_sents([['Hi', ','], ['How', 'are', 'you', '?']]))\n"
      ],
      "metadata": {
        "colab": {
          "base_uri": "https://localhost:8080/"
        },
        "id": "73eiOBJ294qk",
        "outputId": "6ec41bf9-4fe6-431c-c800-8174164296aa"
      },
      "execution_count": null,
      "outputs": [
        {
          "output_type": "stream",
          "name": "stdout",
          "text": [
            "[nltk_data] Downloading package treebank to /root/nltk_data...\n",
            "[nltk_data]   Unzipping corpora/treebank.zip.\n",
            "0.13198749536374715\n",
            "[[('Hi', 'NN'), (',', 'NN')], [('How', 'NN'), ('are', 'NN'), ('you', 'NN'), ('?', 'NN')]]\n"
          ]
        }
      ]
    },
    {
      "cell_type": "markdown",
      "source": [
        "**ii)\tRegular expression tagger**"
      ],
      "metadata": {
        "id": "a3P-2QEE9_39"
      }
    },
    {
      "cell_type": "code",
      "source": [
        "from nltk.corpus import brown\n",
        "from nltk.tag import RegexpTagger\n",
        "test_sent = brown.sents(categories='news')[0]\n",
        "regexp_tagger = RegexpTagger(\n",
        " [(r'^-?[0-9]+(.[0-9]+)?$', 'CD'), # cardinal numbers\n",
        " (r'(The|the|A|a|An|an)$', 'AT'), # articles\n",
        " (r'.*able$', 'JJ'), # adjectives\n",
        " (r'.*ness$', 'NN'), # nouns formed from adjectives\n",
        "(r'.*ly$', 'RB'), # adverbs\n",
        " (r'.*s$', 'NNS'), # plural nouns\n",
        " (r'.*ing$', 'VBG'), # gerunds\n",
        " (r'.*ed$', 'VBD'), # past tense verbs\n",
        " (r'.*', 'NN') # nouns (default)\n",
        "])\n",
        "print(regexp_tagger)\n",
        "print(regexp_tagger.tag(test_sent))\n"
      ],
      "metadata": {
        "colab": {
          "base_uri": "https://localhost:8080/"
        },
        "id": "6fdIj-Mq-BPF",
        "outputId": "dfa0a275-8aba-43a7-a353-350231924a59"
      },
      "execution_count": null,
      "outputs": [
        {
          "output_type": "stream",
          "name": "stdout",
          "text": [
            "<Regexp Tagger: size=9>\n",
            "[('The', 'AT'), ('Fulton', 'NN'), ('County', 'NN'), ('Grand', 'NN'), ('Jury', 'NN'), ('said', 'NN'), ('Friday', 'NN'), ('an', 'AT'), ('investigation', 'NN'), ('of', 'NN'), (\"Atlanta's\", 'NNS'), ('recent', 'NN'), ('primary', 'NN'), ('election', 'NN'), ('produced', 'VBD'), ('``', 'NN'), ('no', 'NN'), ('evidence', 'NN'), (\"''\", 'NN'), ('that', 'NN'), ('any', 'NN'), ('irregularities', 'NNS'), ('took', 'NN'), ('place', 'NN'), ('.', 'NN')]\n"
          ]
        }
      ]
    },
    {
      "cell_type": "markdown",
      "source": [
        "**iii)\tUnigram Tagger**"
      ],
      "metadata": {
        "id": "U104JUIw-JsV"
      }
    },
    {
      "cell_type": "code",
      "source": [
        "# Loading Libraries\n",
        "from nltk.tag import UnigramTagger\n",
        "from nltk.corpus import treebank\n",
        "# Training using first 10 tagged sentences of the treebank corpus as data.\n",
        "# Using data\n",
        "train_sents = treebank.tagged_sents()[:10]\n",
        " \n",
        "# Initializing\n",
        "tagger = UnigramTagger(train_sents)\n",
        " \n",
        "# Lets see the first sentence \n",
        "# (of the treebank corpus) as list \n",
        "print(treebank.sents()[0])\n",
        "print('\\n',tagger.tag(treebank.sents()[0]))\n",
        "#Finding the tagged results after training.\n",
        "tagger.tag(treebank.sents()[0])\n",
        "#Overriding the context model\n",
        "tagger = UnigramTagger(model ={'Pierre': 'NN'})\n",
        "print('\\n',tagger.tag(treebank.sents()[0]))\n"
      ],
      "metadata": {
        "colab": {
          "base_uri": "https://localhost:8080/"
        },
        "id": "FofFL3HU-Ns_",
        "outputId": "f7ae7f63-e8a0-463a-925b-c29f8f7e2234"
      },
      "execution_count": null,
      "outputs": [
        {
          "output_type": "stream",
          "name": "stdout",
          "text": [
            "['Pierre', 'Vinken', ',', '61', 'years', 'old', ',', 'will', 'join', 'the', 'board', 'as', 'a', 'nonexecutive', 'director', 'Nov.', '29', '.']\n",
            "\n",
            " [('Pierre', 'NNP'), ('Vinken', 'NNP'), (',', ','), ('61', 'CD'), ('years', 'NNS'), ('old', 'JJ'), (',', ','), ('will', 'MD'), ('join', 'VB'), ('the', 'DT'), ('board', 'NN'), ('as', 'IN'), ('a', 'DT'), ('nonexecutive', 'JJ'), ('director', 'NN'), ('Nov.', 'NNP'), ('29', 'CD'), ('.', '.')]\n",
            "\n",
            " [('Pierre', 'NN'), ('Vinken', None), (',', None), ('61', None), ('years', None), ('old', None), (',', None), ('will', None), ('join', None), ('the', None), ('board', None), ('as', None), ('a', None), ('nonexecutive', None), ('director', None), ('Nov.', None), ('29', None), ('.', None)]\n"
          ]
        }
      ]
    },
    {
      "cell_type": "markdown",
      "source": [
        "**H.\tFind different words from a given plain text without any space by comparing this text with a given corpus of words. Also find score of words.**"
      ],
      "metadata": {
        "id": "KbLJVMdq-R8N"
      }
    },
    {
      "cell_type": "code",
      "source": [
        "from __future__ import with_statement #with statement for reading file\n",
        "import re # Regular expression\n",
        "words = [] # corpus file words\n",
        "testword = [] # test words \n",
        "ans = [] # words matches with corpus\n",
        "print(\"MENU\")\n",
        "print(\"-----------\")\n",
        "print(\" 1 . Hash tag segmentation \")\n",
        "print(\" 2 . URL segmentation \")\n",
        "print(\"enter the input choice for performing word segmentation\")\n"
      ],
      "metadata": {
        "colab": {
          "base_uri": "https://localhost:8080/"
        },
        "id": "KywvOHc1-WEM",
        "outputId": "4eef444c-17cd-43f5-861d-9c71ada5c4ef"
      },
      "execution_count": null,
      "outputs": [
        {
          "output_type": "stream",
          "name": "stdout",
          "text": [
            "MENU\n",
            "-----------\n",
            " 1 . Hash tag segmentation \n",
            " 2 . URL segmentation \n",
            "enter the input choice for performing word segmentation\n"
          ]
        }
      ]
    },
    {
      "cell_type": "code",
      "source": [
        "choice = int(input())\n",
        "if choice == 1:\n",
        "  text = \"#whatismyname\" # hash tag test data to segment\n",
        "  print(\"input with HashTag\",text)\n",
        "  pattern=re.compile(\"[^\\w']\")\n",
        "  a = pattern.sub('', text)\n",
        "elif choice == 2:\n",
        "  text = \"www.whatismyname.com\" # url test data to segment\n",
        "  print(\"input with URL\",text) \n",
        "  a=re.split('\\s|(?<!\\d)[,.](?!\\d)', text)\n",
        "  splitwords = [\"www\",\"com\",\"in\"] # remove the words which is containg in the list\n",
        "  a =\"\".join([each for each in a if each not in splitwords])\n",
        "else:\n",
        "  print(\"wrong choice...try again\")\n",
        "  print(a)\n"
      ],
      "metadata": {
        "colab": {
          "base_uri": "https://localhost:8080/"
        },
        "id": "emmvMDQb-hmh",
        "outputId": "ca3d27fc-5855-4bc3-9a3c-0342d2c7e048"
      },
      "execution_count": null,
      "outputs": [
        {
          "output_type": "stream",
          "name": "stdout",
          "text": [
            "1\n",
            "input with HashTag #whatismyname\n"
          ]
        }
      ]
    },
    {
      "cell_type": "code",
      "source": [
        "choice = int(input())\n",
        "if choice == 1:\n",
        "  text = \"#whatismyname\" # hash tag test data to segment\n",
        "  print(\"input with HashTag\",text)\n",
        "  pattern=re.compile(\"[^\\w']\")\n",
        "  a = pattern.sub('', text)\n",
        "elif choice == 2:\n",
        "  text = \"www.whatismyname.com\" # url test data to segment\n",
        "  print(\"input with URL\",text) \n",
        "  a=re.split('\\s|(?<!\\d)[,.](?!\\d)', text)\n",
        "  splitwords = [\"www\",\"com\",\"in\"] # remove the words which is containg in the list\n",
        "  a =\"\".join([each for each in a if each not in splitwords])\n",
        "else:\n",
        "  print(\"wrong choice...try again\")\n",
        "  print(a)"
      ],
      "metadata": {
        "colab": {
          "base_uri": "https://localhost:8080/"
        },
        "id": "_qJOwxFWAJE7",
        "outputId": "3ecc660e-e0d1-4783-cdfb-b868cb560912"
      },
      "execution_count": null,
      "outputs": [
        {
          "output_type": "stream",
          "name": "stdout",
          "text": [
            "1\n",
            "input with HashTag #whatismyname\n"
          ]
        }
      ]
    },
    {
      "cell_type": "code",
      "source": [
        "for each in a:\n",
        " testword.append(each) #test word \n",
        "test_lenth = len(testword) # lenth of the test data\n",
        "# Reading the corpus\n",
        "with open('/SampleText.txt', 'r') as f:\n",
        " lines = f.readlines()\n",
        " words =[(e.strip()) for e in lines]\n",
        "def Seg(a,lenth):\n",
        " ans =[]\n",
        " for k in range(0,lenth+1): # this loop checks char by char in the corpus\n",
        "    if a[0:k] in words:\n",
        "      print(a[0:k],\"-appears in the corpus\")\n",
        "      ans.append(a[0:k]) \n",
        "      break\n",
        " if ans != []:\n",
        "  g = max(ans,key=len)\n",
        "  return g\n",
        "test_tot_itr = 0 #each iteration value\n",
        "answer = [] # Store the each word contains the corpus\n",
        "Score = 0 \n",
        "N = 37 # total no of corpus\n",
        "M = 0\n",
        "C = 0\n",
        "while test_tot_itr < test_lenth: \n",
        " ans_words = Seg(a,test_lenth)\n",
        " if ans_words != 0:\n",
        "  test_itr = len(ans_words)\n",
        "  answer.append(ans_words)\n",
        "  a = a[test_itr:test_lenth]\n",
        "  test_tot_itr += test_itr\n",
        "Aft_Seg = \" \".join([each for each in answer])\n",
        "# print segmented words in the list\n",
        "print(\"output\")\n",
        "print(\"---------\")\n",
        "print(Aft_Seg) # print After segmentation the input\n",
        "# Calculating Score\n",
        "C = len(answer)\n",
        "score = C * N / N # Calculate the score\n",
        "print(\"Score\",score)\n"
      ],
      "metadata": {
        "colab": {
          "base_uri": "https://localhost:8080/"
        },
        "id": "7H3Y9-paEpAr",
        "outputId": "8d119b8b-1942-4d51-d6f4-3ae0965835fc"
      },
      "execution_count": null,
      "outputs": [
        {
          "output_type": "stream",
          "name": "stdout",
          "text": [
            "what -appears in the corpus\n",
            "is -appears in the corpus\n",
            "my -appears in the corpus\n",
            "name -appears in the corpus\n",
            "output\n",
            "---------\n",
            "what is my name\n",
            "Score 4.0\n"
          ]
        }
      ]
    }
  ]
}