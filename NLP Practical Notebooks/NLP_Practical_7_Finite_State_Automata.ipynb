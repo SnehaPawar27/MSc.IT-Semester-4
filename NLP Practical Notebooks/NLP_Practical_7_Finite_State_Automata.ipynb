{
  "nbformat": 4,
  "nbformat_minor": 0,
  "metadata": {
    "colab": {
      "name": "NLP Practical 7 Finite State Automata.ipynb",
      "provenance": [],
      "collapsed_sections": []
    },
    "kernelspec": {
      "name": "python3",
      "display_name": "Python 3"
    },
    "language_info": {
      "name": "python"
    }
  },
  "cells": [
    {
      "cell_type": "markdown",
      "source": [
        "**A.\tDefine grammar using nltk. Analyze a sentence using the same.**\n",
        "\n",
        "**Executed on Python IDLE.**"
      ],
      "metadata": {
        "id": "x1vuuE8aLn-S"
      }
    },
    {
      "cell_type": "markdown",
      "source": [
        "**B.\tAccept the input string with regular expression of finite automation: 101+**"
      ],
      "metadata": {
        "id": "GMcK9bt-Xyki"
      }
    },
    {
      "cell_type": "code",
      "source": [
        "def FA(s):\n",
        "#if the length is less than 3 then it can't be accepted, Therefore end the process.\n",
        "    if len(s)<3:\n",
        "        return \"Rejected\"\n",
        "#first three characters are fixed. Therefore, checking them using index\n",
        "    if s[0]=='1':\n",
        "        if s[1]=='0':\n",
        "            if s[2]=='1':\n",
        "# After index 2 only \"1\" can appear. Therefore break the process if any other character is detected\n",
        "              for i in range(3,len(s)):\n",
        "                if s[i]!='1':\n",
        "                  return \"Rejected\"\n",
        "                  return \"Accepted\"\n",
        "                  return \"Rejected\"\n",
        "                  return \"Rejected\"\n",
        "                  return \"Rejected\"\n",
        "inputs=['1','10101','101','10111','01010','100','','10111101','1011111']\n",
        "for i in inputs:\n",
        "  print(FA(i))\n"
      ],
      "metadata": {
        "colab": {
          "base_uri": "https://localhost:8080/"
        },
        "id": "WnieyGb7SnlI",
        "outputId": "0f8ad549-4ea1-4c0c-ea31-6c446c1847fa"
      },
      "execution_count": null,
      "outputs": [
        {
          "output_type": "stream",
          "name": "stdout",
          "text": [
            "Rejected\n",
            "Rejected\n",
            "None\n",
            "None\n",
            "None\n",
            "None\n",
            "Rejected\n",
            "Rejected\n",
            "None\n"
          ]
        }
      ]
    },
    {
      "cell_type": "markdown",
      "source": [
        "**C.\tAccept the input string with Regular expression of FA: (a+b)*bba.**"
      ],
      "metadata": {
        "id": "9tTrIHOKYBXc"
      }
    },
    {
      "cell_type": "code",
      "source": [
        "def FA(s):\n",
        "    size=0\n",
        "    #scan complete string and make sure that it contains only 'a' & 'b'\n",
        "    for i in s:\n",
        "        if i=='a' or i=='b':\n",
        "            size+=1\n",
        "        else:\n",
        "            return \"Rejected\"\n",
        "    #After checking that it contains only 'a' & 'b'\n",
        "    #check it's length it should be 3 atleast\n",
        "    if size>=3:\n",
        "        #check the last 3 elements\n",
        "        if s[size-3]=='b':\n",
        "            if s[size-2]=='b':\n",
        "                if s[size-1]=='a':\n",
        "                    return \"Accepted\"\n",
        "                return \"Rejected\"\n",
        "            return \"Rejected\"\n",
        "        return \"Rejected\"\n",
        "    return \"Rejected\"\n",
        "inputs=['bba', 'ababbba', 'abba','abb', 'baba','bbb','']\n",
        "for i in inputs:\n",
        "    print(FA(i))\n"
      ],
      "metadata": {
        "colab": {
          "base_uri": "https://localhost:8080/"
        },
        "id": "kIolcPTDW9qT",
        "outputId": "c1078d24-3413-4cef-a0ad-b5024b7e714e"
      },
      "execution_count": null,
      "outputs": [
        {
          "output_type": "stream",
          "name": "stdout",
          "text": [
            "Accepted\n",
            "Accepted\n",
            "Accepted\n",
            "Rejected\n",
            "Rejected\n",
            "Rejected\n",
            "Rejected\n"
          ]
        }
      ]
    }
  ]
}