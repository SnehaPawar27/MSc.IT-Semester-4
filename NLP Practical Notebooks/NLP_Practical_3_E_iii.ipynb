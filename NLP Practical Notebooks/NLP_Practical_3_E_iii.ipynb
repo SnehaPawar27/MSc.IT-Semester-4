{
  "nbformat": 4,
  "nbformat_minor": 0,
  "metadata": {
    "colab": {
      "name": "NLP Practical 3.E-iii.ipynb",
      "provenance": [],
      "collapsed_sections": []
    },
    "kernelspec": {
      "name": "python3",
      "display_name": "Python 3"
    },
    "language_info": {
      "name": "python"
    }
  },
  "cells": [
    {
      "cell_type": "code",
      "execution_count": null,
      "metadata": {
        "colab": {
          "base_uri": "https://localhost:8080/"
        },
        "id": "GzUbi3nk6vHo",
        "outputId": "22d40e96-f04f-4199-f55e-240e4e9ed7b2"
      },
      "outputs": [
        {
          "output_type": "stream",
          "name": "stdout",
          "text": [
            "[nltk_data] Downloading package punkt to /root/nltk_data...\n",
            "[nltk_data]   Unzipping tokenizers/punkt.zip.\n",
            "['Yashesh', 'likes', 'football', ',', 'fond', 'tennis', '.']\n"
          ]
        }
      ],
      "source": [
        "import spacy\n",
        "import nltk\n",
        "nltk.download('punkt')\n",
        "from nltk.tokenize import word_tokenize\n",
        "sp = spacy.load('en_core_web_sm')\n",
        "#add the word play to the NLTK stop word collection\n",
        "all_stopwords = sp.Defaults.stop_words\n",
        "all_stopwords.add(\"play\")\n",
        "text = \"Yashesh likes to play football, however he is not too fond of tennis.\"\n",
        "text_tokens = word_tokenize(text)\n",
        "tokens_without_sw = [word for word in text_tokens if not word in all_stopwords]\n",
        "print(tokens_without_sw)"
      ]
    },
    {
      "cell_type": "code",
      "source": [
        "#remove 'not' from stop word collection\n",
        "all_stopwords.remove('not')\n",
        "tokens_without_sw = [word for word in text_tokens if not word in all_stopwords]\n",
        "print(tokens_without_sw) \n"
      ],
      "metadata": {
        "colab": {
          "base_uri": "https://localhost:8080/"
        },
        "id": "vKKL2PMd62l3",
        "outputId": "126902f6-ccbf-494d-a337-fd08ac5245da"
      },
      "execution_count": null,
      "outputs": [
        {
          "output_type": "stream",
          "name": "stdout",
          "text": [
            "['Yashesh', 'likes', 'football', ',', 'not', 'fond', 'tennis', '.']\n"
          ]
        }
      ]
    }
  ]
}